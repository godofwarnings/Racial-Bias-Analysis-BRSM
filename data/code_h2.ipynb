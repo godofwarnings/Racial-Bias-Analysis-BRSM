{
 "cells": [
  {
   "cell_type": "code",
   "execution_count": 35,
   "metadata": {},
   "outputs": [],
   "source": [
    "import numpy as np \n",
    "import pandas as pd\n",
    "import glob\n",
    "import os\n",
    "from tqdm import tqdm\n",
    "import re\n",
    "import plotly.graph_objects as go\n",
    "\n",
    "from statsmodels.formula.api import ols\n",
    "from statsmodels.stats.anova import anova_lm"
   ]
  },
  {
   "cell_type": "code",
   "execution_count": 2,
   "metadata": {},
   "outputs": [],
   "source": [
    "def calculate_searches_by_race(df):\n",
    "    searched_df = df[df['search_conducted'] == True]\n",
    "    searches_by_race = searched_df.groupby('subject_race').size().reset_index(name='searches_count')\n",
    "    searches_by_race = searches_by_race.set_index('subject_race')\n",
    "    return searches_by_race"
   ]
  },
  {
   "cell_type": "code",
   "execution_count": 3,
   "metadata": {},
   "outputs": [],
   "source": [
    "def calculate_stops_by_race(df):\n",
    "    stops_by_race = df.groupby('subject_race').size().reset_index(name='stops_count')\n",
    "    stops_by_race = stops_by_race.set_index('subject_race')\n",
    "    return stops_by_race"
   ]
  },
  {
   "cell_type": "code",
   "execution_count": 4,
   "metadata": {},
   "outputs": [],
   "source": [
    "def extract_filename(filenames):\n",
    "    \"\"\"\n",
    "    Extracts the filename without extension from a list of filenames with paths.\n",
    "    \n",
    "    Args:\n",
    "        filenames (list): A list of filenames with paths.\n",
    "        \n",
    "    Returns:\n",
    "        list: A list of filenames without extensions.\n",
    "    \"\"\"\n",
    "    filenames_without_ext = []\n",
    "    for filename in filenames:\n",
    "        # Split the filename into the path and the filename with extension\n",
    "        path, filename_with_ext = os.path.split(filename)\n",
    "        \n",
    "        # Split the filename with extension into the filename and the extension\n",
    "        filename, ext = os.path.splitext(filename_with_ext)\n",
    "        \n",
    "        filenames_without_ext.append(filename)\n",
    "    \n",
    "    return filenames_without_ext"
   ]
  },
  {
   "cell_type": "code",
   "execution_count": 5,
   "metadata": {},
   "outputs": [],
   "source": [
    "def reformat_filename(filename):\n",
    "    # Extract state name until first underscore\n",
    "    state_match = re.match(r'^([^_]+)', filename)\n",
    "    state = state_match.group(1)\n",
    "    \n",
    "    # Extract city name until underscore followed by number\n",
    "    city_match = re.match(r'^[a-zA-Z]+_(.+?)_\\d{4}_\\d{2}_\\d{2}', filename)\n",
    "    city = city_match.group(1)\n",
    "    \n",
    "    # Dictionary mapping state abbreviations to full state names\n",
    "    state_names = {\n",
    "        \"al\": \"Alabama\", \"ak\": \"Alaska\", \"az\": \"Arizona\", \"ar\": \"Arkansas\",\n",
    "        \"ca\": \"California\", \"co\": \"Colorado\", \"ct\": \"Connecticut\", \"de\": \"Delaware\",\n",
    "        \"fl\": \"Florida\", \"ga\": \"Georgia\", \"hi\": \"Hawaii\", \"id\": \"Idaho\",\n",
    "        \"il\": \"Illinois\", \"in\": \"Indiana\", \"ia\": \"Iowa\", \"ks\": \"Kansas\",\n",
    "        \"ky\": \"Kentucky\", \"la\": \"Louisiana\", \"me\": \"Maine\", \"md\": \"Maryland\",\n",
    "        \"ma\": \"Massachusetts\", \"mi\": \"Michigan\", \"mn\": \"Minnesota\", \"ms\": \"Mississippi\",\n",
    "        \"mo\": \"Missouri\", \"mt\": \"Montana\", \"ne\": \"Nebraska\", \"nv\": \"Nevada\",\n",
    "        \"nh\": \"New Hampshire\", \"nj\": \"New Jersey\", \"nm\": \"New Mexico\", \"ny\": \"New York\",\n",
    "        \"nc\": \"North Carolina\", \"nd\": \"North Dakota\", \"oh\": \"Ohio\", \"ok\": \"Oklahoma\",\n",
    "        \"or\": \"Oregon\", \"pa\": \"Pennsylvania\", \"ri\": \"Rhode Island\", \"sc\": \"South Carolina\",\n",
    "        \"sd\": \"South Dakota\", \"tn\": \"Tennessee\", \"tx\": \"Texas\", \"ut\": \"Utah\",\n",
    "        \"vt\": \"Vermont\", \"va\": \"Virginia\", \"wa\": \"Washington\", \"wv\": \"West Virginia\",\n",
    "        \"wi\": \"Wisconsin\", \"wy\": \"Wyoming\"\n",
    "    }\n",
    "    \n",
    "    state_name = state_names.get(state.lower(), state)\n",
    "    city_name = city.replace(\"_\", \" \").capitalize()\n",
    "    \n",
    "    return f\"{city_name}, {state_name}\""
   ]
  },
  {
   "cell_type": "code",
   "execution_count": 6,
   "metadata": {},
   "outputs": [
    {
     "name": "stdout",
     "output_type": "stream",
     "text": [
      "['mn_saint_paul_2020_04_01', 'nc_winston-salem_2020_04_01', 'nc_durham_2020_04_01', 'ca_san_diego_2020_04_01', 'nc_greensboro_2020_04_01', 'ct_hartford_2020_04_01', 'tx_austin_2020_04_01', 'vt_burlington_2023_01_26', 'nc_raleigh_2020_04_01', 'ca_oakland_2020_04_01', 'ky_louisville_2023_01_26', 'ca_stockton_2020_04_01', 'ri_statewide_2020_04_01', 'pa_philadelphia_2020_04_01', 'tx_san_antonio_2023_01_26', 'ca_san_francisco_2020_04_01', 'la_new_orleans_2020_04_01', 'tx_plano_2020_04_01']\n"
     ]
    },
    {
     "name": "stderr",
     "output_type": "stream",
     "text": [
      "Processing csv:   0%|          | 0/18 [00:00<?, ?csv/s]"
     ]
    },
    {
     "name": "stdout",
     "output_type": "stream",
     "text": [
      "Loading ./data_h2/mn_saint_paul_2020_04_01.csv\n"
     ]
    },
    {
     "name": "stderr",
     "output_type": "stream",
     "text": [
      "/tmp/ipykernel_478/2571204446.py:17: DtypeWarning: Columns (10) have mixed types. Specify dtype option on import or set low_memory=False.\n",
      "  df = pd.read_csv(filename, index_col=None, header=0)\n",
      "Processing csv:   6%|▌         | 1/18 [00:00<00:15,  1.07csv/s]"
     ]
    },
    {
     "name": "stdout",
     "output_type": "stream",
     "text": [
      "Loaded ./data_h2/mn_saint_paul_2020_04_01.csv\n",
      "Loading ./data_h2/nc_winston-salem_2020_04_01.csv\n"
     ]
    },
    {
     "name": "stderr",
     "output_type": "stream",
     "text": [
      "/tmp/ipykernel_478/2571204446.py:17: DtypeWarning: Columns (23) have mixed types. Specify dtype option on import or set low_memory=False.\n",
      "  df = pd.read_csv(filename, index_col=None, header=0)\n",
      "Processing csv:  11%|█         | 2/18 [00:02<00:17,  1.10s/csv]"
     ]
    },
    {
     "name": "stdout",
     "output_type": "stream",
     "text": [
      "Loaded ./data_h2/nc_winston-salem_2020_04_01.csv\n",
      "Loading ./data_h2/nc_durham_2020_04_01.csv\n"
     ]
    },
    {
     "name": "stderr",
     "output_type": "stream",
     "text": [
      "Processing csv:  17%|█▋        | 3/18 [00:03<00:15,  1.02s/csv]"
     ]
    },
    {
     "name": "stdout",
     "output_type": "stream",
     "text": [
      "Loaded ./data_h2/nc_durham_2020_04_01.csv\n",
      "Loading ./data_h2/ca_san_diego_2020_04_01.csv\n"
     ]
    },
    {
     "name": "stderr",
     "output_type": "stream",
     "text": [
      "Processing csv:  22%|██▏       | 4/18 [00:03<00:13,  1.05csv/s]"
     ]
    },
    {
     "name": "stdout",
     "output_type": "stream",
     "text": [
      "Loaded ./data_h2/ca_san_diego_2020_04_01.csv\n",
      "Loading ./data_h2/nc_greensboro_2020_04_01.csv\n"
     ]
    },
    {
     "name": "stderr",
     "output_type": "stream",
     "text": [
      "Processing csv:  28%|██▊       | 5/18 [00:05<00:15,  1.16s/csv]"
     ]
    },
    {
     "name": "stdout",
     "output_type": "stream",
     "text": [
      "Loaded ./data_h2/nc_greensboro_2020_04_01.csv\n",
      "Loading ./data_h2/ct_hartford_2020_04_01.csv\n",
      "Loaded ./data_h2/ct_hartford_2020_04_01.csv\n",
      "Loading ./data_h2/tx_austin_2020_04_01.csv\n"
     ]
    },
    {
     "name": "stderr",
     "output_type": "stream",
     "text": [
      "Processing csv:  39%|███▉      | 7/18 [00:06<00:09,  1.12csv/s]/tmp/ipykernel_478/2571204446.py:17: DtypeWarning: Columns (20,21) have mixed types. Specify dtype option on import or set low_memory=False.\n",
      "  df = pd.read_csv(filename, index_col=None, header=0)\n",
      "Processing csv:  44%|████▍     | 8/18 [00:06<00:07,  1.42csv/s]"
     ]
    },
    {
     "name": "stdout",
     "output_type": "stream",
     "text": [
      "Loaded ./data_h2/tx_austin_2020_04_01.csv\n",
      "Loading ./data_h2/vt_burlington_2023_01_26.csv\n",
      "Loaded ./data_h2/vt_burlington_2023_01_26.csv\n",
      "Loading ./data_h2/nc_raleigh_2020_04_01.csv\n"
     ]
    },
    {
     "name": "stderr",
     "output_type": "stream",
     "text": [
      "Processing csv:  50%|█████     | 9/18 [00:09<00:10,  1.13s/csv]"
     ]
    },
    {
     "name": "stdout",
     "output_type": "stream",
     "text": [
      "Loaded ./data_h2/nc_raleigh_2020_04_01.csv\n",
      "Loading ./data_h2/ca_oakland_2020_04_01.csv\n"
     ]
    },
    {
     "name": "stderr",
     "output_type": "stream",
     "text": [
      "/tmp/ipykernel_478/2571204446.py:17: DtypeWarning: Columns (6,10,22,27) have mixed types. Specify dtype option on import or set low_memory=False.\n",
      "  df = pd.read_csv(filename, index_col=None, header=0)\n",
      "Processing csv:  56%|█████▌    | 10/18 [00:09<00:07,  1.06csv/s]"
     ]
    },
    {
     "name": "stdout",
     "output_type": "stream",
     "text": [
      "Loaded ./data_h2/ca_oakland_2020_04_01.csv\n",
      "Loading ./data_h2/ky_louisville_2023_01_26.csv\n"
     ]
    },
    {
     "name": "stderr",
     "output_type": "stream",
     "text": [
      "Processing csv:  61%|██████    | 11/18 [00:10<00:05,  1.25csv/s]"
     ]
    },
    {
     "name": "stdout",
     "output_type": "stream",
     "text": [
      "Loaded ./data_h2/ky_louisville_2023_01_26.csv\n",
      "Loading ./data_h2/ca_stockton_2020_04_01.csv\n",
      "Loaded ./data_h2/ca_stockton_2020_04_01.csv\n",
      "Loading ./data_h2/ri_statewide_2020_04_01.csv\n"
     ]
    },
    {
     "name": "stderr",
     "output_type": "stream",
     "text": [
      "/tmp/ipykernel_478/2571204446.py:17: DtypeWarning: Columns (6,17,30) have mixed types. Specify dtype option on import or set low_memory=False.\n",
      "  df = pd.read_csv(filename, index_col=None, header=0)\n",
      "Processing csv:  72%|███████▏  | 13/18 [00:11<00:03,  1.36csv/s]"
     ]
    },
    {
     "name": "stdout",
     "output_type": "stream",
     "text": [
      "Loaded ./data_h2/ri_statewide_2020_04_01.csv\n",
      "Loading ./data_h2/pa_philadelphia_2020_04_01.csv\n"
     ]
    },
    {
     "name": "stderr",
     "output_type": "stream",
     "text": [
      "/tmp/ipykernel_478/2571204446.py:17: DtypeWarning: Columns (7) have mixed types. Specify dtype option on import or set low_memory=False.\n",
      "  df = pd.read_csv(filename, index_col=None, header=0)\n",
      "Processing csv:  78%|███████▊  | 14/18 [00:15<00:05,  1.46s/csv]"
     ]
    },
    {
     "name": "stdout",
     "output_type": "stream",
     "text": [
      "Loaded ./data_h2/pa_philadelphia_2020_04_01.csv\n",
      "Loading ./data_h2/tx_san_antonio_2023_01_26.csv\n"
     ]
    },
    {
     "name": "stderr",
     "output_type": "stream",
     "text": [
      "/tmp/ipykernel_478/2571204446.py:17: DtypeWarning: Columns (17,19,30,31,32) have mixed types. Specify dtype option on import or set low_memory=False.\n",
      "  df = pd.read_csv(filename, index_col=None, header=0)\n",
      "Processing csv:  83%|████████▎ | 15/18 [00:18<00:06,  2.06s/csv]"
     ]
    },
    {
     "name": "stdout",
     "output_type": "stream",
     "text": [
      "Loaded ./data_h2/tx_san_antonio_2023_01_26.csv\n",
      "Loading ./data_h2/ca_san_francisco_2020_04_01.csv\n"
     ]
    },
    {
     "name": "stderr",
     "output_type": "stream",
     "text": [
      "/tmp/ipykernel_478/2571204446.py:17: DtypeWarning: Columns (6) have mixed types. Specify dtype option on import or set low_memory=False.\n",
      "  df = pd.read_csv(filename, index_col=None, header=0)\n",
      "Processing csv:  89%|████████▉ | 16/18 [00:20<00:04,  2.08s/csv]"
     ]
    },
    {
     "name": "stdout",
     "output_type": "stream",
     "text": [
      "Loaded ./data_h2/ca_san_francisco_2020_04_01.csv\n",
      "Loading ./data_h2/la_new_orleans_2020_04_01.csv\n"
     ]
    },
    {
     "name": "stderr",
     "output_type": "stream",
     "text": [
      "/tmp/ipykernel_478/2571204446.py:17: DtypeWarning: Columns (6) have mixed types. Specify dtype option on import or set low_memory=False.\n",
      "  df = pd.read_csv(filename, index_col=None, header=0)\n",
      "Processing csv:  94%|█████████▍| 17/18 [00:22<00:01,  1.91s/csv]"
     ]
    },
    {
     "name": "stdout",
     "output_type": "stream",
     "text": [
      "Loaded ./data_h2/la_new_orleans_2020_04_01.csv\n",
      "Loading ./data_h2/tx_plano_2020_04_01.csv\n"
     ]
    },
    {
     "name": "stderr",
     "output_type": "stream",
     "text": [
      "/tmp/ipykernel_478/2571204446.py:17: DtypeWarning: Columns (3,6,7,11,12,22,26,27,28,29,30,32,33,34) have mixed types. Specify dtype option on import or set low_memory=False.\n",
      "  df = pd.read_csv(filename, index_col=None, header=0)\n",
      "Processing csv: 100%|██████████| 18/18 [00:23<00:00,  1.30s/csv]"
     ]
    },
    {
     "name": "stdout",
     "output_type": "stream",
     "text": [
      "Loaded ./data_h2/tx_plano_2020_04_01.csv\n"
     ]
    },
    {
     "name": "stderr",
     "output_type": "stream",
     "text": [
      "\n"
     ]
    }
   ],
   "source": [
    "path = r'./data_h2/'\n",
    "all_files = glob.glob(path + \"/*.csv\")\n",
    "filenames = extract_filename(all_files)\n",
    "raw_filenames = filenames.copy()\n",
    "print(filenames)\n",
    "\n",
    "for i in range(len(filenames)):\n",
    "    filenames[i] = reformat_filename(filenames[i])\n",
    "\n",
    "stops_by_race_list = []\n",
    "search_conducted_by_race_list = []\n",
    "all_races = set()\n",
    "\n",
    "for filename in tqdm(all_files, desc=\"Processing csv\", unit=\"csv\"):\n",
    "    print(f\"Loading {filename}\")\n",
    "    df = pd.read_csv(filename, index_col=None, header=0)\n",
    "    print(f\"Loaded {filename}\")\n",
    "    stops_by_race_list.append(calculate_stops_by_race(df))\n",
    "    all_races.update(df['subject_race'].unique())\n",
    "    search_conducted_by_race_list.append(calculate_searches_by_race(df))"
   ]
  },
  {
   "cell_type": "code",
   "execution_count": 7,
   "metadata": {},
   "outputs": [
    {
     "name": "stdout",
     "output_type": "stream",
     "text": [
      "{'hispanic', 'black', 'asian/pacific islander', nan, 'unknown', 'other', 'white'}\n",
      "Saint paul, Minnesota\n",
      "                        searches_count\n",
      "subject_race                          \n",
      "asian/pacific islander            2989\n",
      "black                            21701\n",
      "hispanic                          4197\n",
      "other                              328\n",
      "white                            13861\n",
      "Winston-salem, North Carolina\n",
      "                        searches_count\n",
      "subject_race                          \n",
      "asian/pacific islander              24\n",
      "black                             4555\n",
      "hispanic                          1398\n",
      "other                               16\n",
      "unknown                             19\n",
      "white                             3197\n",
      "Durham, North Carolina\n",
      "                        searches_count\n",
      "subject_race                          \n",
      "asian/pacific islander              76\n",
      "black                            15382\n",
      "hispanic                          2625\n",
      "other                               35\n",
      "unknown                             66\n",
      "white                             3522\n",
      "San diego, California\n",
      "                        searches_count\n",
      "subject_race                          \n",
      "asian/pacific islander             910\n",
      "black                             3873\n",
      "hispanic                          6501\n",
      "other                              451\n",
      "white                             4510\n",
      "Greensboro, North Carolina\n",
      "                        searches_count\n",
      "subject_race                          \n",
      "asian/pacific islander             258\n",
      "black                            20654\n",
      "hispanic                          1828\n",
      "other                               96\n",
      "unknown                            199\n",
      "white                             8901\n",
      "Hartford, Connecticut\n",
      "                        searches_count\n",
      "subject_race                          \n",
      "asian/pacific islander              47\n",
      "black                             2037\n",
      "hispanic                          1389\n",
      "other                               10\n",
      "white                             1705\n",
      "Austin, Texas\n",
      "                        searches_count\n",
      "subject_race                          \n",
      "asian/pacific islander             191\n",
      "black                             5071\n",
      "hispanic                          7057\n",
      "other                               73\n",
      "unknown                             90\n",
      "white                             6774\n",
      "Burlington, Vermont\n",
      "                        searches_count\n",
      "subject_race                          \n",
      "asian/pacific islander               9\n",
      "black                              100\n",
      "hispanic                             5\n",
      "other                                5\n",
      "white                              300\n",
      "Raleigh, North Carolina\n",
      "                        searches_count\n",
      "subject_race                          \n",
      "asian/pacific islander             225\n",
      "black                            19395\n",
      "hispanic                          4568\n",
      "other                               30\n",
      "unknown                            146\n",
      "white                             8926\n",
      "Oakland, California\n",
      "                        searches_count\n",
      "subject_race                          \n",
      "asian/pacific islander            1304\n",
      "black                            30025\n",
      "hispanic                          6722\n",
      "other                              706\n",
      "white                             2400\n",
      "Louisville, Kentucky\n",
      "                        searches_count\n",
      "subject_race                          \n",
      "asian/pacific islander              28\n",
      "black                             3473\n",
      "hispanic                           318\n",
      "other                               46\n",
      "white                             3916\n",
      "Stockton, California\n",
      "                        searches_count\n",
      "subject_race                          \n",
      "asian/pacific islander             447\n",
      "black                             2700\n",
      "hispanic                          3069\n",
      "other                              101\n",
      "white                              851\n",
      "Statewide, Rhode Island\n",
      "                        searches_count\n",
      "subject_race                          \n",
      "asian/pacific islander             280\n",
      "black                             4310\n",
      "hispanic                          3189\n",
      "other                               15\n",
      "white                             9968\n",
      "Philadelphia, Pennsylvania\n",
      "                        searches_count\n",
      "subject_race                          \n",
      "asian/pacific islander            1128\n",
      "black                            79661\n",
      "hispanic                         14042\n",
      "other                              187\n",
      "unknown                            590\n",
      "white                            20847\n",
      "San antonio, Texas\n",
      "                        searches_count\n",
      "subject_race                          \n",
      "asian/pacific islander              39\n",
      "black                             1913\n",
      "hispanic                          5487\n",
      "other                              145\n",
      "unknown                             31\n",
      "white                             4548\n",
      "San francisco, California\n",
      "                        searches_count\n",
      "subject_race                          \n",
      "asian/pacific islander            2861\n",
      "black                            23622\n",
      "hispanic                         11445\n",
      "other                             3746\n",
      "white                            11707\n",
      "New orleans, Louisiana\n",
      "                        searches_count\n",
      "subject_race                          \n",
      "asian/pacific islander             205\n",
      "black                            57940\n",
      "hispanic                          1668\n",
      "other                               29\n",
      "unknown                            188\n",
      "white                            15296\n",
      "Plano, Texas\n",
      "                        searches_count\n",
      "subject_race                          \n",
      "asian/pacific islander             433\n",
      "black                             3516\n",
      "hispanic                          3049\n",
      "other                               54\n",
      "unknown                              3\n",
      "white                             6722\n"
     ]
    }
   ],
   "source": [
    "print(all_races)\n",
    "for i in range(len(search_conducted_by_race_list)):\n",
    "    print(filenames[i])\n",
    "    print(search_conducted_by_race_list[i])"
   ]
  },
  {
   "cell_type": "code",
   "execution_count": 8,
   "metadata": {},
   "outputs": [],
   "source": [
    "results_race = {race: [] for race in all_races}\n",
    "results_searches = {race: [] for race in all_races}\n",
    "\n",
    "for i in range(len(stops_by_race_list)):\n",
    "    for race in all_races:\n",
    "        if race in stops_by_race_list[i].index:\n",
    "            results_race[race].append(stops_by_race_list[i].loc[race, 'stops_count'])\n",
    "        else:\n",
    "            results_race[race].append(0)\n",
    "        \n",
    "        if race in search_conducted_by_race_list[i].index:\n",
    "            results_searches[race].append(search_conducted_by_race_list[i].loc[race, 'searches_count'])\n",
    "        else:\n",
    "            results_searches[race].append(0)\n",
    "\n",
    "\n",
    "results_df_race = pd.DataFrame(results_race)\n",
    "results_df_searches = pd.DataFrame(results_searches)\n",
    "\n",
    "results_df_race.index = [filename for filename in filenames]\n",
    "results_df_searches.index = [filename for filename in filenames]"
   ]
  },
  {
   "cell_type": "code",
   "execution_count": 9,
   "metadata": {},
   "outputs": [
    {
     "data": {
      "text/html": [
       "<div>\n",
       "<style scoped>\n",
       "    .dataframe tbody tr th:only-of-type {\n",
       "        vertical-align: middle;\n",
       "    }\n",
       "\n",
       "    .dataframe tbody tr th {\n",
       "        vertical-align: top;\n",
       "    }\n",
       "\n",
       "    .dataframe thead th {\n",
       "        text-align: right;\n",
       "    }\n",
       "</style>\n",
       "<table border=\"1\" class=\"dataframe\">\n",
       "  <thead>\n",
       "    <tr style=\"text-align: right;\">\n",
       "      <th></th>\n",
       "      <th>hispanic</th>\n",
       "      <th>black</th>\n",
       "      <th>asian/pacific islander</th>\n",
       "      <th>NaN</th>\n",
       "      <th>unknown</th>\n",
       "      <th>other</th>\n",
       "      <th>white</th>\n",
       "    </tr>\n",
       "  </thead>\n",
       "  <tbody>\n",
       "    <tr>\n",
       "      <th>Saint paul, Minnesota</th>\n",
       "      <td>43062</td>\n",
       "      <td>188761</td>\n",
       "      <td>54904</td>\n",
       "      <td>0</td>\n",
       "      <td>0</td>\n",
       "      <td>5292</td>\n",
       "      <td>265143</td>\n",
       "    </tr>\n",
       "    <tr>\n",
       "      <th>Winston-salem, North Carolina</th>\n",
       "      <td>46554</td>\n",
       "      <td>201226</td>\n",
       "      <td>3300</td>\n",
       "      <td>0</td>\n",
       "      <td>1579</td>\n",
       "      <td>726</td>\n",
       "      <td>199175</td>\n",
       "    </tr>\n",
       "    <tr>\n",
       "      <th>Durham, North Carolina</th>\n",
       "      <td>38968</td>\n",
       "      <td>180851</td>\n",
       "      <td>4935</td>\n",
       "      <td>0</td>\n",
       "      <td>2591</td>\n",
       "      <td>1263</td>\n",
       "      <td>97415</td>\n",
       "    </tr>\n",
       "    <tr>\n",
       "      <th>San diego, California</th>\n",
       "      <td>117083</td>\n",
       "      <td>42705</td>\n",
       "      <td>32541</td>\n",
       "      <td>0</td>\n",
       "      <td>0</td>\n",
       "      <td>27238</td>\n",
       "      <td>162226</td>\n",
       "    </tr>\n",
       "    <tr>\n",
       "      <th>Greensboro, North Carolina</th>\n",
       "      <td>27929</td>\n",
       "      <td>299893</td>\n",
       "      <td>10401</td>\n",
       "      <td>0</td>\n",
       "      <td>5886</td>\n",
       "      <td>2344</td>\n",
       "      <td>253574</td>\n",
       "    </tr>\n",
       "    <tr>\n",
       "      <th>Hartford, Connecticut</th>\n",
       "      <td>5073</td>\n",
       "      <td>7104</td>\n",
       "      <td>176</td>\n",
       "      <td>0</td>\n",
       "      <td>0</td>\n",
       "      <td>29</td>\n",
       "      <td>6057</td>\n",
       "    </tr>\n",
       "    <tr>\n",
       "      <th>Austin, Texas</th>\n",
       "      <td>123943</td>\n",
       "      <td>72324</td>\n",
       "      <td>13167</td>\n",
       "      <td>0</td>\n",
       "      <td>3135</td>\n",
       "      <td>2626</td>\n",
       "      <td>268058</td>\n",
       "    </tr>\n",
       "    <tr>\n",
       "      <th>Burlington, Vermont</th>\n",
       "      <td>223</td>\n",
       "      <td>2935</td>\n",
       "      <td>1453</td>\n",
       "      <td>0</td>\n",
       "      <td>63</td>\n",
       "      <td>472</td>\n",
       "      <td>29994</td>\n",
       "    </tr>\n",
       "    <tr>\n",
       "      <th>Raleigh, North Carolina</th>\n",
       "      <td>87460</td>\n",
       "      <td>383628</td>\n",
       "      <td>15349</td>\n",
       "      <td>0</td>\n",
       "      <td>8089</td>\n",
       "      <td>555</td>\n",
       "      <td>361319</td>\n",
       "    </tr>\n",
       "    <tr>\n",
       "      <th>Oakland, California</th>\n",
       "      <td>26257</td>\n",
       "      <td>78925</td>\n",
       "      <td>8099</td>\n",
       "      <td>0</td>\n",
       "      <td>0</td>\n",
       "      <td>4498</td>\n",
       "      <td>15628</td>\n",
       "    </tr>\n",
       "    <tr>\n",
       "      <th>Louisville, Kentucky</th>\n",
       "      <td>6656</td>\n",
       "      <td>45947</td>\n",
       "      <td>1621</td>\n",
       "      <td>0</td>\n",
       "      <td>2</td>\n",
       "      <td>781</td>\n",
       "      <td>91470</td>\n",
       "    </tr>\n",
       "    <tr>\n",
       "      <th>Stockton, California</th>\n",
       "      <td>16573</td>\n",
       "      <td>10870</td>\n",
       "      <td>3787</td>\n",
       "      <td>0</td>\n",
       "      <td>0</td>\n",
       "      <td>1640</td>\n",
       "      <td>8553</td>\n",
       "    </tr>\n",
       "    <tr>\n",
       "      <th>Statewide, Rhode Island</th>\n",
       "      <td>53125</td>\n",
       "      <td>68579</td>\n",
       "      <td>12826</td>\n",
       "      <td>0</td>\n",
       "      <td>0</td>\n",
       "      <td>1344</td>\n",
       "      <td>344734</td>\n",
       "    </tr>\n",
       "    <tr>\n",
       "      <th>Philadelphia, Pennsylvania</th>\n",
       "      <td>184184</td>\n",
       "      <td>1244249</td>\n",
       "      <td>40245</td>\n",
       "      <td>0</td>\n",
       "      <td>14958</td>\n",
       "      <td>5598</td>\n",
       "      <td>375862</td>\n",
       "    </tr>\n",
       "    <tr>\n",
       "      <th>San antonio, Texas</th>\n",
       "      <td>633919</td>\n",
       "      <td>131762</td>\n",
       "      <td>13311</td>\n",
       "      <td>0</td>\n",
       "      <td>4029</td>\n",
       "      <td>27130</td>\n",
       "      <td>490230</td>\n",
       "    </tr>\n",
       "    <tr>\n",
       "      <th>San francisco, California</th>\n",
       "      <td>116014</td>\n",
       "      <td>152196</td>\n",
       "      <td>157684</td>\n",
       "      <td>0</td>\n",
       "      <td>0</td>\n",
       "      <td>106858</td>\n",
       "      <td>372318</td>\n",
       "    </tr>\n",
       "    <tr>\n",
       "      <th>New orleans, Louisiana</th>\n",
       "      <td>13491</td>\n",
       "      <td>349819</td>\n",
       "      <td>3793</td>\n",
       "      <td>0</td>\n",
       "      <td>3214</td>\n",
       "      <td>342</td>\n",
       "      <td>129703</td>\n",
       "    </tr>\n",
       "    <tr>\n",
       "      <th>Plano, Texas</th>\n",
       "      <td>34291</td>\n",
       "      <td>35078</td>\n",
       "      <td>25743</td>\n",
       "      <td>0</td>\n",
       "      <td>646</td>\n",
       "      <td>2964</td>\n",
       "      <td>150321</td>\n",
       "    </tr>\n",
       "  </tbody>\n",
       "</table>\n",
       "</div>"
      ],
      "text/plain": [
       "                               hispanic    black  asian/pacific islander  NaN  \\\n",
       "Saint paul, Minnesota             43062   188761                   54904    0   \n",
       "Winston-salem, North Carolina     46554   201226                    3300    0   \n",
       "Durham, North Carolina            38968   180851                    4935    0   \n",
       "San diego, California            117083    42705                   32541    0   \n",
       "Greensboro, North Carolina        27929   299893                   10401    0   \n",
       "Hartford, Connecticut              5073     7104                     176    0   \n",
       "Austin, Texas                    123943    72324                   13167    0   \n",
       "Burlington, Vermont                 223     2935                    1453    0   \n",
       "Raleigh, North Carolina           87460   383628                   15349    0   \n",
       "Oakland, California               26257    78925                    8099    0   \n",
       "Louisville, Kentucky               6656    45947                    1621    0   \n",
       "Stockton, California              16573    10870                    3787    0   \n",
       "Statewide, Rhode Island           53125    68579                   12826    0   \n",
       "Philadelphia, Pennsylvania       184184  1244249                   40245    0   \n",
       "San antonio, Texas               633919   131762                   13311    0   \n",
       "San francisco, California        116014   152196                  157684    0   \n",
       "New orleans, Louisiana            13491   349819                    3793    0   \n",
       "Plano, Texas                      34291    35078                   25743    0   \n",
       "\n",
       "                               unknown   other   white  \n",
       "Saint paul, Minnesota                0    5292  265143  \n",
       "Winston-salem, North Carolina     1579     726  199175  \n",
       "Durham, North Carolina            2591    1263   97415  \n",
       "San diego, California                0   27238  162226  \n",
       "Greensboro, North Carolina        5886    2344  253574  \n",
       "Hartford, Connecticut                0      29    6057  \n",
       "Austin, Texas                     3135    2626  268058  \n",
       "Burlington, Vermont                 63     472   29994  \n",
       "Raleigh, North Carolina           8089     555  361319  \n",
       "Oakland, California                  0    4498   15628  \n",
       "Louisville, Kentucky                 2     781   91470  \n",
       "Stockton, California                 0    1640    8553  \n",
       "Statewide, Rhode Island              0    1344  344734  \n",
       "Philadelphia, Pennsylvania       14958    5598  375862  \n",
       "San antonio, Texas                4029   27130  490230  \n",
       "San francisco, California            0  106858  372318  \n",
       "New orleans, Louisiana            3214     342  129703  \n",
       "Plano, Texas                       646    2964  150321  "
      ]
     },
     "execution_count": 9,
     "metadata": {},
     "output_type": "execute_result"
    }
   ],
   "source": [
    "results_df_race.head(n=len(filenames))"
   ]
  },
  {
   "cell_type": "code",
   "execution_count": 10,
   "metadata": {},
   "outputs": [
    {
     "data": {
      "text/html": [
       "<div>\n",
       "<style scoped>\n",
       "    .dataframe tbody tr th:only-of-type {\n",
       "        vertical-align: middle;\n",
       "    }\n",
       "\n",
       "    .dataframe tbody tr th {\n",
       "        vertical-align: top;\n",
       "    }\n",
       "\n",
       "    .dataframe thead th {\n",
       "        text-align: right;\n",
       "    }\n",
       "</style>\n",
       "<table border=\"1\" class=\"dataframe\">\n",
       "  <thead>\n",
       "    <tr style=\"text-align: right;\">\n",
       "      <th></th>\n",
       "      <th>hispanic</th>\n",
       "      <th>black</th>\n",
       "      <th>asian/pacific islander</th>\n",
       "      <th>NaN</th>\n",
       "      <th>unknown</th>\n",
       "      <th>other</th>\n",
       "      <th>white</th>\n",
       "    </tr>\n",
       "  </thead>\n",
       "  <tbody>\n",
       "    <tr>\n",
       "      <th>Saint paul, Minnesota</th>\n",
       "      <td>4197</td>\n",
       "      <td>21701</td>\n",
       "      <td>2989</td>\n",
       "      <td>0</td>\n",
       "      <td>0</td>\n",
       "      <td>328</td>\n",
       "      <td>13861</td>\n",
       "    </tr>\n",
       "    <tr>\n",
       "      <th>Winston-salem, North Carolina</th>\n",
       "      <td>1398</td>\n",
       "      <td>4555</td>\n",
       "      <td>24</td>\n",
       "      <td>0</td>\n",
       "      <td>19</td>\n",
       "      <td>16</td>\n",
       "      <td>3197</td>\n",
       "    </tr>\n",
       "    <tr>\n",
       "      <th>Durham, North Carolina</th>\n",
       "      <td>2625</td>\n",
       "      <td>15382</td>\n",
       "      <td>76</td>\n",
       "      <td>0</td>\n",
       "      <td>66</td>\n",
       "      <td>35</td>\n",
       "      <td>3522</td>\n",
       "    </tr>\n",
       "    <tr>\n",
       "      <th>San diego, California</th>\n",
       "      <td>6501</td>\n",
       "      <td>3873</td>\n",
       "      <td>910</td>\n",
       "      <td>0</td>\n",
       "      <td>0</td>\n",
       "      <td>451</td>\n",
       "      <td>4510</td>\n",
       "    </tr>\n",
       "    <tr>\n",
       "      <th>Greensboro, North Carolina</th>\n",
       "      <td>1828</td>\n",
       "      <td>20654</td>\n",
       "      <td>258</td>\n",
       "      <td>0</td>\n",
       "      <td>199</td>\n",
       "      <td>96</td>\n",
       "      <td>8901</td>\n",
       "    </tr>\n",
       "    <tr>\n",
       "      <th>Hartford, Connecticut</th>\n",
       "      <td>1389</td>\n",
       "      <td>2037</td>\n",
       "      <td>47</td>\n",
       "      <td>0</td>\n",
       "      <td>0</td>\n",
       "      <td>10</td>\n",
       "      <td>1705</td>\n",
       "    </tr>\n",
       "    <tr>\n",
       "      <th>Austin, Texas</th>\n",
       "      <td>7057</td>\n",
       "      <td>5071</td>\n",
       "      <td>191</td>\n",
       "      <td>0</td>\n",
       "      <td>90</td>\n",
       "      <td>73</td>\n",
       "      <td>6774</td>\n",
       "    </tr>\n",
       "    <tr>\n",
       "      <th>Burlington, Vermont</th>\n",
       "      <td>5</td>\n",
       "      <td>100</td>\n",
       "      <td>9</td>\n",
       "      <td>0</td>\n",
       "      <td>0</td>\n",
       "      <td>5</td>\n",
       "      <td>300</td>\n",
       "    </tr>\n",
       "    <tr>\n",
       "      <th>Raleigh, North Carolina</th>\n",
       "      <td>4568</td>\n",
       "      <td>19395</td>\n",
       "      <td>225</td>\n",
       "      <td>0</td>\n",
       "      <td>146</td>\n",
       "      <td>30</td>\n",
       "      <td>8926</td>\n",
       "    </tr>\n",
       "    <tr>\n",
       "      <th>Oakland, California</th>\n",
       "      <td>6722</td>\n",
       "      <td>30025</td>\n",
       "      <td>1304</td>\n",
       "      <td>0</td>\n",
       "      <td>0</td>\n",
       "      <td>706</td>\n",
       "      <td>2400</td>\n",
       "    </tr>\n",
       "    <tr>\n",
       "      <th>Louisville, Kentucky</th>\n",
       "      <td>318</td>\n",
       "      <td>3473</td>\n",
       "      <td>28</td>\n",
       "      <td>0</td>\n",
       "      <td>0</td>\n",
       "      <td>46</td>\n",
       "      <td>3916</td>\n",
       "    </tr>\n",
       "    <tr>\n",
       "      <th>Stockton, California</th>\n",
       "      <td>3069</td>\n",
       "      <td>2700</td>\n",
       "      <td>447</td>\n",
       "      <td>0</td>\n",
       "      <td>0</td>\n",
       "      <td>101</td>\n",
       "      <td>851</td>\n",
       "    </tr>\n",
       "    <tr>\n",
       "      <th>Statewide, Rhode Island</th>\n",
       "      <td>3189</td>\n",
       "      <td>4310</td>\n",
       "      <td>280</td>\n",
       "      <td>0</td>\n",
       "      <td>0</td>\n",
       "      <td>15</td>\n",
       "      <td>9968</td>\n",
       "    </tr>\n",
       "    <tr>\n",
       "      <th>Philadelphia, Pennsylvania</th>\n",
       "      <td>14042</td>\n",
       "      <td>79661</td>\n",
       "      <td>1128</td>\n",
       "      <td>0</td>\n",
       "      <td>590</td>\n",
       "      <td>187</td>\n",
       "      <td>20847</td>\n",
       "    </tr>\n",
       "    <tr>\n",
       "      <th>San antonio, Texas</th>\n",
       "      <td>5487</td>\n",
       "      <td>1913</td>\n",
       "      <td>39</td>\n",
       "      <td>0</td>\n",
       "      <td>31</td>\n",
       "      <td>145</td>\n",
       "      <td>4548</td>\n",
       "    </tr>\n",
       "    <tr>\n",
       "      <th>San francisco, California</th>\n",
       "      <td>11445</td>\n",
       "      <td>23622</td>\n",
       "      <td>2861</td>\n",
       "      <td>0</td>\n",
       "      <td>0</td>\n",
       "      <td>3746</td>\n",
       "      <td>11707</td>\n",
       "    </tr>\n",
       "    <tr>\n",
       "      <th>New orleans, Louisiana</th>\n",
       "      <td>1668</td>\n",
       "      <td>57940</td>\n",
       "      <td>205</td>\n",
       "      <td>0</td>\n",
       "      <td>188</td>\n",
       "      <td>29</td>\n",
       "      <td>15296</td>\n",
       "    </tr>\n",
       "    <tr>\n",
       "      <th>Plano, Texas</th>\n",
       "      <td>3049</td>\n",
       "      <td>3516</td>\n",
       "      <td>433</td>\n",
       "      <td>0</td>\n",
       "      <td>3</td>\n",
       "      <td>54</td>\n",
       "      <td>6722</td>\n",
       "    </tr>\n",
       "  </tbody>\n",
       "</table>\n",
       "</div>"
      ],
      "text/plain": [
       "                               hispanic  black  asian/pacific islander  NaN  \\\n",
       "Saint paul, Minnesota              4197  21701                    2989    0   \n",
       "Winston-salem, North Carolina      1398   4555                      24    0   \n",
       "Durham, North Carolina             2625  15382                      76    0   \n",
       "San diego, California              6501   3873                     910    0   \n",
       "Greensboro, North Carolina         1828  20654                     258    0   \n",
       "Hartford, Connecticut              1389   2037                      47    0   \n",
       "Austin, Texas                      7057   5071                     191    0   \n",
       "Burlington, Vermont                   5    100                       9    0   \n",
       "Raleigh, North Carolina            4568  19395                     225    0   \n",
       "Oakland, California                6722  30025                    1304    0   \n",
       "Louisville, Kentucky                318   3473                      28    0   \n",
       "Stockton, California               3069   2700                     447    0   \n",
       "Statewide, Rhode Island            3189   4310                     280    0   \n",
       "Philadelphia, Pennsylvania        14042  79661                    1128    0   \n",
       "San antonio, Texas                 5487   1913                      39    0   \n",
       "San francisco, California         11445  23622                    2861    0   \n",
       "New orleans, Louisiana             1668  57940                     205    0   \n",
       "Plano, Texas                       3049   3516                     433    0   \n",
       "\n",
       "                               unknown  other  white  \n",
       "Saint paul, Minnesota                0    328  13861  \n",
       "Winston-salem, North Carolina       19     16   3197  \n",
       "Durham, North Carolina              66     35   3522  \n",
       "San diego, California                0    451   4510  \n",
       "Greensboro, North Carolina         199     96   8901  \n",
       "Hartford, Connecticut                0     10   1705  \n",
       "Austin, Texas                       90     73   6774  \n",
       "Burlington, Vermont                  0      5    300  \n",
       "Raleigh, North Carolina            146     30   8926  \n",
       "Oakland, California                  0    706   2400  \n",
       "Louisville, Kentucky                 0     46   3916  \n",
       "Stockton, California                 0    101    851  \n",
       "Statewide, Rhode Island              0     15   9968  \n",
       "Philadelphia, Pennsylvania         590    187  20847  \n",
       "San antonio, Texas                  31    145   4548  \n",
       "San francisco, California            0   3746  11707  \n",
       "New orleans, Louisiana             188     29  15296  \n",
       "Plano, Texas                         3     54   6722  "
      ]
     },
     "execution_count": 10,
     "metadata": {},
     "output_type": "execute_result"
    }
   ],
   "source": [
    "results_df_searches.head(n=len(filenames))"
   ]
  },
  {
   "cell_type": "code",
   "execution_count": 11,
   "metadata": {},
   "outputs": [],
   "source": [
    "# remove the nan column\n",
    "results_df_race = results_df_race.loc[:, results_df_race.columns.notnull()]\n",
    "results_df_searches = results_df_searches.loc[:, results_df_searches.columns.notnull()]"
   ]
  },
  {
   "cell_type": "code",
   "execution_count": 12,
   "metadata": {},
   "outputs": [],
   "source": [
    "# rename the index column as regions\n",
    "results_df_race.rename_axis('regions', inplace=True)\n",
    "results_df_searches.rename_axis('regions', inplace=True)"
   ]
  },
  {
   "cell_type": "code",
   "execution_count": 13,
   "metadata": {},
   "outputs": [],
   "source": [
    "# export to csv\n",
    "results_df_race.to_csv('h2_race.csv')\n",
    "results_df_searches.to_csv('h2_searches.csv')"
   ]
  },
  {
   "cell_type": "code",
   "execution_count": 14,
   "metadata": {},
   "outputs": [
    {
     "data": {
      "text/html": [
       "<div>\n",
       "<style scoped>\n",
       "    .dataframe tbody tr th:only-of-type {\n",
       "        vertical-align: middle;\n",
       "    }\n",
       "\n",
       "    .dataframe tbody tr th {\n",
       "        vertical-align: top;\n",
       "    }\n",
       "\n",
       "    .dataframe thead th {\n",
       "        text-align: right;\n",
       "    }\n",
       "</style>\n",
       "<table border=\"1\" class=\"dataframe\">\n",
       "  <thead>\n",
       "    <tr style=\"text-align: right;\">\n",
       "      <th></th>\n",
       "      <th>hispanic</th>\n",
       "      <th>black</th>\n",
       "      <th>asian/pacific islander</th>\n",
       "      <th>unknown</th>\n",
       "      <th>other</th>\n",
       "      <th>white</th>\n",
       "    </tr>\n",
       "    <tr>\n",
       "      <th>regions</th>\n",
       "      <th></th>\n",
       "      <th></th>\n",
       "      <th></th>\n",
       "      <th></th>\n",
       "      <th></th>\n",
       "      <th></th>\n",
       "    </tr>\n",
       "  </thead>\n",
       "  <tbody>\n",
       "    <tr>\n",
       "      <th>Saint paul, Minnesota</th>\n",
       "      <td>43062</td>\n",
       "      <td>188761</td>\n",
       "      <td>54904</td>\n",
       "      <td>0</td>\n",
       "      <td>5292</td>\n",
       "      <td>265143</td>\n",
       "    </tr>\n",
       "    <tr>\n",
       "      <th>Winston-salem, North Carolina</th>\n",
       "      <td>46554</td>\n",
       "      <td>201226</td>\n",
       "      <td>3300</td>\n",
       "      <td>1579</td>\n",
       "      <td>726</td>\n",
       "      <td>199175</td>\n",
       "    </tr>\n",
       "    <tr>\n",
       "      <th>Durham, North Carolina</th>\n",
       "      <td>38968</td>\n",
       "      <td>180851</td>\n",
       "      <td>4935</td>\n",
       "      <td>2591</td>\n",
       "      <td>1263</td>\n",
       "      <td>97415</td>\n",
       "    </tr>\n",
       "    <tr>\n",
       "      <th>San diego, California</th>\n",
       "      <td>117083</td>\n",
       "      <td>42705</td>\n",
       "      <td>32541</td>\n",
       "      <td>0</td>\n",
       "      <td>27238</td>\n",
       "      <td>162226</td>\n",
       "    </tr>\n",
       "    <tr>\n",
       "      <th>Greensboro, North Carolina</th>\n",
       "      <td>27929</td>\n",
       "      <td>299893</td>\n",
       "      <td>10401</td>\n",
       "      <td>5886</td>\n",
       "      <td>2344</td>\n",
       "      <td>253574</td>\n",
       "    </tr>\n",
       "    <tr>\n",
       "      <th>Hartford, Connecticut</th>\n",
       "      <td>5073</td>\n",
       "      <td>7104</td>\n",
       "      <td>176</td>\n",
       "      <td>0</td>\n",
       "      <td>29</td>\n",
       "      <td>6057</td>\n",
       "    </tr>\n",
       "    <tr>\n",
       "      <th>Austin, Texas</th>\n",
       "      <td>123943</td>\n",
       "      <td>72324</td>\n",
       "      <td>13167</td>\n",
       "      <td>3135</td>\n",
       "      <td>2626</td>\n",
       "      <td>268058</td>\n",
       "    </tr>\n",
       "    <tr>\n",
       "      <th>Burlington, Vermont</th>\n",
       "      <td>223</td>\n",
       "      <td>2935</td>\n",
       "      <td>1453</td>\n",
       "      <td>63</td>\n",
       "      <td>472</td>\n",
       "      <td>29994</td>\n",
       "    </tr>\n",
       "    <tr>\n",
       "      <th>Raleigh, North Carolina</th>\n",
       "      <td>87460</td>\n",
       "      <td>383628</td>\n",
       "      <td>15349</td>\n",
       "      <td>8089</td>\n",
       "      <td>555</td>\n",
       "      <td>361319</td>\n",
       "    </tr>\n",
       "    <tr>\n",
       "      <th>Oakland, California</th>\n",
       "      <td>26257</td>\n",
       "      <td>78925</td>\n",
       "      <td>8099</td>\n",
       "      <td>0</td>\n",
       "      <td>4498</td>\n",
       "      <td>15628</td>\n",
       "    </tr>\n",
       "    <tr>\n",
       "      <th>Louisville, Kentucky</th>\n",
       "      <td>6656</td>\n",
       "      <td>45947</td>\n",
       "      <td>1621</td>\n",
       "      <td>2</td>\n",
       "      <td>781</td>\n",
       "      <td>91470</td>\n",
       "    </tr>\n",
       "    <tr>\n",
       "      <th>Stockton, California</th>\n",
       "      <td>16573</td>\n",
       "      <td>10870</td>\n",
       "      <td>3787</td>\n",
       "      <td>0</td>\n",
       "      <td>1640</td>\n",
       "      <td>8553</td>\n",
       "    </tr>\n",
       "    <tr>\n",
       "      <th>Statewide, Rhode Island</th>\n",
       "      <td>53125</td>\n",
       "      <td>68579</td>\n",
       "      <td>12826</td>\n",
       "      <td>0</td>\n",
       "      <td>1344</td>\n",
       "      <td>344734</td>\n",
       "    </tr>\n",
       "    <tr>\n",
       "      <th>Philadelphia, Pennsylvania</th>\n",
       "      <td>184184</td>\n",
       "      <td>1244249</td>\n",
       "      <td>40245</td>\n",
       "      <td>14958</td>\n",
       "      <td>5598</td>\n",
       "      <td>375862</td>\n",
       "    </tr>\n",
       "    <tr>\n",
       "      <th>San antonio, Texas</th>\n",
       "      <td>633919</td>\n",
       "      <td>131762</td>\n",
       "      <td>13311</td>\n",
       "      <td>4029</td>\n",
       "      <td>27130</td>\n",
       "      <td>490230</td>\n",
       "    </tr>\n",
       "    <tr>\n",
       "      <th>San francisco, California</th>\n",
       "      <td>116014</td>\n",
       "      <td>152196</td>\n",
       "      <td>157684</td>\n",
       "      <td>0</td>\n",
       "      <td>106858</td>\n",
       "      <td>372318</td>\n",
       "    </tr>\n",
       "    <tr>\n",
       "      <th>New orleans, Louisiana</th>\n",
       "      <td>13491</td>\n",
       "      <td>349819</td>\n",
       "      <td>3793</td>\n",
       "      <td>3214</td>\n",
       "      <td>342</td>\n",
       "      <td>129703</td>\n",
       "    </tr>\n",
       "    <tr>\n",
       "      <th>Plano, Texas</th>\n",
       "      <td>34291</td>\n",
       "      <td>35078</td>\n",
       "      <td>25743</td>\n",
       "      <td>646</td>\n",
       "      <td>2964</td>\n",
       "      <td>150321</td>\n",
       "    </tr>\n",
       "  </tbody>\n",
       "</table>\n",
       "</div>"
      ],
      "text/plain": [
       "                               hispanic    black  asian/pacific islander  \\\n",
       "regions                                                                    \n",
       "Saint paul, Minnesota             43062   188761                   54904   \n",
       "Winston-salem, North Carolina     46554   201226                    3300   \n",
       "Durham, North Carolina            38968   180851                    4935   \n",
       "San diego, California            117083    42705                   32541   \n",
       "Greensboro, North Carolina        27929   299893                   10401   \n",
       "Hartford, Connecticut              5073     7104                     176   \n",
       "Austin, Texas                    123943    72324                   13167   \n",
       "Burlington, Vermont                 223     2935                    1453   \n",
       "Raleigh, North Carolina           87460   383628                   15349   \n",
       "Oakland, California               26257    78925                    8099   \n",
       "Louisville, Kentucky               6656    45947                    1621   \n",
       "Stockton, California              16573    10870                    3787   \n",
       "Statewide, Rhode Island           53125    68579                   12826   \n",
       "Philadelphia, Pennsylvania       184184  1244249                   40245   \n",
       "San antonio, Texas               633919   131762                   13311   \n",
       "San francisco, California        116014   152196                  157684   \n",
       "New orleans, Louisiana            13491   349819                    3793   \n",
       "Plano, Texas                      34291    35078                   25743   \n",
       "\n",
       "                               unknown   other   white  \n",
       "regions                                                 \n",
       "Saint paul, Minnesota                0    5292  265143  \n",
       "Winston-salem, North Carolina     1579     726  199175  \n",
       "Durham, North Carolina            2591    1263   97415  \n",
       "San diego, California                0   27238  162226  \n",
       "Greensboro, North Carolina        5886    2344  253574  \n",
       "Hartford, Connecticut                0      29    6057  \n",
       "Austin, Texas                     3135    2626  268058  \n",
       "Burlington, Vermont                 63     472   29994  \n",
       "Raleigh, North Carolina           8089     555  361319  \n",
       "Oakland, California                  0    4498   15628  \n",
       "Louisville, Kentucky                 2     781   91470  \n",
       "Stockton, California                 0    1640    8553  \n",
       "Statewide, Rhode Island              0    1344  344734  \n",
       "Philadelphia, Pennsylvania       14958    5598  375862  \n",
       "San antonio, Texas                4029   27130  490230  \n",
       "San francisco, California            0  106858  372318  \n",
       "New orleans, Louisiana            3214     342  129703  \n",
       "Plano, Texas                       646    2964  150321  "
      ]
     },
     "execution_count": 14,
     "metadata": {},
     "output_type": "execute_result"
    }
   ],
   "source": [
    "results_df_race"
   ]
  },
  {
   "cell_type": "code",
   "execution_count": 15,
   "metadata": {},
   "outputs": [
    {
     "data": {
      "text/html": [
       "<div>\n",
       "<style scoped>\n",
       "    .dataframe tbody tr th:only-of-type {\n",
       "        vertical-align: middle;\n",
       "    }\n",
       "\n",
       "    .dataframe tbody tr th {\n",
       "        vertical-align: top;\n",
       "    }\n",
       "\n",
       "    .dataframe thead th {\n",
       "        text-align: right;\n",
       "    }\n",
       "</style>\n",
       "<table border=\"1\" class=\"dataframe\">\n",
       "  <thead>\n",
       "    <tr style=\"text-align: right;\">\n",
       "      <th></th>\n",
       "      <th>hispanic</th>\n",
       "      <th>black</th>\n",
       "      <th>asian/pacific islander</th>\n",
       "      <th>unknown</th>\n",
       "      <th>other</th>\n",
       "      <th>white</th>\n",
       "    </tr>\n",
       "    <tr>\n",
       "      <th>regions</th>\n",
       "      <th></th>\n",
       "      <th></th>\n",
       "      <th></th>\n",
       "      <th></th>\n",
       "      <th></th>\n",
       "      <th></th>\n",
       "    </tr>\n",
       "  </thead>\n",
       "  <tbody>\n",
       "    <tr>\n",
       "      <th>Saint paul, Minnesota</th>\n",
       "      <td>4197</td>\n",
       "      <td>21701</td>\n",
       "      <td>2989</td>\n",
       "      <td>0</td>\n",
       "      <td>328</td>\n",
       "      <td>13861</td>\n",
       "    </tr>\n",
       "    <tr>\n",
       "      <th>Winston-salem, North Carolina</th>\n",
       "      <td>1398</td>\n",
       "      <td>4555</td>\n",
       "      <td>24</td>\n",
       "      <td>19</td>\n",
       "      <td>16</td>\n",
       "      <td>3197</td>\n",
       "    </tr>\n",
       "    <tr>\n",
       "      <th>Durham, North Carolina</th>\n",
       "      <td>2625</td>\n",
       "      <td>15382</td>\n",
       "      <td>76</td>\n",
       "      <td>66</td>\n",
       "      <td>35</td>\n",
       "      <td>3522</td>\n",
       "    </tr>\n",
       "    <tr>\n",
       "      <th>San diego, California</th>\n",
       "      <td>6501</td>\n",
       "      <td>3873</td>\n",
       "      <td>910</td>\n",
       "      <td>0</td>\n",
       "      <td>451</td>\n",
       "      <td>4510</td>\n",
       "    </tr>\n",
       "    <tr>\n",
       "      <th>Greensboro, North Carolina</th>\n",
       "      <td>1828</td>\n",
       "      <td>20654</td>\n",
       "      <td>258</td>\n",
       "      <td>199</td>\n",
       "      <td>96</td>\n",
       "      <td>8901</td>\n",
       "    </tr>\n",
       "    <tr>\n",
       "      <th>Hartford, Connecticut</th>\n",
       "      <td>1389</td>\n",
       "      <td>2037</td>\n",
       "      <td>47</td>\n",
       "      <td>0</td>\n",
       "      <td>10</td>\n",
       "      <td>1705</td>\n",
       "    </tr>\n",
       "    <tr>\n",
       "      <th>Austin, Texas</th>\n",
       "      <td>7057</td>\n",
       "      <td>5071</td>\n",
       "      <td>191</td>\n",
       "      <td>90</td>\n",
       "      <td>73</td>\n",
       "      <td>6774</td>\n",
       "    </tr>\n",
       "    <tr>\n",
       "      <th>Burlington, Vermont</th>\n",
       "      <td>5</td>\n",
       "      <td>100</td>\n",
       "      <td>9</td>\n",
       "      <td>0</td>\n",
       "      <td>5</td>\n",
       "      <td>300</td>\n",
       "    </tr>\n",
       "    <tr>\n",
       "      <th>Raleigh, North Carolina</th>\n",
       "      <td>4568</td>\n",
       "      <td>19395</td>\n",
       "      <td>225</td>\n",
       "      <td>146</td>\n",
       "      <td>30</td>\n",
       "      <td>8926</td>\n",
       "    </tr>\n",
       "    <tr>\n",
       "      <th>Oakland, California</th>\n",
       "      <td>6722</td>\n",
       "      <td>30025</td>\n",
       "      <td>1304</td>\n",
       "      <td>0</td>\n",
       "      <td>706</td>\n",
       "      <td>2400</td>\n",
       "    </tr>\n",
       "    <tr>\n",
       "      <th>Louisville, Kentucky</th>\n",
       "      <td>318</td>\n",
       "      <td>3473</td>\n",
       "      <td>28</td>\n",
       "      <td>0</td>\n",
       "      <td>46</td>\n",
       "      <td>3916</td>\n",
       "    </tr>\n",
       "    <tr>\n",
       "      <th>Stockton, California</th>\n",
       "      <td>3069</td>\n",
       "      <td>2700</td>\n",
       "      <td>447</td>\n",
       "      <td>0</td>\n",
       "      <td>101</td>\n",
       "      <td>851</td>\n",
       "    </tr>\n",
       "    <tr>\n",
       "      <th>Statewide, Rhode Island</th>\n",
       "      <td>3189</td>\n",
       "      <td>4310</td>\n",
       "      <td>280</td>\n",
       "      <td>0</td>\n",
       "      <td>15</td>\n",
       "      <td>9968</td>\n",
       "    </tr>\n",
       "    <tr>\n",
       "      <th>Philadelphia, Pennsylvania</th>\n",
       "      <td>14042</td>\n",
       "      <td>79661</td>\n",
       "      <td>1128</td>\n",
       "      <td>590</td>\n",
       "      <td>187</td>\n",
       "      <td>20847</td>\n",
       "    </tr>\n",
       "    <tr>\n",
       "      <th>San antonio, Texas</th>\n",
       "      <td>5487</td>\n",
       "      <td>1913</td>\n",
       "      <td>39</td>\n",
       "      <td>31</td>\n",
       "      <td>145</td>\n",
       "      <td>4548</td>\n",
       "    </tr>\n",
       "    <tr>\n",
       "      <th>San francisco, California</th>\n",
       "      <td>11445</td>\n",
       "      <td>23622</td>\n",
       "      <td>2861</td>\n",
       "      <td>0</td>\n",
       "      <td>3746</td>\n",
       "      <td>11707</td>\n",
       "    </tr>\n",
       "    <tr>\n",
       "      <th>New orleans, Louisiana</th>\n",
       "      <td>1668</td>\n",
       "      <td>57940</td>\n",
       "      <td>205</td>\n",
       "      <td>188</td>\n",
       "      <td>29</td>\n",
       "      <td>15296</td>\n",
       "    </tr>\n",
       "    <tr>\n",
       "      <th>Plano, Texas</th>\n",
       "      <td>3049</td>\n",
       "      <td>3516</td>\n",
       "      <td>433</td>\n",
       "      <td>3</td>\n",
       "      <td>54</td>\n",
       "      <td>6722</td>\n",
       "    </tr>\n",
       "  </tbody>\n",
       "</table>\n",
       "</div>"
      ],
      "text/plain": [
       "                               hispanic  black  asian/pacific islander  \\\n",
       "regions                                                                  \n",
       "Saint paul, Minnesota              4197  21701                    2989   \n",
       "Winston-salem, North Carolina      1398   4555                      24   \n",
       "Durham, North Carolina             2625  15382                      76   \n",
       "San diego, California              6501   3873                     910   \n",
       "Greensboro, North Carolina         1828  20654                     258   \n",
       "Hartford, Connecticut              1389   2037                      47   \n",
       "Austin, Texas                      7057   5071                     191   \n",
       "Burlington, Vermont                   5    100                       9   \n",
       "Raleigh, North Carolina            4568  19395                     225   \n",
       "Oakland, California                6722  30025                    1304   \n",
       "Louisville, Kentucky                318   3473                      28   \n",
       "Stockton, California               3069   2700                     447   \n",
       "Statewide, Rhode Island            3189   4310                     280   \n",
       "Philadelphia, Pennsylvania        14042  79661                    1128   \n",
       "San antonio, Texas                 5487   1913                      39   \n",
       "San francisco, California         11445  23622                    2861   \n",
       "New orleans, Louisiana             1668  57940                     205   \n",
       "Plano, Texas                       3049   3516                     433   \n",
       "\n",
       "                               unknown  other  white  \n",
       "regions                                               \n",
       "Saint paul, Minnesota                0    328  13861  \n",
       "Winston-salem, North Carolina       19     16   3197  \n",
       "Durham, North Carolina              66     35   3522  \n",
       "San diego, California                0    451   4510  \n",
       "Greensboro, North Carolina         199     96   8901  \n",
       "Hartford, Connecticut                0     10   1705  \n",
       "Austin, Texas                       90     73   6774  \n",
       "Burlington, Vermont                  0      5    300  \n",
       "Raleigh, North Carolina            146     30   8926  \n",
       "Oakland, California                  0    706   2400  \n",
       "Louisville, Kentucky                 0     46   3916  \n",
       "Stockton, California                 0    101    851  \n",
       "Statewide, Rhode Island              0     15   9968  \n",
       "Philadelphia, Pennsylvania         590    187  20847  \n",
       "San antonio, Texas                  31    145   4548  \n",
       "San francisco, California            0   3746  11707  \n",
       "New orleans, Louisiana             188     29  15296  \n",
       "Plano, Texas                         3     54   6722  "
      ]
     },
     "execution_count": 15,
     "metadata": {},
     "output_type": "execute_result"
    }
   ],
   "source": [
    "results_df_searches"
   ]
  },
  {
   "cell_type": "code",
   "execution_count": 16,
   "metadata": {},
   "outputs": [
    {
     "data": {
      "text/html": [
       "<div>\n",
       "<style scoped>\n",
       "    .dataframe tbody tr th:only-of-type {\n",
       "        vertical-align: middle;\n",
       "    }\n",
       "\n",
       "    .dataframe tbody tr th {\n",
       "        vertical-align: top;\n",
       "    }\n",
       "\n",
       "    .dataframe thead th {\n",
       "        text-align: right;\n",
       "    }\n",
       "</style>\n",
       "<table border=\"1\" class=\"dataframe\">\n",
       "  <thead>\n",
       "    <tr style=\"text-align: right;\">\n",
       "      <th></th>\n",
       "      <th>hispanic</th>\n",
       "      <th>black</th>\n",
       "      <th>asian/pacific islander</th>\n",
       "      <th>unknown</th>\n",
       "      <th>other</th>\n",
       "      <th>white</th>\n",
       "    </tr>\n",
       "    <tr>\n",
       "      <th>regions</th>\n",
       "      <th></th>\n",
       "      <th></th>\n",
       "      <th></th>\n",
       "      <th></th>\n",
       "      <th></th>\n",
       "      <th></th>\n",
       "    </tr>\n",
       "  </thead>\n",
       "  <tbody>\n",
       "    <tr>\n",
       "      <th>Saint paul, Minnesota</th>\n",
       "      <td>0.097464</td>\n",
       "      <td>0.114965</td>\n",
       "      <td>0.054440</td>\n",
       "      <td>0.000000</td>\n",
       "      <td>0.061980</td>\n",
       "      <td>0.052277</td>\n",
       "    </tr>\n",
       "    <tr>\n",
       "      <th>Winston-salem, North Carolina</th>\n",
       "      <td>0.030030</td>\n",
       "      <td>0.022636</td>\n",
       "      <td>0.007273</td>\n",
       "      <td>0.012033</td>\n",
       "      <td>0.022039</td>\n",
       "      <td>0.016051</td>\n",
       "    </tr>\n",
       "    <tr>\n",
       "      <th>Durham, North Carolina</th>\n",
       "      <td>0.067363</td>\n",
       "      <td>0.085053</td>\n",
       "      <td>0.015400</td>\n",
       "      <td>0.025473</td>\n",
       "      <td>0.027712</td>\n",
       "      <td>0.036155</td>\n",
       "    </tr>\n",
       "    <tr>\n",
       "      <th>San diego, California</th>\n",
       "      <td>0.055525</td>\n",
       "      <td>0.090692</td>\n",
       "      <td>0.027965</td>\n",
       "      <td>0.000000</td>\n",
       "      <td>0.016558</td>\n",
       "      <td>0.027801</td>\n",
       "    </tr>\n",
       "    <tr>\n",
       "      <th>Greensboro, North Carolina</th>\n",
       "      <td>0.065452</td>\n",
       "      <td>0.068871</td>\n",
       "      <td>0.024805</td>\n",
       "      <td>0.033809</td>\n",
       "      <td>0.040956</td>\n",
       "      <td>0.035102</td>\n",
       "    </tr>\n",
       "    <tr>\n",
       "      <th>Hartford, Connecticut</th>\n",
       "      <td>0.273802</td>\n",
       "      <td>0.286740</td>\n",
       "      <td>0.267045</td>\n",
       "      <td>0.000000</td>\n",
       "      <td>0.344828</td>\n",
       "      <td>0.281492</td>\n",
       "    </tr>\n",
       "    <tr>\n",
       "      <th>Austin, Texas</th>\n",
       "      <td>0.056937</td>\n",
       "      <td>0.070115</td>\n",
       "      <td>0.014506</td>\n",
       "      <td>0.028708</td>\n",
       "      <td>0.027799</td>\n",
       "      <td>0.025271</td>\n",
       "    </tr>\n",
       "    <tr>\n",
       "      <th>Burlington, Vermont</th>\n",
       "      <td>0.022422</td>\n",
       "      <td>0.034072</td>\n",
       "      <td>0.006194</td>\n",
       "      <td>0.000000</td>\n",
       "      <td>0.010593</td>\n",
       "      <td>0.010002</td>\n",
       "    </tr>\n",
       "    <tr>\n",
       "      <th>Raleigh, North Carolina</th>\n",
       "      <td>0.052230</td>\n",
       "      <td>0.050557</td>\n",
       "      <td>0.014659</td>\n",
       "      <td>0.018049</td>\n",
       "      <td>0.054054</td>\n",
       "      <td>0.024704</td>\n",
       "    </tr>\n",
       "    <tr>\n",
       "      <th>Oakland, California</th>\n",
       "      <td>0.256008</td>\n",
       "      <td>0.380424</td>\n",
       "      <td>0.161008</td>\n",
       "      <td>0.000000</td>\n",
       "      <td>0.156959</td>\n",
       "      <td>0.153571</td>\n",
       "    </tr>\n",
       "    <tr>\n",
       "      <th>Louisville, Kentucky</th>\n",
       "      <td>0.047776</td>\n",
       "      <td>0.075587</td>\n",
       "      <td>0.017273</td>\n",
       "      <td>0.000000</td>\n",
       "      <td>0.058899</td>\n",
       "      <td>0.042812</td>\n",
       "    </tr>\n",
       "    <tr>\n",
       "      <th>Stockton, California</th>\n",
       "      <td>0.185181</td>\n",
       "      <td>0.248390</td>\n",
       "      <td>0.118035</td>\n",
       "      <td>0.000000</td>\n",
       "      <td>0.061585</td>\n",
       "      <td>0.099497</td>\n",
       "    </tr>\n",
       "    <tr>\n",
       "      <th>Statewide, Rhode Island</th>\n",
       "      <td>0.060028</td>\n",
       "      <td>0.062847</td>\n",
       "      <td>0.021831</td>\n",
       "      <td>0.000000</td>\n",
       "      <td>0.011161</td>\n",
       "      <td>0.028915</td>\n",
       "    </tr>\n",
       "    <tr>\n",
       "      <th>Philadelphia, Pennsylvania</th>\n",
       "      <td>0.076239</td>\n",
       "      <td>0.064023</td>\n",
       "      <td>0.028028</td>\n",
       "      <td>0.039444</td>\n",
       "      <td>0.033405</td>\n",
       "      <td>0.055465</td>\n",
       "    </tr>\n",
       "    <tr>\n",
       "      <th>San antonio, Texas</th>\n",
       "      <td>0.008656</td>\n",
       "      <td>0.014519</td>\n",
       "      <td>0.002930</td>\n",
       "      <td>0.007694</td>\n",
       "      <td>0.005345</td>\n",
       "      <td>0.009277</td>\n",
       "    </tr>\n",
       "    <tr>\n",
       "      <th>San francisco, California</th>\n",
       "      <td>0.098652</td>\n",
       "      <td>0.155208</td>\n",
       "      <td>0.018144</td>\n",
       "      <td>0.000000</td>\n",
       "      <td>0.035056</td>\n",
       "      <td>0.031444</td>\n",
       "    </tr>\n",
       "    <tr>\n",
       "      <th>New orleans, Louisiana</th>\n",
       "      <td>0.123638</td>\n",
       "      <td>0.165629</td>\n",
       "      <td>0.054047</td>\n",
       "      <td>0.058494</td>\n",
       "      <td>0.084795</td>\n",
       "      <td>0.117931</td>\n",
       "    </tr>\n",
       "    <tr>\n",
       "      <th>Plano, Texas</th>\n",
       "      <td>0.088915</td>\n",
       "      <td>0.100234</td>\n",
       "      <td>0.016820</td>\n",
       "      <td>0.004644</td>\n",
       "      <td>0.018219</td>\n",
       "      <td>0.044718</td>\n",
       "    </tr>\n",
       "  </tbody>\n",
       "</table>\n",
       "</div>"
      ],
      "text/plain": [
       "                               hispanic     black  asian/pacific islander  \\\n",
       "regions                                                                     \n",
       "Saint paul, Minnesota          0.097464  0.114965                0.054440   \n",
       "Winston-salem, North Carolina  0.030030  0.022636                0.007273   \n",
       "Durham, North Carolina         0.067363  0.085053                0.015400   \n",
       "San diego, California          0.055525  0.090692                0.027965   \n",
       "Greensboro, North Carolina     0.065452  0.068871                0.024805   \n",
       "Hartford, Connecticut          0.273802  0.286740                0.267045   \n",
       "Austin, Texas                  0.056937  0.070115                0.014506   \n",
       "Burlington, Vermont            0.022422  0.034072                0.006194   \n",
       "Raleigh, North Carolina        0.052230  0.050557                0.014659   \n",
       "Oakland, California            0.256008  0.380424                0.161008   \n",
       "Louisville, Kentucky           0.047776  0.075587                0.017273   \n",
       "Stockton, California           0.185181  0.248390                0.118035   \n",
       "Statewide, Rhode Island        0.060028  0.062847                0.021831   \n",
       "Philadelphia, Pennsylvania     0.076239  0.064023                0.028028   \n",
       "San antonio, Texas             0.008656  0.014519                0.002930   \n",
       "San francisco, California      0.098652  0.155208                0.018144   \n",
       "New orleans, Louisiana         0.123638  0.165629                0.054047   \n",
       "Plano, Texas                   0.088915  0.100234                0.016820   \n",
       "\n",
       "                                unknown     other     white  \n",
       "regions                                                      \n",
       "Saint paul, Minnesota          0.000000  0.061980  0.052277  \n",
       "Winston-salem, North Carolina  0.012033  0.022039  0.016051  \n",
       "Durham, North Carolina         0.025473  0.027712  0.036155  \n",
       "San diego, California          0.000000  0.016558  0.027801  \n",
       "Greensboro, North Carolina     0.033809  0.040956  0.035102  \n",
       "Hartford, Connecticut          0.000000  0.344828  0.281492  \n",
       "Austin, Texas                  0.028708  0.027799  0.025271  \n",
       "Burlington, Vermont            0.000000  0.010593  0.010002  \n",
       "Raleigh, North Carolina        0.018049  0.054054  0.024704  \n",
       "Oakland, California            0.000000  0.156959  0.153571  \n",
       "Louisville, Kentucky           0.000000  0.058899  0.042812  \n",
       "Stockton, California           0.000000  0.061585  0.099497  \n",
       "Statewide, Rhode Island        0.000000  0.011161  0.028915  \n",
       "Philadelphia, Pennsylvania     0.039444  0.033405  0.055465  \n",
       "San antonio, Texas             0.007694  0.005345  0.009277  \n",
       "San francisco, California      0.000000  0.035056  0.031444  \n",
       "New orleans, Louisiana         0.058494  0.084795  0.117931  \n",
       "Plano, Texas                   0.004644  0.018219  0.044718  "
      ]
     },
     "execution_count": 16,
     "metadata": {},
     "output_type": "execute_result"
    }
   ],
   "source": [
    "search_rate_df = results_df_searches.copy()\n",
    "for col in results_df_race.columns[0:]:\n",
    "    search_rate_df[col] = results_df_searches[col] / results_df_race[col].replace(0, 1)  # Avoid division by zero\n",
    "\n",
    "search_rate_df"
   ]
  },
  {
   "cell_type": "code",
   "execution_count": 17,
   "metadata": {},
   "outputs": [],
   "source": [
    "search_rate_df.rename_axis('regions', inplace=True)\n",
    "search_rate_df.to_csv('h2_search_rate.csv')"
   ]
  },
  {
   "cell_type": "code",
   "execution_count": 1,
   "metadata": {},
   "outputs": [
    {
     "ename": "NameError",
     "evalue": "name 'search_rate_df' is not defined",
     "output_type": "error",
     "traceback": [
      "\u001b[0;31m---------------------------------------------------------------------------\u001b[0m",
      "\u001b[0;31mNameError\u001b[0m                                 Traceback (most recent call last)",
      "\u001b[1;32m/home/radhikesh/Documents/iiith/sem6/BRSM/Project/data_pp/code_h2.ipynb Cell 18\u001b[0m line \u001b[0;36m2\n\u001b[1;32m      <a href='vscode-notebook-cell:/home/radhikesh/Documents/iiith/sem6/BRSM/Project/data_pp/code_h2.ipynb#X23sZmlsZQ%3D%3D?line=0'>1</a>\u001b[0m traces \u001b[39m=\u001b[39m []\n\u001b[0;32m----> <a href='vscode-notebook-cell:/home/radhikesh/Documents/iiith/sem6/BRSM/Project/data_pp/code_h2.ipynb#X23sZmlsZQ%3D%3D?line=1'>2</a>\u001b[0m \u001b[39mfor\u001b[39;00m race \u001b[39min\u001b[39;00m search_rate_df\u001b[39m.\u001b[39mcolumns:\n\u001b[1;32m      <a href='vscode-notebook-cell:/home/radhikesh/Documents/iiith/sem6/BRSM/Project/data_pp/code_h2.ipynb#X23sZmlsZQ%3D%3D?line=2'>3</a>\u001b[0m     trace \u001b[39m=\u001b[39m go\u001b[39m.\u001b[39mBar(x\u001b[39m=\u001b[39msearch_rate_df\u001b[39m.\u001b[39mindex, y\u001b[39m=\u001b[39msearch_rate_df[race], name\u001b[39m=\u001b[39mrace)\n\u001b[1;32m      <a href='vscode-notebook-cell:/home/radhikesh/Documents/iiith/sem6/BRSM/Project/data_pp/code_h2.ipynb#X23sZmlsZQ%3D%3D?line=3'>4</a>\u001b[0m     traces\u001b[39m.\u001b[39mappend(trace)\n",
      "\u001b[0;31mNameError\u001b[0m: name 'search_rate_df' is not defined"
     ]
    }
   ],
   "source": [
    "traces = []\n",
    "for race in search_rate_df.columns:\n",
    "    trace = go.Bar(x=search_rate_df.index, y=search_rate_df[race], name=race)\n",
    "    traces.append(trace)\n",
    "\n",
    "# Create layout\n",
    "layout = go.Layout(title='Search Rate by Race and Region',\n",
    "                   xaxis=dict(title='Region'),\n",
    "                   yaxis=dict(title='Search Rate'))\n",
    "\n",
    "# Create figure\n",
    "fig = go.Figure(data=traces, layout=layout)\n",
    "\n",
    "# Show plot\n",
    "fig.show()\n"
   ]
  },
  {
   "cell_type": "code",
   "execution_count": 25,
   "metadata": {},
   "outputs": [
    {
     "ename": "ValueError",
     "evalue": "Must enter at least two input sample vectors.",
     "output_type": "error",
     "traceback": [
      "\u001b[0;31m---------------------------------------------------------------------------\u001b[0m",
      "\u001b[0;31mValueError\u001b[0m                                Traceback (most recent call last)",
      "\u001b[1;32m/home/radhikesh/Documents/iiith/sem6/BRSM/Project/data_pp/code_h2.ipynb Cell 19\u001b[0m line \u001b[0;36m7\n\u001b[1;32m      <a href='vscode-notebook-cell:/home/radhikesh/Documents/iiith/sem6/BRSM/Project/data_pp/code_h2.ipynb#X41sZmlsZQ%3D%3D?line=2'>3</a>\u001b[0m \u001b[39m# Assuming your DataFrame is named \"data\"\u001b[39;00m\n\u001b[1;32m      <a href='vscode-notebook-cell:/home/radhikesh/Documents/iiith/sem6/BRSM/Project/data_pp/code_h2.ipynb#X41sZmlsZQ%3D%3D?line=3'>4</a>\u001b[0m \u001b[39m# Perform Levene's test for each numeric column\u001b[39;00m\n\u001b[1;32m      <a href='vscode-notebook-cell:/home/radhikesh/Documents/iiith/sem6/BRSM/Project/data_pp/code_h2.ipynb#X41sZmlsZQ%3D%3D?line=4'>5</a>\u001b[0m \u001b[39mfor\u001b[39;00m column \u001b[39min\u001b[39;00m search_rate_df\u001b[39m.\u001b[39mselect_dtypes(include\u001b[39m=\u001b[39m\u001b[39m'\u001b[39m\u001b[39mnumber\u001b[39m\u001b[39m'\u001b[39m)\u001b[39m.\u001b[39mcolumns:\n\u001b[1;32m      <a href='vscode-notebook-cell:/home/radhikesh/Documents/iiith/sem6/BRSM/Project/data_pp/code_h2.ipynb#X41sZmlsZQ%3D%3D?line=5'>6</a>\u001b[0m     \u001b[39m# Perform Levene's test\u001b[39;00m\n\u001b[0;32m----> <a href='vscode-notebook-cell:/home/radhikesh/Documents/iiith/sem6/BRSM/Project/data_pp/code_h2.ipynb#X41sZmlsZQ%3D%3D?line=6'>7</a>\u001b[0m     statistic, p_value \u001b[39m=\u001b[39m levene(\u001b[39m*\u001b[39;49m[search_rate_df[column][\u001b[39m~\u001b[39;49msearch_rate_df[column]\u001b[39m.\u001b[39;49misnull()]])  \u001b[39m# Exclude NaN values\u001b[39;00m\n\u001b[1;32m      <a href='vscode-notebook-cell:/home/radhikesh/Documents/iiith/sem6/BRSM/Project/data_pp/code_h2.ipynb#X41sZmlsZQ%3D%3D?line=8'>9</a>\u001b[0m     \u001b[39m# Print the results\u001b[39;00m\n\u001b[1;32m     <a href='vscode-notebook-cell:/home/radhikesh/Documents/iiith/sem6/BRSM/Project/data_pp/code_h2.ipynb#X41sZmlsZQ%3D%3D?line=9'>10</a>\u001b[0m     \u001b[39mprint\u001b[39m(\u001b[39m\"\u001b[39m\u001b[39mColumn:\u001b[39m\u001b[39m\"\u001b[39m, column)\n",
      "File \u001b[0;32m~/miniconda3/lib/python3.11/site-packages/scipy/stats/_axis_nan_policy.py:531\u001b[0m, in \u001b[0;36m_axis_nan_policy_factory.<locals>.axis_nan_policy_decorator.<locals>.axis_nan_policy_wrapper\u001b[0;34m(***failed resolving arguments***)\u001b[0m\n\u001b[1;32m    529\u001b[0m \u001b[39mif\u001b[39;00m sentinel:\n\u001b[1;32m    530\u001b[0m     samples \u001b[39m=\u001b[39m _remove_sentinel(samples, paired, sentinel)\n\u001b[0;32m--> 531\u001b[0m res \u001b[39m=\u001b[39m hypotest_fun_out(\u001b[39m*\u001b[39;49msamples, \u001b[39m*\u001b[39;49m\u001b[39m*\u001b[39;49mkwds)\n\u001b[1;32m    532\u001b[0m res \u001b[39m=\u001b[39m result_to_tuple(res)\n\u001b[1;32m    533\u001b[0m res \u001b[39m=\u001b[39m _add_reduced_axes(res, reduced_axes, keepdims)\n",
      "File \u001b[0;32m~/miniconda3/lib/python3.11/site-packages/scipy/stats/_morestats.py:3261\u001b[0m, in \u001b[0;36mlevene\u001b[0;34m(center, proportiontocut, *samples)\u001b[0m\n\u001b[1;32m   3259\u001b[0m k \u001b[39m=\u001b[39m \u001b[39mlen\u001b[39m(samples)\n\u001b[1;32m   3260\u001b[0m \u001b[39mif\u001b[39;00m k \u001b[39m<\u001b[39m \u001b[39m2\u001b[39m:\n\u001b[0;32m-> 3261\u001b[0m     \u001b[39mraise\u001b[39;00m \u001b[39mValueError\u001b[39;00m(\u001b[39m\"\u001b[39m\u001b[39mMust enter at least two input sample vectors.\u001b[39m\u001b[39m\"\u001b[39m)\n\u001b[1;32m   3263\u001b[0m Ni \u001b[39m=\u001b[39m np\u001b[39m.\u001b[39mempty(k)\n\u001b[1;32m   3264\u001b[0m Yci \u001b[39m=\u001b[39m np\u001b[39m.\u001b[39mempty(k, \u001b[39m'\u001b[39m\u001b[39md\u001b[39m\u001b[39m'\u001b[39m)\n",
      "\u001b[0;31mValueError\u001b[0m: Must enter at least two input sample vectors."
     ]
    }
   ],
   "source": [
    "from scipy.stats import levene\n",
    "\n",
    "# Assuming your DataFrame is named \"data\"\n",
    "# Perform Levene's test for each numeric column\n",
    "for column in search_rate_df.select_dtypes(include='number').columns:\n",
    "    # Perform Levene's test\n",
    "    statistic, p_value = levene(*[search_rate_df[column][~search_rate_df[column].isnull()]])  # Exclude NaN values\n",
    "    \n",
    "    # Print the results\n",
    "    print(\"Column:\", column)\n",
    "    print(\"Levene's statistic:\", statistic)\n",
    "    print(\"p-value:\", p_value)\n",
    "    \n",
    "    if p_value < 0.05:\n",
    "        print(\"There is significant variation in column\", column)\n",
    "    else:\n",
    "        print(\"There is no significant variation in column\", column)\n",
    "    print()\n"
   ]
  },
  {
   "cell_type": "code",
   "execution_count": 22,
   "metadata": {},
   "outputs": [
    {
     "name": "stdout",
     "output_type": "stream",
     "text": [
      "Race: other\n",
      "Observed Difference: 0.0, p-value: 1.0\n",
      "Race: unknown\n",
      "Observed Difference: 0.0, p-value: 1.0\n",
      "Race: hispanic\n",
      "Observed Difference: 0.0, p-value: 0.868\n",
      "Race: black\n",
      "Observed Difference: 0.0, p-value: 0.693\n",
      "Race: white\n",
      "Observed Difference: 0.0, p-value: 0.626\n",
      "Race: asian/pacific islander\n",
      "Observed Difference: 0.0, p-value: 0.872\n"
     ]
    }
   ],
   "source": [
    "import numpy as np\n",
    "\n",
    "def compute_difference(region1, region2):\n",
    "    return np.mean(region1) - np.mean(region2)\n",
    "\n",
    "# Perform permutation testing for each race\n",
    "for race in search_rate_df.columns:\n",
    "    print(f\"Race: {race}\")\n",
    "    region_names = search_rate_df.index\n",
    "    num_permutations = 1000\n",
    "    observed_difference = compute_difference(search_rate_df[race], search_rate_df[race])\n",
    "\n",
    "    differences = []\n",
    "    for _ in range(num_permutations):\n",
    "        permuted_indices = np.random.permutation(len(region_names))\n",
    "        permuted_df = search_rate_df.iloc[permuted_indices]\n",
    "        permuted_difference = compute_difference(permuted_df[race], search_rate_df[race])\n",
    "        # permuted_df = pretty_print_dataframe(permuted_df)\n",
    "        # print(permuted_difference)\n",
    "        differences.append(permuted_difference)\n",
    "\n",
    "    differences = np.array(differences)\n",
    "    p_value = np.mean(differences >= observed_difference)\n",
    "    print(f\"Observed Difference: {observed_difference}, p-value: {p_value}\")\n",
    "    "
   ]
  },
  {
   "cell_type": "code",
   "execution_count": 21,
   "metadata": {},
   "outputs": [
    {
     "ename": "ValueError",
     "evalue": "setting an array element with a sequence. The requested array has an inhomogeneous shape after 1 dimensions. The detected shape was (9,) + inhomogeneous part.",
     "output_type": "error",
     "traceback": [
      "\u001b[0;31m---------------------------------------------------------------------------\u001b[0m",
      "\u001b[0;31mValueError\u001b[0m                                Traceback (most recent call last)",
      "\u001b[1;32m/home/radhikesh/Documents/iiith/sem6/BRSM/Project/data_pp/code_h2.ipynb Cell 21\u001b[0m line \u001b[0;36m3\n\u001b[1;32m     <a href='vscode-notebook-cell:/home/radhikesh/Documents/iiith/sem6/BRSM/Project/data_pp/code_h2.ipynb#X26sZmlsZQ%3D%3D?line=30'>31</a>\u001b[0m \u001b[39mfor\u001b[39;00m perm \u001b[39min\u001b[39;00m region_permutations:\n\u001b[1;32m     <a href='vscode-notebook-cell:/home/radhikesh/Documents/iiith/sem6/BRSM/Project/data_pp/code_h2.ipynb#X26sZmlsZQ%3D%3D?line=31'>32</a>\u001b[0m     permuted_search_rates \u001b[39m=\u001b[39m [search_rates[region] \u001b[39mfor\u001b[39;00m region \u001b[39min\u001b[39;00m perm]\n\u001b[0;32m---> <a href='vscode-notebook-cell:/home/radhikesh/Documents/iiith/sem6/BRSM/Project/data_pp/code_h2.ipynb#X26sZmlsZQ%3D%3D?line=32'>33</a>\u001b[0m     mean_search_rate \u001b[39m=\u001b[39m np\u001b[39m.\u001b[39;49mmean(permuted_search_rates)\n\u001b[1;32m     <a href='vscode-notebook-cell:/home/radhikesh/Documents/iiith/sem6/BRSM/Project/data_pp/code_h2.ipynb#X26sZmlsZQ%3D%3D?line=33'>34</a>\u001b[0m     permuted_means\u001b[39m.\u001b[39mappend(mean_search_rate)\n\u001b[1;32m     <a href='vscode-notebook-cell:/home/radhikesh/Documents/iiith/sem6/BRSM/Project/data_pp/code_h2.ipynb#X26sZmlsZQ%3D%3D?line=35'>36</a>\u001b[0m \u001b[39m# Calculate p-value\u001b[39;00m\n",
      "File \u001b[0;32m~/miniconda3/lib/python3.11/site-packages/numpy/core/fromnumeric.py:3504\u001b[0m, in \u001b[0;36mmean\u001b[0;34m(a, axis, dtype, out, keepdims, where)\u001b[0m\n\u001b[1;32m   3501\u001b[0m     \u001b[39melse\u001b[39;00m:\n\u001b[1;32m   3502\u001b[0m         \u001b[39mreturn\u001b[39;00m mean(axis\u001b[39m=\u001b[39maxis, dtype\u001b[39m=\u001b[39mdtype, out\u001b[39m=\u001b[39mout, \u001b[39m*\u001b[39m\u001b[39m*\u001b[39mkwargs)\n\u001b[0;32m-> 3504\u001b[0m \u001b[39mreturn\u001b[39;00m _methods\u001b[39m.\u001b[39;49m_mean(a, axis\u001b[39m=\u001b[39;49maxis, dtype\u001b[39m=\u001b[39;49mdtype,\n\u001b[1;32m   3505\u001b[0m                       out\u001b[39m=\u001b[39;49mout, \u001b[39m*\u001b[39;49m\u001b[39m*\u001b[39;49mkwargs)\n",
      "File \u001b[0;32m~/miniconda3/lib/python3.11/site-packages/numpy/core/_methods.py:102\u001b[0m, in \u001b[0;36m_mean\u001b[0;34m(a, axis, dtype, out, keepdims, where)\u001b[0m\n\u001b[1;32m    101\u001b[0m \u001b[39mdef\u001b[39;00m \u001b[39m_mean\u001b[39m(a, axis\u001b[39m=\u001b[39m\u001b[39mNone\u001b[39;00m, dtype\u001b[39m=\u001b[39m\u001b[39mNone\u001b[39;00m, out\u001b[39m=\u001b[39m\u001b[39mNone\u001b[39;00m, keepdims\u001b[39m=\u001b[39m\u001b[39mFalse\u001b[39;00m, \u001b[39m*\u001b[39m, where\u001b[39m=\u001b[39m\u001b[39mTrue\u001b[39;00m):\n\u001b[0;32m--> 102\u001b[0m     arr \u001b[39m=\u001b[39m asanyarray(a)\n\u001b[1;32m    104\u001b[0m     is_float16_result \u001b[39m=\u001b[39m \u001b[39mFalse\u001b[39;00m\n\u001b[1;32m    106\u001b[0m     rcount \u001b[39m=\u001b[39m _count_reduce_items(arr, axis, keepdims\u001b[39m=\u001b[39mkeepdims, where\u001b[39m=\u001b[39mwhere)\n",
      "\u001b[0;31mValueError\u001b[0m: setting an array element with a sequence. The requested array has an inhomogeneous shape after 1 dimensions. The detected shape was (9,) + inhomogeneous part."
     ]
    }
   ],
   "source": [
    "import pandas as pd\n",
    "import numpy as np\n",
    "from itertools import permutations\n",
    "\n",
    "# Function to calculate search rate\n",
    "def calculate_search_rate(df):\n",
    "    total_stops = len(df)\n",
    "    searched_stops = df['search_conducted'].sum()\n",
    "    search_rate = searched_stops / total_stops\n",
    "    return search_rate\n",
    "\n",
    "# Read CSV files in chunks and calculate search rates\n",
    "regions = all_files.copy()\n",
    "search_rates = {}\n",
    "\n",
    "for region in regions:\n",
    "    search_rates[region] = []\n",
    "    chunk_size = 10000  # Adjust based on your memory constraints\n",
    "    for chunk in pd.read_csv(region, chunksize=chunk_size):\n",
    "        search_rate = calculate_search_rate(chunk)\n",
    "        search_rates[region].append(search_rate)\n",
    "\n",
    "# Perform permutation test\n",
    "observed_means = {region: np.mean(search_rates[region]) for region in regions}\n",
    "\n",
    "# Generate all possible permutations of the regions\n",
    "region_permutations = permutations(regions)\n",
    "\n",
    "# Calculate mean search rates for each permutation\n",
    "permuted_means = []\n",
    "for perm in region_permutations:\n",
    "    permuted_search_rates = [search_rates[region] for region in perm]\n",
    "    mean_search_rate = np.mean(permuted_search_rates)\n",
    "    permuted_means.append(mean_search_rate)\n",
    "\n",
    "# Calculate p-value\n",
    "observed_mean = np.mean(list(observed_means.values()))\n",
    "p_value = np.mean(np.array(permuted_means) >= observed_mean)\n",
    "\n",
    "print(\"Observed Mean Search Rates:\", observed_means)\n",
    "print(\"P-value:\", p_value)\n"
   ]
  },
  {
   "cell_type": "code",
   "execution_count": null,
   "metadata": {},
   "outputs": [
    {
     "name": "stdout",
     "output_type": "stream",
     "text": [
      "<bound method Styler.to_string of <pandas.io.formats.style.Styler object at 0x7f4db06e5490>>\n"
     ]
    },
    {
     "data": {
      "text/html": [
       "<div>\n",
       "<style scoped>\n",
       "    .dataframe tbody tr th:only-of-type {\n",
       "        vertical-align: middle;\n",
       "    }\n",
       "\n",
       "    .dataframe tbody tr th {\n",
       "        vertical-align: top;\n",
       "    }\n",
       "\n",
       "    .dataframe thead th {\n",
       "        text-align: right;\n",
       "    }\n",
       "</style>\n",
       "<table border=\"1\" class=\"dataframe\">\n",
       "  <thead>\n",
       "    <tr style=\"text-align: right;\">\n",
       "      <th></th>\n",
       "      <th>Name</th>\n",
       "      <th>Age</th>\n",
       "      <th>Salary</th>\n",
       "    </tr>\n",
       "  </thead>\n",
       "  <tbody>\n",
       "    <tr>\n",
       "      <th>0</th>\n",
       "      <td>Alice</td>\n",
       "      <td>25</td>\n",
       "      <td>50000</td>\n",
       "    </tr>\n",
       "    <tr>\n",
       "      <th>1</th>\n",
       "      <td>Bob</td>\n",
       "      <td>30</td>\n",
       "      <td>60000</td>\n",
       "    </tr>\n",
       "    <tr>\n",
       "      <th>2</th>\n",
       "      <td>Charlie</td>\n",
       "      <td>35</td>\n",
       "      <td>70000</td>\n",
       "    </tr>\n",
       "    <tr>\n",
       "      <th>3</th>\n",
       "      <td>David</td>\n",
       "      <td>40</td>\n",
       "      <td>80000</td>\n",
       "    </tr>\n",
       "    <tr>\n",
       "      <th>4</th>\n",
       "      <td>Emily</td>\n",
       "      <td>45</td>\n",
       "      <td>90000</td>\n",
       "    </tr>\n",
       "  </tbody>\n",
       "</table>\n",
       "</div>"
      ],
      "text/plain": [
       "      Name  Age  Salary\n",
       "0    Alice   25   50000\n",
       "1      Bob   30   60000\n",
       "2  Charlie   35   70000\n",
       "3    David   40   80000\n",
       "4    Emily   45   90000"
      ]
     },
     "execution_count": 52,
     "metadata": {},
     "output_type": "execute_result"
    }
   ],
   "source": [
    "import pandas as pd\n",
    "\n",
    "def pretty_print_dataframe(df):\n",
    "    # Function to highlight the maximum value in each column\n",
    "    def highlight_max(s):\n",
    "        is_max = s == s.max()\n",
    "        return ['background-color: yellow' if v else '' for v in is_max]\n",
    "\n",
    "    # Style DataFrame for better visualization\n",
    "    styled_df = df.style \\\n",
    "        .set_caption('Sample DataFrame') \\\n",
    "        .set_table_styles([{'selector': 'caption', 'props': [('color', 'blue'), ('font-size', '18px')]}]) \\\n",
    "        .background_gradient(cmap='coolwarm', subset=['Salary']) \\\n",
    "        .apply(highlight_max, subset=['Age', 'Salary']) \\\n",
    "        .format({'Salary': \"${:,.0f}\"}) \\\n",
    "        .set_properties(**{'text-align': 'center'})\n",
    "\n",
    "    # Print the styled DataFrame\n",
    "    print(styled_df.to_string)\n",
    "\n",
    "# Sample DataFrame\n",
    "data = {'Name': ['Alice', 'Bob', 'Charlie', 'David', 'Emily'],\n",
    "        'Age': [25, 30, 35, 40, 45],\n",
    "        'Salary': [50000, 60000, 70000, 80000, 90000]}\n",
    "\n",
    "df = pd.DataFrame(data)\n",
    "\n",
    "# Print styled DataFrame\n",
    "pretty_print_dataframe(df)\n",
    "df"
   ]
  },
  {
   "cell_type": "code",
   "execution_count": 32,
   "metadata": {},
   "outputs": [
    {
     "name": "stdout",
     "output_type": "stream",
     "text": [
      "other unknown hispanic black white asian/pacific_islander ~ C(Region)\n"
     ]
    }
   ],
   "source": [
    "import pandas as pd\n",
    "from statsmodels.formula.api import ols\n",
    "from statsmodels.stats.anova import anova_lm\n",
    "\n",
    "# Step 1: Load CSV into DataFrame\n",
    "data = pd.read_csv('h2_search_rate.csv')\n",
    "\n",
    "# Step 2: Perform ANOVA\n",
    "# Assuming 'Region' is the first column and the rest are races\n",
    "formula = ' '.join(data.columns[1:]) + ' ~ C(Region)'\n",
    "\n",
    "print(formula)\n",
    "# lm = ols(formula, data=data).fit()\n",
    "# anova_table = anova_lm(lm)\n",
    "\n",
    "# print(anova_table)\n"
   ]
  },
  {
   "cell_type": "code",
   "execution_count": 31,
   "metadata": {},
   "outputs": [
    {
     "name": "stdout",
     "output_type": "stream",
     "text": [
      "     Search_Rate            Subject_Race\n",
      "0       0.097464                hispanic\n",
      "1       0.114965                   black\n",
      "2       0.054440  asian/pacific islander\n",
      "3       0.000000                 unknown\n",
      "4       0.061980                   other\n",
      "..           ...                     ...\n",
      "103     0.100234                   black\n",
      "104     0.016820  asian/pacific islander\n",
      "105     0.004644                 unknown\n",
      "106     0.018219                   other\n",
      "107     0.044718                   white\n",
      "\n",
      "[108 rows x 2 columns]\n"
     ]
    }
   ],
   "source": [
    "df_new = search_rate_df.stack().reset_index()\n",
    "df_new.columns = ['index', 'Subject_Race', 'Search_Rate']\n",
    "df_new = df_new[['Search_Rate', 'Subject_Race']]\n",
    "\n",
    "df_new.to_csv('h2_search_rate_new.csv')\n",
    "\n",
    "\n",
    "print(df_new)\n"
   ]
  },
  {
   "cell_type": "code",
   "execution_count": 32,
   "metadata": {},
   "outputs": [],
   "source": [
    "# save as csv\n",
    "df_new.to_csv('h2_search_rate_new.csv')"
   ]
  },
  {
   "cell_type": "code",
   "execution_count": 37,
   "metadata": {},
   "outputs": [
    {
     "data": {
      "application/vnd.plotly.v1+json": {
       "config": {
        "plotlyServerURL": "https://plot.ly"
       },
       "data": [
        {
         "type": "bar",
         "x": [
          "hispanic",
          "black",
          "asian/pacific islander",
          "unknown",
          "other",
          "white",
          "hispanic",
          "black",
          "asian/pacific islander",
          "unknown",
          "other",
          "white",
          "hispanic",
          "black",
          "asian/pacific islander",
          "unknown",
          "other",
          "white",
          "hispanic",
          "black",
          "asian/pacific islander",
          "unknown",
          "other",
          "white",
          "hispanic",
          "black",
          "asian/pacific islander",
          "unknown",
          "other",
          "white",
          "hispanic",
          "black",
          "asian/pacific islander",
          "unknown",
          "other",
          "white",
          "hispanic",
          "black",
          "asian/pacific islander",
          "unknown",
          "other",
          "white",
          "hispanic",
          "black",
          "asian/pacific islander",
          "unknown",
          "other",
          "white",
          "hispanic",
          "black",
          "asian/pacific islander",
          "unknown",
          "other",
          "white",
          "hispanic",
          "black",
          "asian/pacific islander",
          "unknown",
          "other",
          "white",
          "hispanic",
          "black",
          "asian/pacific islander",
          "unknown",
          "other",
          "white",
          "hispanic",
          "black",
          "asian/pacific islander",
          "unknown",
          "other",
          "white",
          "hispanic",
          "black",
          "asian/pacific islander",
          "unknown",
          "other",
          "white",
          "hispanic",
          "black",
          "asian/pacific islander",
          "unknown",
          "other",
          "white",
          "hispanic",
          "black",
          "asian/pacific islander",
          "unknown",
          "other",
          "white",
          "hispanic",
          "black",
          "asian/pacific islander",
          "unknown",
          "other",
          "white",
          "hispanic",
          "black",
          "asian/pacific islander",
          "unknown",
          "other",
          "white",
          "hispanic",
          "black",
          "asian/pacific islander",
          "unknown",
          "other",
          "white"
         ],
         "y": [
          0.09746412149923367,
          0.11496548545515228,
          0.05444047792510564,
          0,
          0.06198034769463341,
          0.052277450281546185,
          0.030029642995231344,
          0.02263623984972121,
          0.007272727272727273,
          0.012032932235592146,
          0.02203856749311295,
          0.016051211246391365,
          0.06736296448367891,
          0.08505344178356769,
          0.015400202634245188,
          0.02547279042840602,
          0.027711797307996833,
          0.03615459631473592,
          0.055524713237617755,
          0.0906919564453811,
          0.027964721428351925,
          0,
          0.016557750201923783,
          0.027800722448929272,
          0.06545168104837266,
          0.06887123073896356,
          0.024805307182001732,
          0.03380903839619436,
          0.040955631399317405,
          0.035102179245506245,
          0.2738024837374335,
          0.28673986486486486,
          0.26704545454545453,
          0,
          0.3448275862068966,
          0.2814924880303781,
          0.05693746318872385,
          0.07011503788507273,
          0.014505961874382927,
          0.028708133971291867,
          0.027798933739527798,
          0.025270650381633824,
          0.02242152466367713,
          0.034071550255536626,
          0.006194081211286993,
          0,
          0.01059322033898305,
          0.010002000400080016,
          0.05222959067002058,
          0.050556789389721295,
          0.01465893543553326,
          0.01804920262084312,
          0.05405405405405406,
          0.024703931982541744,
          0.25600792169707126,
          0.3804244535951853,
          0.16100753179404864,
          0,
          0.15695864828812806,
          0.15357051446122344,
          0.047776442307692304,
          0.07558708947265327,
          0.01727328809376928,
          0,
          0.058898847631242,
          0.04281185088006997,
          0.18518071562179447,
          0.24839006439742412,
          0.11803538420913652,
          0,
          0.061585365853658536,
          0.09949725242604934,
          0.060028235294117646,
          0.06284722728532058,
          0.021830656479026978,
          0,
          0.011160714285714286,
          0.028915047543903415,
          0.07623897841289146,
          0.06402335866856232,
          0.028028326500186357,
          0.03944377590586977,
          0.033404787424080026,
          0.05546450558981754,
          0.008655679984351313,
          0.014518601721285348,
          0.002929907595221997,
          0.00769421692727724,
          0.005344636933284188,
          0.009277278012361544,
          0.09865188684124329,
          0.15520775841677836,
          0.018143882702113086,
          0,
          0.03505586853581388,
          0.03144355094301108,
          0.12363798087613966,
          0.16562851074412768,
          0.054046928552596886,
          0.05849408836341008,
          0.0847953216374269,
          0.1179309653593209,
          0.08891545886675804,
          0.10023376475283653,
          0.01682010643670124,
          0.0046439628482972135,
          0.018218623481781375,
          0.044717637588893105
         ]
        }
       ],
       "layout": {
        "template": {
         "data": {
          "bar": [
           {
            "error_x": {
             "color": "#2a3f5f"
            },
            "error_y": {
             "color": "#2a3f5f"
            },
            "marker": {
             "line": {
              "color": "#E5ECF6",
              "width": 0.5
             },
             "pattern": {
              "fillmode": "overlay",
              "size": 10,
              "solidity": 0.2
             }
            },
            "type": "bar"
           }
          ],
          "barpolar": [
           {
            "marker": {
             "line": {
              "color": "#E5ECF6",
              "width": 0.5
             },
             "pattern": {
              "fillmode": "overlay",
              "size": 10,
              "solidity": 0.2
             }
            },
            "type": "barpolar"
           }
          ],
          "carpet": [
           {
            "aaxis": {
             "endlinecolor": "#2a3f5f",
             "gridcolor": "white",
             "linecolor": "white",
             "minorgridcolor": "white",
             "startlinecolor": "#2a3f5f"
            },
            "baxis": {
             "endlinecolor": "#2a3f5f",
             "gridcolor": "white",
             "linecolor": "white",
             "minorgridcolor": "white",
             "startlinecolor": "#2a3f5f"
            },
            "type": "carpet"
           }
          ],
          "choropleth": [
           {
            "colorbar": {
             "outlinewidth": 0,
             "ticks": ""
            },
            "type": "choropleth"
           }
          ],
          "contour": [
           {
            "colorbar": {
             "outlinewidth": 0,
             "ticks": ""
            },
            "colorscale": [
             [
              0,
              "#0d0887"
             ],
             [
              0.1111111111111111,
              "#46039f"
             ],
             [
              0.2222222222222222,
              "#7201a8"
             ],
             [
              0.3333333333333333,
              "#9c179e"
             ],
             [
              0.4444444444444444,
              "#bd3786"
             ],
             [
              0.5555555555555556,
              "#d8576b"
             ],
             [
              0.6666666666666666,
              "#ed7953"
             ],
             [
              0.7777777777777778,
              "#fb9f3a"
             ],
             [
              0.8888888888888888,
              "#fdca26"
             ],
             [
              1,
              "#f0f921"
             ]
            ],
            "type": "contour"
           }
          ],
          "contourcarpet": [
           {
            "colorbar": {
             "outlinewidth": 0,
             "ticks": ""
            },
            "type": "contourcarpet"
           }
          ],
          "heatmap": [
           {
            "colorbar": {
             "outlinewidth": 0,
             "ticks": ""
            },
            "colorscale": [
             [
              0,
              "#0d0887"
             ],
             [
              0.1111111111111111,
              "#46039f"
             ],
             [
              0.2222222222222222,
              "#7201a8"
             ],
             [
              0.3333333333333333,
              "#9c179e"
             ],
             [
              0.4444444444444444,
              "#bd3786"
             ],
             [
              0.5555555555555556,
              "#d8576b"
             ],
             [
              0.6666666666666666,
              "#ed7953"
             ],
             [
              0.7777777777777778,
              "#fb9f3a"
             ],
             [
              0.8888888888888888,
              "#fdca26"
             ],
             [
              1,
              "#f0f921"
             ]
            ],
            "type": "heatmap"
           }
          ],
          "heatmapgl": [
           {
            "colorbar": {
             "outlinewidth": 0,
             "ticks": ""
            },
            "colorscale": [
             [
              0,
              "#0d0887"
             ],
             [
              0.1111111111111111,
              "#46039f"
             ],
             [
              0.2222222222222222,
              "#7201a8"
             ],
             [
              0.3333333333333333,
              "#9c179e"
             ],
             [
              0.4444444444444444,
              "#bd3786"
             ],
             [
              0.5555555555555556,
              "#d8576b"
             ],
             [
              0.6666666666666666,
              "#ed7953"
             ],
             [
              0.7777777777777778,
              "#fb9f3a"
             ],
             [
              0.8888888888888888,
              "#fdca26"
             ],
             [
              1,
              "#f0f921"
             ]
            ],
            "type": "heatmapgl"
           }
          ],
          "histogram": [
           {
            "marker": {
             "pattern": {
              "fillmode": "overlay",
              "size": 10,
              "solidity": 0.2
             }
            },
            "type": "histogram"
           }
          ],
          "histogram2d": [
           {
            "colorbar": {
             "outlinewidth": 0,
             "ticks": ""
            },
            "colorscale": [
             [
              0,
              "#0d0887"
             ],
             [
              0.1111111111111111,
              "#46039f"
             ],
             [
              0.2222222222222222,
              "#7201a8"
             ],
             [
              0.3333333333333333,
              "#9c179e"
             ],
             [
              0.4444444444444444,
              "#bd3786"
             ],
             [
              0.5555555555555556,
              "#d8576b"
             ],
             [
              0.6666666666666666,
              "#ed7953"
             ],
             [
              0.7777777777777778,
              "#fb9f3a"
             ],
             [
              0.8888888888888888,
              "#fdca26"
             ],
             [
              1,
              "#f0f921"
             ]
            ],
            "type": "histogram2d"
           }
          ],
          "histogram2dcontour": [
           {
            "colorbar": {
             "outlinewidth": 0,
             "ticks": ""
            },
            "colorscale": [
             [
              0,
              "#0d0887"
             ],
             [
              0.1111111111111111,
              "#46039f"
             ],
             [
              0.2222222222222222,
              "#7201a8"
             ],
             [
              0.3333333333333333,
              "#9c179e"
             ],
             [
              0.4444444444444444,
              "#bd3786"
             ],
             [
              0.5555555555555556,
              "#d8576b"
             ],
             [
              0.6666666666666666,
              "#ed7953"
             ],
             [
              0.7777777777777778,
              "#fb9f3a"
             ],
             [
              0.8888888888888888,
              "#fdca26"
             ],
             [
              1,
              "#f0f921"
             ]
            ],
            "type": "histogram2dcontour"
           }
          ],
          "mesh3d": [
           {
            "colorbar": {
             "outlinewidth": 0,
             "ticks": ""
            },
            "type": "mesh3d"
           }
          ],
          "parcoords": [
           {
            "line": {
             "colorbar": {
              "outlinewidth": 0,
              "ticks": ""
             }
            },
            "type": "parcoords"
           }
          ],
          "pie": [
           {
            "automargin": true,
            "type": "pie"
           }
          ],
          "scatter": [
           {
            "fillpattern": {
             "fillmode": "overlay",
             "size": 10,
             "solidity": 0.2
            },
            "type": "scatter"
           }
          ],
          "scatter3d": [
           {
            "line": {
             "colorbar": {
              "outlinewidth": 0,
              "ticks": ""
             }
            },
            "marker": {
             "colorbar": {
              "outlinewidth": 0,
              "ticks": ""
             }
            },
            "type": "scatter3d"
           }
          ],
          "scattercarpet": [
           {
            "marker": {
             "colorbar": {
              "outlinewidth": 0,
              "ticks": ""
             }
            },
            "type": "scattercarpet"
           }
          ],
          "scattergeo": [
           {
            "marker": {
             "colorbar": {
              "outlinewidth": 0,
              "ticks": ""
             }
            },
            "type": "scattergeo"
           }
          ],
          "scattergl": [
           {
            "marker": {
             "colorbar": {
              "outlinewidth": 0,
              "ticks": ""
             }
            },
            "type": "scattergl"
           }
          ],
          "scattermapbox": [
           {
            "marker": {
             "colorbar": {
              "outlinewidth": 0,
              "ticks": ""
             }
            },
            "type": "scattermapbox"
           }
          ],
          "scatterpolar": [
           {
            "marker": {
             "colorbar": {
              "outlinewidth": 0,
              "ticks": ""
             }
            },
            "type": "scatterpolar"
           }
          ],
          "scatterpolargl": [
           {
            "marker": {
             "colorbar": {
              "outlinewidth": 0,
              "ticks": ""
             }
            },
            "type": "scatterpolargl"
           }
          ],
          "scatterternary": [
           {
            "marker": {
             "colorbar": {
              "outlinewidth": 0,
              "ticks": ""
             }
            },
            "type": "scatterternary"
           }
          ],
          "surface": [
           {
            "colorbar": {
             "outlinewidth": 0,
             "ticks": ""
            },
            "colorscale": [
             [
              0,
              "#0d0887"
             ],
             [
              0.1111111111111111,
              "#46039f"
             ],
             [
              0.2222222222222222,
              "#7201a8"
             ],
             [
              0.3333333333333333,
              "#9c179e"
             ],
             [
              0.4444444444444444,
              "#bd3786"
             ],
             [
              0.5555555555555556,
              "#d8576b"
             ],
             [
              0.6666666666666666,
              "#ed7953"
             ],
             [
              0.7777777777777778,
              "#fb9f3a"
             ],
             [
              0.8888888888888888,
              "#fdca26"
             ],
             [
              1,
              "#f0f921"
             ]
            ],
            "type": "surface"
           }
          ],
          "table": [
           {
            "cells": {
             "fill": {
              "color": "#EBF0F8"
             },
             "line": {
              "color": "white"
             }
            },
            "header": {
             "fill": {
              "color": "#C8D4E3"
             },
             "line": {
              "color": "white"
             }
            },
            "type": "table"
           }
          ]
         },
         "layout": {
          "annotationdefaults": {
           "arrowcolor": "#2a3f5f",
           "arrowhead": 0,
           "arrowwidth": 1
          },
          "autotypenumbers": "strict",
          "coloraxis": {
           "colorbar": {
            "outlinewidth": 0,
            "ticks": ""
           }
          },
          "colorscale": {
           "diverging": [
            [
             0,
             "#8e0152"
            ],
            [
             0.1,
             "#c51b7d"
            ],
            [
             0.2,
             "#de77ae"
            ],
            [
             0.3,
             "#f1b6da"
            ],
            [
             0.4,
             "#fde0ef"
            ],
            [
             0.5,
             "#f7f7f7"
            ],
            [
             0.6,
             "#e6f5d0"
            ],
            [
             0.7,
             "#b8e186"
            ],
            [
             0.8,
             "#7fbc41"
            ],
            [
             0.9,
             "#4d9221"
            ],
            [
             1,
             "#276419"
            ]
           ],
           "sequential": [
            [
             0,
             "#0d0887"
            ],
            [
             0.1111111111111111,
             "#46039f"
            ],
            [
             0.2222222222222222,
             "#7201a8"
            ],
            [
             0.3333333333333333,
             "#9c179e"
            ],
            [
             0.4444444444444444,
             "#bd3786"
            ],
            [
             0.5555555555555556,
             "#d8576b"
            ],
            [
             0.6666666666666666,
             "#ed7953"
            ],
            [
             0.7777777777777778,
             "#fb9f3a"
            ],
            [
             0.8888888888888888,
             "#fdca26"
            ],
            [
             1,
             "#f0f921"
            ]
           ],
           "sequentialminus": [
            [
             0,
             "#0d0887"
            ],
            [
             0.1111111111111111,
             "#46039f"
            ],
            [
             0.2222222222222222,
             "#7201a8"
            ],
            [
             0.3333333333333333,
             "#9c179e"
            ],
            [
             0.4444444444444444,
             "#bd3786"
            ],
            [
             0.5555555555555556,
             "#d8576b"
            ],
            [
             0.6666666666666666,
             "#ed7953"
            ],
            [
             0.7777777777777778,
             "#fb9f3a"
            ],
            [
             0.8888888888888888,
             "#fdca26"
            ],
            [
             1,
             "#f0f921"
            ]
           ]
          },
          "colorway": [
           "#636efa",
           "#EF553B",
           "#00cc96",
           "#ab63fa",
           "#FFA15A",
           "#19d3f3",
           "#FF6692",
           "#B6E880",
           "#FF97FF",
           "#FECB52"
          ],
          "font": {
           "color": "#2a3f5f"
          },
          "geo": {
           "bgcolor": "white",
           "lakecolor": "white",
           "landcolor": "#E5ECF6",
           "showlakes": true,
           "showland": true,
           "subunitcolor": "white"
          },
          "hoverlabel": {
           "align": "left"
          },
          "hovermode": "closest",
          "mapbox": {
           "style": "light"
          },
          "paper_bgcolor": "white",
          "plot_bgcolor": "#E5ECF6",
          "polar": {
           "angularaxis": {
            "gridcolor": "white",
            "linecolor": "white",
            "ticks": ""
           },
           "bgcolor": "#E5ECF6",
           "radialaxis": {
            "gridcolor": "white",
            "linecolor": "white",
            "ticks": ""
           }
          },
          "scene": {
           "xaxis": {
            "backgroundcolor": "#E5ECF6",
            "gridcolor": "white",
            "gridwidth": 2,
            "linecolor": "white",
            "showbackground": true,
            "ticks": "",
            "zerolinecolor": "white"
           },
           "yaxis": {
            "backgroundcolor": "#E5ECF6",
            "gridcolor": "white",
            "gridwidth": 2,
            "linecolor": "white",
            "showbackground": true,
            "ticks": "",
            "zerolinecolor": "white"
           },
           "zaxis": {
            "backgroundcolor": "#E5ECF6",
            "gridcolor": "white",
            "gridwidth": 2,
            "linecolor": "white",
            "showbackground": true,
            "ticks": "",
            "zerolinecolor": "white"
           }
          },
          "shapedefaults": {
           "line": {
            "color": "#2a3f5f"
           }
          },
          "ternary": {
           "aaxis": {
            "gridcolor": "white",
            "linecolor": "white",
            "ticks": ""
           },
           "baxis": {
            "gridcolor": "white",
            "linecolor": "white",
            "ticks": ""
           },
           "bgcolor": "#E5ECF6",
           "caxis": {
            "gridcolor": "white",
            "linecolor": "white",
            "ticks": ""
           }
          },
          "title": {
           "x": 0.05
          },
          "xaxis": {
           "automargin": true,
           "gridcolor": "white",
           "linecolor": "white",
           "ticks": "",
           "title": {
            "standoff": 15
           },
           "zerolinecolor": "white",
           "zerolinewidth": 2
          },
          "yaxis": {
           "automargin": true,
           "gridcolor": "white",
           "linecolor": "white",
           "ticks": "",
           "title": {
            "standoff": 15
           },
           "zerolinecolor": "white",
           "zerolinewidth": 2
          }
         }
        },
        "title": {
         "text": "DataFrame Values"
        },
        "xaxis": {
         "title": {
          "text": "Column Heading"
         }
        },
        "yaxis": {
         "title": {
          "text": "Value"
         }
        }
       }
      }
     },
     "metadata": {},
     "output_type": "display_data"
    }
   ],
   "source": [
    "fig = go.Figure(data=[go.Bar(x=df_new['Subject_Race'], y=df_new['Search_Rate'])])\n",
    "fig.update_layout(title='DataFrame Values', xaxis_title='Column Heading', yaxis_title='Value')\n",
    "\n",
    "# Show the plot\n",
    "fig.show()"
   ]
  },
  {
   "cell_type": "code",
   "execution_count": 34,
   "metadata": {},
   "outputs": [
    {
     "name": "stdout",
     "output_type": "stream",
     "text": [
      "                    df    sum_sq   mean_sq        F    PR(>F)\n",
      "C(Subject_Race)    5.0  0.115881  0.023176  4.48449  0.000981\n",
      "Residual         102.0  0.527144  0.005168      NaN       NaN\n"
     ]
    }
   ],
   "source": [
    "formula = 'Search_Rate ~ C(Subject_Race)' # Assuming 'Region' is the first column\n",
    "\n",
    "lm = ols(formula, data=df_new).fit()\n",
    "anova_table = anova_lm(lm)\n",
    "\n",
    "print(anova_table)"
   ]
  },
  {
   "cell_type": "code",
   "execution_count": 43,
   "metadata": {},
   "outputs": [
    {
     "name": "stderr",
     "output_type": "stream",
     "text": [
      "Reading CSV files:  94%|█████████▍| 17/18 [00:07<00:00,  1.50file/s]/tmp/ipykernel_478/3279641826.py:23: DtypeWarning:\n",
      "\n",
      "Columns (22) have mixed types. Specify dtype option on import or set low_memory=False.\n",
      "\n",
      "Reading CSV files: 100%|██████████| 18/18 [00:08<00:00,  2.23file/s]\n"
     ]
    },
    {
     "name": "stdout",
     "output_type": "stream",
     "text": [
      "             subject_race search_conducted\n",
      "0                   other            False\n",
      "1                hispanic            False\n",
      "2  asian/pacific islander            False\n",
      "3                   white            False\n",
      "4                   white            False\n",
      "Number of data points read from each file:\n",
      "./data_h2/mn_saint_paul_2020_04_01.csv: 135031\n",
      "./data_h2/nc_winston-salem_2020_04_01.csv: 90512\n",
      "./data_h2/nc_durham_2020_04_01.csv: 65204\n",
      "./data_h2/ca_san_diego_2020_04_01.csv: 76605\n",
      "./data_h2/nc_greensboro_2020_04_01.csv: 120006\n",
      "./data_h2/ct_hartford_2020_04_01.csv: 3687\n",
      "./data_h2/tx_austin_2020_04_01.csv: 96651\n",
      "./data_h2/vt_burlington_2023_01_26.csv: 7369\n",
      "./data_h2/nc_raleigh_2020_04_01.csv: 171280\n",
      "./data_h2/ca_oakland_2020_04_01.csv: 26681\n",
      "./data_h2/ky_louisville_2023_01_26.csv: 29312\n",
      "./data_h2/ca_stockton_2020_04_01.csv: 8325\n",
      "./data_h2/ri_statewide_2020_04_01.csv: 101936\n",
      "./data_h2/pa_philadelphia_2020_04_01.csv: 373019\n",
      "./data_h2/tx_san_antonio_2023_01_26.csv: 260220\n",
      "./data_h2/ca_san_francisco_2020_04_01.csv: 181014\n",
      "./data_h2/la_new_orleans_2020_04_01.csv: 102418\n",
      "./data_h2/tx_plano_2020_04_01.csv: 49808\n"
     ]
    }
   ],
   "source": [
    "import pandas as pd\n",
    "import os\n",
    "import random\n",
    "\n",
    "# List of CSV files\n",
    "csv_files = ['file1.csv', 'file2.csv', 'file3.csv']  # Add more files as needed\n",
    "\n",
    "# Percentage of data to read\n",
    "percentage_to_read = 0.2  # Change this to the desired percentage\n",
    "\n",
    "# Columns to keep\n",
    "columns_to_keep = ['subject_race', 'search_conducted']\n",
    "\n",
    "# Initialize an empty DataFrame to store the sampled data\n",
    "sampled_data = pd.DataFrame()\n",
    "\n",
    "# Initialize a dictionary to keep track of how many data points were read from each file\n",
    "data_points_read = {file: 0 for file in all_files}\n",
    "\n",
    "# Loop through each CSV file\n",
    "for file in tqdm(all_files, desc=\"Reading CSV files\", unit=\"file\"):\n",
    "    # Read a random sample of data from the CSV file\n",
    "    df = pd.read_csv(file, usecols=columns_to_keep)\n",
    "    num_rows = len(df)\n",
    "    num_rows_to_read = int(percentage_to_read * num_rows)\n",
    "    random_rows = random.sample(range(num_rows), num_rows_to_read)\n",
    "    sampled_df = df.iloc[random_rows]\n",
    "    \n",
    "    # Increment the count of data points read from this file\n",
    "    data_points_read[file] = num_rows_to_read\n",
    "    \n",
    "    # Append the sampled data to the DataFrame\n",
    "    sampled_data = pd.concat([sampled_data, sampled_df], ignore_index=True)\n",
    "\n",
    "# Permute the data\n",
    "sampled_data = sampled_data.sample(frac=1).reset_index(drop=True)\n",
    "\n",
    "# Store the sampled data in a new CSV file\n",
    "sampled_data.to_csv('sampled_data_permuted.csv', index=False)\n",
    "\n",
    "# Display the first few rows of the permuted sampled data\n",
    "print(sampled_data.head())\n",
    "\n",
    "# Display how many data points were read from each file\n",
    "print(\"Number of data points read from each file:\")\n",
    "for file, count in data_points_read.items():\n",
    "    print(f\"{file}: {count}\")"
   ]
  },
  {
   "cell_type": "code",
   "execution_count": 1,
   "metadata": {},
   "outputs": [
    {
     "data": {
      "application/vnd.plotly.v1+json": {
       "config": {
        "plotlyServerURL": "https://plot.ly"
       },
       "data": [
        {
         "alignmentgroup": "True",
         "box": {
          "visible": true
         },
         "hovertemplate": "category=%{x}<br>value=%{y}<extra></extra>",
         "legendgroup": "",
         "marker": {
          "color": "#636efa"
         },
         "name": "",
         "offsetgroup": "",
         "orientation": "v",
         "points": "all",
         "scalegroup": "True",
         "showlegend": false,
         "type": "violin",
         "x": [
          "A",
          "A",
          "B",
          "B",
          "C",
          "C"
         ],
         "x0": " ",
         "xaxis": "x",
         "y": [
          1,
          2,
          3,
          4,
          5,
          6
         ],
         "y0": " ",
         "yaxis": "y"
        }
       ],
       "layout": {
        "legend": {
         "tracegroupgap": 0
        },
        "margin": {
         "t": 60
        },
        "template": {
         "data": {
          "bar": [
           {
            "error_x": {
             "color": "#2a3f5f"
            },
            "error_y": {
             "color": "#2a3f5f"
            },
            "marker": {
             "line": {
              "color": "#E5ECF6",
              "width": 0.5
             },
             "pattern": {
              "fillmode": "overlay",
              "size": 10,
              "solidity": 0.2
             }
            },
            "type": "bar"
           }
          ],
          "barpolar": [
           {
            "marker": {
             "line": {
              "color": "#E5ECF6",
              "width": 0.5
             },
             "pattern": {
              "fillmode": "overlay",
              "size": 10,
              "solidity": 0.2
             }
            },
            "type": "barpolar"
           }
          ],
          "carpet": [
           {
            "aaxis": {
             "endlinecolor": "#2a3f5f",
             "gridcolor": "white",
             "linecolor": "white",
             "minorgridcolor": "white",
             "startlinecolor": "#2a3f5f"
            },
            "baxis": {
             "endlinecolor": "#2a3f5f",
             "gridcolor": "white",
             "linecolor": "white",
             "minorgridcolor": "white",
             "startlinecolor": "#2a3f5f"
            },
            "type": "carpet"
           }
          ],
          "choropleth": [
           {
            "colorbar": {
             "outlinewidth": 0,
             "ticks": ""
            },
            "type": "choropleth"
           }
          ],
          "contour": [
           {
            "colorbar": {
             "outlinewidth": 0,
             "ticks": ""
            },
            "colorscale": [
             [
              0,
              "#0d0887"
             ],
             [
              0.1111111111111111,
              "#46039f"
             ],
             [
              0.2222222222222222,
              "#7201a8"
             ],
             [
              0.3333333333333333,
              "#9c179e"
             ],
             [
              0.4444444444444444,
              "#bd3786"
             ],
             [
              0.5555555555555556,
              "#d8576b"
             ],
             [
              0.6666666666666666,
              "#ed7953"
             ],
             [
              0.7777777777777778,
              "#fb9f3a"
             ],
             [
              0.8888888888888888,
              "#fdca26"
             ],
             [
              1,
              "#f0f921"
             ]
            ],
            "type": "contour"
           }
          ],
          "contourcarpet": [
           {
            "colorbar": {
             "outlinewidth": 0,
             "ticks": ""
            },
            "type": "contourcarpet"
           }
          ],
          "heatmap": [
           {
            "colorbar": {
             "outlinewidth": 0,
             "ticks": ""
            },
            "colorscale": [
             [
              0,
              "#0d0887"
             ],
             [
              0.1111111111111111,
              "#46039f"
             ],
             [
              0.2222222222222222,
              "#7201a8"
             ],
             [
              0.3333333333333333,
              "#9c179e"
             ],
             [
              0.4444444444444444,
              "#bd3786"
             ],
             [
              0.5555555555555556,
              "#d8576b"
             ],
             [
              0.6666666666666666,
              "#ed7953"
             ],
             [
              0.7777777777777778,
              "#fb9f3a"
             ],
             [
              0.8888888888888888,
              "#fdca26"
             ],
             [
              1,
              "#f0f921"
             ]
            ],
            "type": "heatmap"
           }
          ],
          "heatmapgl": [
           {
            "colorbar": {
             "outlinewidth": 0,
             "ticks": ""
            },
            "colorscale": [
             [
              0,
              "#0d0887"
             ],
             [
              0.1111111111111111,
              "#46039f"
             ],
             [
              0.2222222222222222,
              "#7201a8"
             ],
             [
              0.3333333333333333,
              "#9c179e"
             ],
             [
              0.4444444444444444,
              "#bd3786"
             ],
             [
              0.5555555555555556,
              "#d8576b"
             ],
             [
              0.6666666666666666,
              "#ed7953"
             ],
             [
              0.7777777777777778,
              "#fb9f3a"
             ],
             [
              0.8888888888888888,
              "#fdca26"
             ],
             [
              1,
              "#f0f921"
             ]
            ],
            "type": "heatmapgl"
           }
          ],
          "histogram": [
           {
            "marker": {
             "pattern": {
              "fillmode": "overlay",
              "size": 10,
              "solidity": 0.2
             }
            },
            "type": "histogram"
           }
          ],
          "histogram2d": [
           {
            "colorbar": {
             "outlinewidth": 0,
             "ticks": ""
            },
            "colorscale": [
             [
              0,
              "#0d0887"
             ],
             [
              0.1111111111111111,
              "#46039f"
             ],
             [
              0.2222222222222222,
              "#7201a8"
             ],
             [
              0.3333333333333333,
              "#9c179e"
             ],
             [
              0.4444444444444444,
              "#bd3786"
             ],
             [
              0.5555555555555556,
              "#d8576b"
             ],
             [
              0.6666666666666666,
              "#ed7953"
             ],
             [
              0.7777777777777778,
              "#fb9f3a"
             ],
             [
              0.8888888888888888,
              "#fdca26"
             ],
             [
              1,
              "#f0f921"
             ]
            ],
            "type": "histogram2d"
           }
          ],
          "histogram2dcontour": [
           {
            "colorbar": {
             "outlinewidth": 0,
             "ticks": ""
            },
            "colorscale": [
             [
              0,
              "#0d0887"
             ],
             [
              0.1111111111111111,
              "#46039f"
             ],
             [
              0.2222222222222222,
              "#7201a8"
             ],
             [
              0.3333333333333333,
              "#9c179e"
             ],
             [
              0.4444444444444444,
              "#bd3786"
             ],
             [
              0.5555555555555556,
              "#d8576b"
             ],
             [
              0.6666666666666666,
              "#ed7953"
             ],
             [
              0.7777777777777778,
              "#fb9f3a"
             ],
             [
              0.8888888888888888,
              "#fdca26"
             ],
             [
              1,
              "#f0f921"
             ]
            ],
            "type": "histogram2dcontour"
           }
          ],
          "mesh3d": [
           {
            "colorbar": {
             "outlinewidth": 0,
             "ticks": ""
            },
            "type": "mesh3d"
           }
          ],
          "parcoords": [
           {
            "line": {
             "colorbar": {
              "outlinewidth": 0,
              "ticks": ""
             }
            },
            "type": "parcoords"
           }
          ],
          "pie": [
           {
            "automargin": true,
            "type": "pie"
           }
          ],
          "scatter": [
           {
            "fillpattern": {
             "fillmode": "overlay",
             "size": 10,
             "solidity": 0.2
            },
            "type": "scatter"
           }
          ],
          "scatter3d": [
           {
            "line": {
             "colorbar": {
              "outlinewidth": 0,
              "ticks": ""
             }
            },
            "marker": {
             "colorbar": {
              "outlinewidth": 0,
              "ticks": ""
             }
            },
            "type": "scatter3d"
           }
          ],
          "scattercarpet": [
           {
            "marker": {
             "colorbar": {
              "outlinewidth": 0,
              "ticks": ""
             }
            },
            "type": "scattercarpet"
           }
          ],
          "scattergeo": [
           {
            "marker": {
             "colorbar": {
              "outlinewidth": 0,
              "ticks": ""
             }
            },
            "type": "scattergeo"
           }
          ],
          "scattergl": [
           {
            "marker": {
             "colorbar": {
              "outlinewidth": 0,
              "ticks": ""
             }
            },
            "type": "scattergl"
           }
          ],
          "scattermapbox": [
           {
            "marker": {
             "colorbar": {
              "outlinewidth": 0,
              "ticks": ""
             }
            },
            "type": "scattermapbox"
           }
          ],
          "scatterpolar": [
           {
            "marker": {
             "colorbar": {
              "outlinewidth": 0,
              "ticks": ""
             }
            },
            "type": "scatterpolar"
           }
          ],
          "scatterpolargl": [
           {
            "marker": {
             "colorbar": {
              "outlinewidth": 0,
              "ticks": ""
             }
            },
            "type": "scatterpolargl"
           }
          ],
          "scatterternary": [
           {
            "marker": {
             "colorbar": {
              "outlinewidth": 0,
              "ticks": ""
             }
            },
            "type": "scatterternary"
           }
          ],
          "surface": [
           {
            "colorbar": {
             "outlinewidth": 0,
             "ticks": ""
            },
            "colorscale": [
             [
              0,
              "#0d0887"
             ],
             [
              0.1111111111111111,
              "#46039f"
             ],
             [
              0.2222222222222222,
              "#7201a8"
             ],
             [
              0.3333333333333333,
              "#9c179e"
             ],
             [
              0.4444444444444444,
              "#bd3786"
             ],
             [
              0.5555555555555556,
              "#d8576b"
             ],
             [
              0.6666666666666666,
              "#ed7953"
             ],
             [
              0.7777777777777778,
              "#fb9f3a"
             ],
             [
              0.8888888888888888,
              "#fdca26"
             ],
             [
              1,
              "#f0f921"
             ]
            ],
            "type": "surface"
           }
          ],
          "table": [
           {
            "cells": {
             "fill": {
              "color": "#EBF0F8"
             },
             "line": {
              "color": "white"
             }
            },
            "header": {
             "fill": {
              "color": "#C8D4E3"
             },
             "line": {
              "color": "white"
             }
            },
            "type": "table"
           }
          ]
         },
         "layout": {
          "annotationdefaults": {
           "arrowcolor": "#2a3f5f",
           "arrowhead": 0,
           "arrowwidth": 1
          },
          "autotypenumbers": "strict",
          "coloraxis": {
           "colorbar": {
            "outlinewidth": 0,
            "ticks": ""
           }
          },
          "colorscale": {
           "diverging": [
            [
             0,
             "#8e0152"
            ],
            [
             0.1,
             "#c51b7d"
            ],
            [
             0.2,
             "#de77ae"
            ],
            [
             0.3,
             "#f1b6da"
            ],
            [
             0.4,
             "#fde0ef"
            ],
            [
             0.5,
             "#f7f7f7"
            ],
            [
             0.6,
             "#e6f5d0"
            ],
            [
             0.7,
             "#b8e186"
            ],
            [
             0.8,
             "#7fbc41"
            ],
            [
             0.9,
             "#4d9221"
            ],
            [
             1,
             "#276419"
            ]
           ],
           "sequential": [
            [
             0,
             "#0d0887"
            ],
            [
             0.1111111111111111,
             "#46039f"
            ],
            [
             0.2222222222222222,
             "#7201a8"
            ],
            [
             0.3333333333333333,
             "#9c179e"
            ],
            [
             0.4444444444444444,
             "#bd3786"
            ],
            [
             0.5555555555555556,
             "#d8576b"
            ],
            [
             0.6666666666666666,
             "#ed7953"
            ],
            [
             0.7777777777777778,
             "#fb9f3a"
            ],
            [
             0.8888888888888888,
             "#fdca26"
            ],
            [
             1,
             "#f0f921"
            ]
           ],
           "sequentialminus": [
            [
             0,
             "#0d0887"
            ],
            [
             0.1111111111111111,
             "#46039f"
            ],
            [
             0.2222222222222222,
             "#7201a8"
            ],
            [
             0.3333333333333333,
             "#9c179e"
            ],
            [
             0.4444444444444444,
             "#bd3786"
            ],
            [
             0.5555555555555556,
             "#d8576b"
            ],
            [
             0.6666666666666666,
             "#ed7953"
            ],
            [
             0.7777777777777778,
             "#fb9f3a"
            ],
            [
             0.8888888888888888,
             "#fdca26"
            ],
            [
             1,
             "#f0f921"
            ]
           ]
          },
          "colorway": [
           "#636efa",
           "#EF553B",
           "#00cc96",
           "#ab63fa",
           "#FFA15A",
           "#19d3f3",
           "#FF6692",
           "#B6E880",
           "#FF97FF",
           "#FECB52"
          ],
          "font": {
           "color": "#2a3f5f"
          },
          "geo": {
           "bgcolor": "white",
           "lakecolor": "white",
           "landcolor": "#E5ECF6",
           "showlakes": true,
           "showland": true,
           "subunitcolor": "white"
          },
          "hoverlabel": {
           "align": "left"
          },
          "hovermode": "closest",
          "mapbox": {
           "style": "light"
          },
          "paper_bgcolor": "white",
          "plot_bgcolor": "#E5ECF6",
          "polar": {
           "angularaxis": {
            "gridcolor": "white",
            "linecolor": "white",
            "ticks": ""
           },
           "bgcolor": "#E5ECF6",
           "radialaxis": {
            "gridcolor": "white",
            "linecolor": "white",
            "ticks": ""
           }
          },
          "scene": {
           "xaxis": {
            "backgroundcolor": "#E5ECF6",
            "gridcolor": "white",
            "gridwidth": 2,
            "linecolor": "white",
            "showbackground": true,
            "ticks": "",
            "zerolinecolor": "white"
           },
           "yaxis": {
            "backgroundcolor": "#E5ECF6",
            "gridcolor": "white",
            "gridwidth": 2,
            "linecolor": "white",
            "showbackground": true,
            "ticks": "",
            "zerolinecolor": "white"
           },
           "zaxis": {
            "backgroundcolor": "#E5ECF6",
            "gridcolor": "white",
            "gridwidth": 2,
            "linecolor": "white",
            "showbackground": true,
            "ticks": "",
            "zerolinecolor": "white"
           }
          },
          "shapedefaults": {
           "line": {
            "color": "#2a3f5f"
           }
          },
          "ternary": {
           "aaxis": {
            "gridcolor": "white",
            "linecolor": "white",
            "ticks": ""
           },
           "baxis": {
            "gridcolor": "white",
            "linecolor": "white",
            "ticks": ""
           },
           "bgcolor": "#E5ECF6",
           "caxis": {
            "gridcolor": "white",
            "linecolor": "white",
            "ticks": ""
           }
          },
          "title": {
           "x": 0.05
          },
          "xaxis": {
           "automargin": true,
           "gridcolor": "white",
           "linecolor": "white",
           "ticks": "",
           "title": {
            "standoff": 15
           },
           "zerolinecolor": "white",
           "zerolinewidth": 2
          },
          "yaxis": {
           "automargin": true,
           "gridcolor": "white",
           "linecolor": "white",
           "ticks": "",
           "title": {
            "standoff": 15
           },
           "zerolinecolor": "white",
           "zerolinewidth": 2
          }
         }
        },
        "title": {
         "text": "Violin Plot"
        },
        "violinmode": "group",
        "xaxis": {
         "anchor": "y",
         "domain": [
          0,
          1
         ],
         "title": {
          "text": "Category"
         }
        },
        "yaxis": {
         "anchor": "x",
         "domain": [
          0,
          1
         ],
         "title": {
          "text": "Value"
         }
        }
       }
      }
     },
     "metadata": {},
     "output_type": "display_data"
    }
   ],
   "source": [
    "import pandas as pd\n",
    "import plotly.express as px\n",
    "\n",
    "# Example DataFrame\n",
    "data = {\n",
    "    'category': ['A', 'A', 'B', 'B', 'C', 'C'],\n",
    "    'value': [1, 2, 3, 4, 5, 6]\n",
    "}\n",
    "\n",
    "df = pd.DataFrame(data)\n",
    "\n",
    "# Create violin plot using Plotly\n",
    "fig = px.violin(df, y='value', x='category', box=True, points='all', hover_data=df.columns)\n",
    "fig.update_layout(title='Violin Plot', xaxis_title='Category', yaxis_title='Value')\n",
    "fig.show()\n"
   ]
  }
 ],
 "metadata": {
  "kernelspec": {
   "display_name": "base",
   "language": "python",
   "name": "python3"
  },
  "language_info": {
   "codemirror_mode": {
    "name": "ipython",
    "version": 3
   },
   "file_extension": ".py",
   "mimetype": "text/x-python",
   "name": "python",
   "nbconvert_exporter": "python",
   "pygments_lexer": "ipython3",
   "version": "3.11.6"
  }
 },
 "nbformat": 4,
 "nbformat_minor": 2
}
