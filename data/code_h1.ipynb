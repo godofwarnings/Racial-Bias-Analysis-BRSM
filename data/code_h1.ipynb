{
 "cells": [
  {
   "cell_type": "code",
   "execution_count": 1,
   "metadata": {},
   "outputs": [],
   "source": [
    "import numpy as np \n",
    "import pandas as pd\n",
    "import glob\n",
    "import os\n",
    "from tqdm import tqdm\n",
    "import re"
   ]
  },
  {
   "cell_type": "code",
   "execution_count": 2,
   "metadata": {},
   "outputs": [],
   "source": [
    "def calculate_stops_by_race(df):\n",
    "    stops_by_race = df.groupby('subject_race').size().reset_index(name='stops_count')\n",
    "    stops_by_race = stops_by_race.set_index('subject_race')\n",
    "    return stops_by_race"
   ]
  },
  {
   "cell_type": "code",
   "execution_count": 3,
   "metadata": {},
   "outputs": [],
   "source": [
    "def extract_filename(filenames):\n",
    "    \"\"\"\n",
    "    Extracts the filename without extension from a list of filenames with paths.\n",
    "    \n",
    "    Args:\n",
    "        filenames (list): A list of filenames with paths.\n",
    "        \n",
    "    Returns:\n",
    "        list: A list of filenames without extensions.\n",
    "    \"\"\"\n",
    "    filenames_without_ext = []\n",
    "    for filename in filenames:\n",
    "        # Split the filename into the path and the filename with extension\n",
    "        path, filename_with_ext = os.path.split(filename)\n",
    "        \n",
    "        # Split the filename with extension into the filename and the extension\n",
    "        filename, ext = os.path.splitext(filename_with_ext)\n",
    "        \n",
    "        filenames_without_ext.append(filename)\n",
    "    \n",
    "    return filenames_without_ext"
   ]
  },
  {
   "cell_type": "code",
   "execution_count": 4,
   "metadata": {},
   "outputs": [],
   "source": [
    "def reformat_filename(filename):\n",
    "    # Extract state name until first underscore\n",
    "    state_match = re.match(r'^([^_]+)', filename)\n",
    "    state = state_match.group(1)\n",
    "    \n",
    "    # Extract city name until underscore followed by number\n",
    "    city_match = re.match(r'^[a-zA-Z]+_(.+?)_\\d{4}_\\d{2}_\\d{2}', filename)\n",
    "    city = city_match.group(1)\n",
    "    \n",
    "    state_names = {\n",
    "        \"al\": \"Alabama\", \"ak\": \"Alaska\", \"az\": \"Arizona\", \"ar\": \"Arkansas\",\n",
    "        \"ca\": \"California\", \"co\": \"Colorado\", \"ct\": \"Connecticut\", \"de\": \"Delaware\",\n",
    "        \"fl\": \"Florida\", \"ga\": \"Georgia\", \"hi\": \"Hawaii\", \"id\": \"Idaho\",\n",
    "        \"il\": \"Illinois\", \"in\": \"Indiana\", \"ia\": \"Iowa\", \"ks\": \"Kansas\",\n",
    "        \"ky\": \"Kentucky\", \"la\": \"Louisiana\", \"me\": \"Maine\", \"md\": \"Maryland\",\n",
    "        \"ma\": \"Massachusetts\", \"mi\": \"Michigan\", \"mn\": \"Minnesota\", \"ms\": \"Mississippi\",\n",
    "        \"mo\": \"Missouri\", \"mt\": \"Montana\", \"ne\": \"Nebraska\", \"nv\": \"Nevada\",\n",
    "        \"nh\": \"New Hampshire\", \"nj\": \"New Jersey\", \"nm\": \"New Mexico\", \"ny\": \"New York\",\n",
    "        \"nc\": \"North Carolina\", \"nd\": \"North Dakota\", \"oh\": \"Ohio\", \"ok\": \"Oklahoma\",\n",
    "        \"or\": \"Oregon\", \"pa\": \"Pennsylvania\", \"ri\": \"Rhode Island\", \"sc\": \"South Carolina\",\n",
    "        \"sd\": \"South Dakota\", \"tn\": \"Tennessee\", \"tx\": \"Texas\", \"ut\": \"Utah\",\n",
    "        \"vt\": \"Vermont\", \"va\": \"Virginia\", \"wa\": \"Washington\", \"wv\": \"West Virginia\",\n",
    "        \"wi\": \"Wisconsin\", \"wy\": \"Wyoming\"\n",
    "    }\n",
    "    \n",
    "    state_name = state_names.get(state.lower(), state)\n",
    "    city_name = city.replace(\"_\", \" \").capitalize()\n",
    "    \n",
    "    return f\"{city_name}, {state_name}\""
   ]
  },
  {
   "cell_type": "code",
   "execution_count": 5,
   "metadata": {},
   "outputs": [
    {
     "name": "stdout",
     "output_type": "stream",
     "text": [
      "['nc_greensboro_2020_04_01', 'ct_hartford_2020_04_01', 'ar_little_rock_2020_04_01', 'ca_bakersfield_2020_04_01', 'nc_fayetteville_2020_04_01', 'nc_raleigh_2020_04_01', 'ky_louisville_2023_01_26', 'tx_plano_2020_04_01']\n"
     ]
    },
    {
     "name": "stderr",
     "output_type": "stream",
     "text": [
      "Processing csv:   0%|          | 0/8 [00:00<?, ?csv/s]"
     ]
    },
    {
     "name": "stdout",
     "output_type": "stream",
     "text": [
      "Loading ./data_h1/nc_greensboro_2020_04_01.csv\n"
     ]
    },
    {
     "name": "stderr",
     "output_type": "stream",
     "text": [
      "Processing csv:  12%|█▎        | 1/8 [00:01<00:12,  1.76s/csv]"
     ]
    },
    {
     "name": "stdout",
     "output_type": "stream",
     "text": [
      "Loaded ./data_h1/nc_greensboro_2020_04_01.csv\n",
      "Loading ./data_h1/ct_hartford_2020_04_01.csv\n",
      "Loaded ./data_h1/ct_hartford_2020_04_01.csv\n",
      "Loading ./data_h1/ar_little_rock_2020_04_01.csv\n",
      "Loaded ./data_h1/ar_little_rock_2020_04_01.csv\n",
      "Loading ./data_h1/ca_bakersfield_2020_04_01.csv\n"
     ]
    },
    {
     "name": "stderr",
     "output_type": "stream",
     "text": [
      "Processing csv:  50%|█████     | 4/8 [00:02<00:01,  2.25csv/s]"
     ]
    },
    {
     "name": "stdout",
     "output_type": "stream",
     "text": [
      "Loaded ./data_h1/ca_bakersfield_2020_04_01.csv\n",
      "Loading ./data_h1/nc_fayetteville_2020_04_01.csv\n"
     ]
    },
    {
     "name": "stderr",
     "output_type": "stream",
     "text": [
      "Processing csv:  62%|██████▎   | 5/8 [00:03<00:02,  1.48csv/s]"
     ]
    },
    {
     "name": "stdout",
     "output_type": "stream",
     "text": [
      "Loaded ./data_h1/nc_fayetteville_2020_04_01.csv\n",
      "Loading ./data_h1/nc_raleigh_2020_04_01.csv\n"
     ]
    },
    {
     "name": "stderr",
     "output_type": "stream",
     "text": [
      "Processing csv:  75%|███████▌  | 6/8 [00:05<00:02,  1.06s/csv]"
     ]
    },
    {
     "name": "stdout",
     "output_type": "stream",
     "text": [
      "Loaded ./data_h1/nc_raleigh_2020_04_01.csv\n",
      "Loading ./data_h1/ky_louisville_2023_01_26.csv\n"
     ]
    },
    {
     "name": "stderr",
     "output_type": "stream",
     "text": [
      "Processing csv:  88%|████████▊ | 7/8 [00:05<00:00,  1.13csv/s]"
     ]
    },
    {
     "name": "stdout",
     "output_type": "stream",
     "text": [
      "Loaded ./data_h1/ky_louisville_2023_01_26.csv\n",
      "Loading ./data_h1/tx_plano_2020_04_01.csv\n"
     ]
    },
    {
     "name": "stderr",
     "output_type": "stream",
     "text": [
      "/tmp/ipykernel_504/3413447304.py:16: DtypeWarning: Columns (3,6,7,11,12,22,26,27,28,29,30,32,33,34) have mixed types. Specify dtype option on import or set low_memory=False.\n",
      "  df = pd.read_csv(filename, index_col=None, header=0)\n",
      "Processing csv: 100%|██████████| 8/8 [00:06<00:00,  1.19csv/s]"
     ]
    },
    {
     "name": "stdout",
     "output_type": "stream",
     "text": [
      "Loaded ./data_h1/tx_plano_2020_04_01.csv\n"
     ]
    },
    {
     "name": "stderr",
     "output_type": "stream",
     "text": [
      "\n"
     ]
    }
   ],
   "source": [
    "path = r'./data_h1/'\n",
    "all_files = glob.glob(path + \"/*.csv\")\n",
    "filenames = extract_filename(all_files)\n",
    "\n",
    "print(filenames)\n",
    "\n",
    "for i in range(len(filenames)):\n",
    "    filenames[i] = reformat_filename(filenames[i])\n",
    "\n",
    "stops_by_race_list = []\n",
    "all_races = set()\n",
    "\n",
    "for filename in tqdm(all_files, desc=\"Processing csv\", unit=\"csv\"):\n",
    "    print(f\"Loading {filename}\")\n",
    "    df = pd.read_csv(filename, index_col=None, header=0)\n",
    "    print(f\"Loaded {filename}\")\n",
    "    stops_by_race_list.append(calculate_stops_by_race(df))\n",
    "    all_races.update(df['subject_race'].unique())"
   ]
  },
  {
   "cell_type": "code",
   "execution_count": 6,
   "metadata": {},
   "outputs": [
    {
     "name": "stdout",
     "output_type": "stream",
     "text": [
      "{'black', 'white', 'other', nan, 'unknown', 'asian/pacific islander', 'hispanic'}\n"
     ]
    }
   ],
   "source": [
    "print(all_races)"
   ]
  },
  {
   "cell_type": "code",
   "execution_count": 7,
   "metadata": {},
   "outputs": [
    {
     "data": {
      "text/html": [
       "<div>\n",
       "<style scoped>\n",
       "    .dataframe tbody tr th:only-of-type {\n",
       "        vertical-align: middle;\n",
       "    }\n",
       "\n",
       "    .dataframe tbody tr th {\n",
       "        vertical-align: top;\n",
       "    }\n",
       "\n",
       "    .dataframe thead th {\n",
       "        text-align: right;\n",
       "    }\n",
       "</style>\n",
       "<table border=\"1\" class=\"dataframe\">\n",
       "  <thead>\n",
       "    <tr style=\"text-align: right;\">\n",
       "      <th></th>\n",
       "      <th>black</th>\n",
       "      <th>white</th>\n",
       "      <th>other</th>\n",
       "      <th>NaN</th>\n",
       "      <th>unknown</th>\n",
       "      <th>asian/pacific islander</th>\n",
       "      <th>hispanic</th>\n",
       "    </tr>\n",
       "  </thead>\n",
       "  <tbody>\n",
       "    <tr>\n",
       "      <th>Greensboro, North Carolina</th>\n",
       "      <td>299893</td>\n",
       "      <td>253574</td>\n",
       "      <td>2344</td>\n",
       "      <td>0</td>\n",
       "      <td>5886</td>\n",
       "      <td>10401</td>\n",
       "      <td>27929</td>\n",
       "    </tr>\n",
       "    <tr>\n",
       "      <th>Hartford, Connecticut</th>\n",
       "      <td>7104</td>\n",
       "      <td>6057</td>\n",
       "      <td>29</td>\n",
       "      <td>0</td>\n",
       "      <td>0</td>\n",
       "      <td>176</td>\n",
       "      <td>5073</td>\n",
       "    </tr>\n",
       "    <tr>\n",
       "      <th>Little rock, Arkansas</th>\n",
       "      <td>7044</td>\n",
       "      <td>6028</td>\n",
       "      <td>9</td>\n",
       "      <td>0</td>\n",
       "      <td>376</td>\n",
       "      <td>177</td>\n",
       "      <td>0</td>\n",
       "    </tr>\n",
       "    <tr>\n",
       "      <th>Bakersfield, California</th>\n",
       "      <td>19534</td>\n",
       "      <td>97505</td>\n",
       "      <td>291</td>\n",
       "      <td>0</td>\n",
       "      <td>10666</td>\n",
       "      <td>3931</td>\n",
       "      <td>56921</td>\n",
       "    </tr>\n",
       "    <tr>\n",
       "      <th>Fayetteville, North Carolina</th>\n",
       "      <td>274013</td>\n",
       "      <td>170523</td>\n",
       "      <td>5000</td>\n",
       "      <td>0</td>\n",
       "      <td>3448</td>\n",
       "      <td>5711</td>\n",
       "      <td>28303</td>\n",
       "    </tr>\n",
       "    <tr>\n",
       "      <th>Raleigh, North Carolina</th>\n",
       "      <td>383628</td>\n",
       "      <td>361319</td>\n",
       "      <td>555</td>\n",
       "      <td>0</td>\n",
       "      <td>8089</td>\n",
       "      <td>15349</td>\n",
       "      <td>87460</td>\n",
       "    </tr>\n",
       "    <tr>\n",
       "      <th>Louisville, Kentucky</th>\n",
       "      <td>45947</td>\n",
       "      <td>91470</td>\n",
       "      <td>781</td>\n",
       "      <td>0</td>\n",
       "      <td>2</td>\n",
       "      <td>1621</td>\n",
       "      <td>6656</td>\n",
       "    </tr>\n",
       "    <tr>\n",
       "      <th>Plano, Texas</th>\n",
       "      <td>35078</td>\n",
       "      <td>150321</td>\n",
       "      <td>2964</td>\n",
       "      <td>0</td>\n",
       "      <td>646</td>\n",
       "      <td>25743</td>\n",
       "      <td>34291</td>\n",
       "    </tr>\n",
       "  </tbody>\n",
       "</table>\n",
       "</div>"
      ],
      "text/plain": [
       "                               black   white  other  NaN  unknown  \\\n",
       "Greensboro, North Carolina    299893  253574   2344    0     5886   \n",
       "Hartford, Connecticut           7104    6057     29    0        0   \n",
       "Little rock, Arkansas           7044    6028      9    0      376   \n",
       "Bakersfield, California        19534   97505    291    0    10666   \n",
       "Fayetteville, North Carolina  274013  170523   5000    0     3448   \n",
       "Raleigh, North Carolina       383628  361319    555    0     8089   \n",
       "Louisville, Kentucky           45947   91470    781    0        2   \n",
       "Plano, Texas                   35078  150321   2964    0      646   \n",
       "\n",
       "                              asian/pacific islander  hispanic  \n",
       "Greensboro, North Carolina                     10401     27929  \n",
       "Hartford, Connecticut                            176      5073  \n",
       "Little rock, Arkansas                            177         0  \n",
       "Bakersfield, California                         3931     56921  \n",
       "Fayetteville, North Carolina                    5711     28303  \n",
       "Raleigh, North Carolina                        15349     87460  \n",
       "Louisville, Kentucky                            1621      6656  \n",
       "Plano, Texas                                   25743     34291  "
      ]
     },
     "execution_count": 7,
     "metadata": {},
     "output_type": "execute_result"
    }
   ],
   "source": [
    "results = {race: [] for race in all_races}\n",
    "\n",
    "for i in range(len(stops_by_race_list)):\n",
    "    for race in all_races:\n",
    "        if race in stops_by_race_list[i].index:\n",
    "            results[race].append(stops_by_race_list[i].loc[race, 'stops_count'])\n",
    "        else:\n",
    "            results[race].append(0)\n",
    "\n",
    "results_df = pd.DataFrame(results)\n",
    "results_df.index = [filename for filename in filenames]\n",
    "\n",
    "results_df.head(n=len(filenames))"
   ]
  },
  {
   "cell_type": "code",
   "execution_count": 8,
   "metadata": {},
   "outputs": [
    {
     "data": {
      "text/html": [
       "<div>\n",
       "<style scoped>\n",
       "    .dataframe tbody tr th:only-of-type {\n",
       "        vertical-align: middle;\n",
       "    }\n",
       "\n",
       "    .dataframe tbody tr th {\n",
       "        vertical-align: top;\n",
       "    }\n",
       "\n",
       "    .dataframe thead th {\n",
       "        text-align: right;\n",
       "    }\n",
       "</style>\n",
       "<table border=\"1\" class=\"dataframe\">\n",
       "  <thead>\n",
       "    <tr style=\"text-align: right;\">\n",
       "      <th></th>\n",
       "      <th>black</th>\n",
       "      <th>white</th>\n",
       "      <th>other</th>\n",
       "      <th>unknown</th>\n",
       "      <th>asian/pacific islander</th>\n",
       "      <th>hispanic</th>\n",
       "    </tr>\n",
       "  </thead>\n",
       "  <tbody>\n",
       "    <tr>\n",
       "      <th>Greensboro, North Carolina</th>\n",
       "      <td>299893</td>\n",
       "      <td>253574</td>\n",
       "      <td>2344</td>\n",
       "      <td>5886</td>\n",
       "      <td>10401</td>\n",
       "      <td>27929</td>\n",
       "    </tr>\n",
       "    <tr>\n",
       "      <th>Hartford, Connecticut</th>\n",
       "      <td>7104</td>\n",
       "      <td>6057</td>\n",
       "      <td>29</td>\n",
       "      <td>0</td>\n",
       "      <td>176</td>\n",
       "      <td>5073</td>\n",
       "    </tr>\n",
       "    <tr>\n",
       "      <th>Little rock, Arkansas</th>\n",
       "      <td>7044</td>\n",
       "      <td>6028</td>\n",
       "      <td>9</td>\n",
       "      <td>376</td>\n",
       "      <td>177</td>\n",
       "      <td>0</td>\n",
       "    </tr>\n",
       "    <tr>\n",
       "      <th>Bakersfield, California</th>\n",
       "      <td>19534</td>\n",
       "      <td>97505</td>\n",
       "      <td>291</td>\n",
       "      <td>10666</td>\n",
       "      <td>3931</td>\n",
       "      <td>56921</td>\n",
       "    </tr>\n",
       "    <tr>\n",
       "      <th>Fayetteville, North Carolina</th>\n",
       "      <td>274013</td>\n",
       "      <td>170523</td>\n",
       "      <td>5000</td>\n",
       "      <td>3448</td>\n",
       "      <td>5711</td>\n",
       "      <td>28303</td>\n",
       "    </tr>\n",
       "    <tr>\n",
       "      <th>Raleigh, North Carolina</th>\n",
       "      <td>383628</td>\n",
       "      <td>361319</td>\n",
       "      <td>555</td>\n",
       "      <td>8089</td>\n",
       "      <td>15349</td>\n",
       "      <td>87460</td>\n",
       "    </tr>\n",
       "    <tr>\n",
       "      <th>Louisville, Kentucky</th>\n",
       "      <td>45947</td>\n",
       "      <td>91470</td>\n",
       "      <td>781</td>\n",
       "      <td>2</td>\n",
       "      <td>1621</td>\n",
       "      <td>6656</td>\n",
       "    </tr>\n",
       "    <tr>\n",
       "      <th>Plano, Texas</th>\n",
       "      <td>35078</td>\n",
       "      <td>150321</td>\n",
       "      <td>2964</td>\n",
       "      <td>646</td>\n",
       "      <td>25743</td>\n",
       "      <td>34291</td>\n",
       "    </tr>\n",
       "  </tbody>\n",
       "</table>\n",
       "</div>"
      ],
      "text/plain": [
       "                               black   white  other  unknown  \\\n",
       "Greensboro, North Carolina    299893  253574   2344     5886   \n",
       "Hartford, Connecticut           7104    6057     29        0   \n",
       "Little rock, Arkansas           7044    6028      9      376   \n",
       "Bakersfield, California        19534   97505    291    10666   \n",
       "Fayetteville, North Carolina  274013  170523   5000     3448   \n",
       "Raleigh, North Carolina       383628  361319    555     8089   \n",
       "Louisville, Kentucky           45947   91470    781        2   \n",
       "Plano, Texas                   35078  150321   2964      646   \n",
       "\n",
       "                              asian/pacific islander  hispanic  \n",
       "Greensboro, North Carolina                     10401     27929  \n",
       "Hartford, Connecticut                            176      5073  \n",
       "Little rock, Arkansas                            177         0  \n",
       "Bakersfield, California                         3931     56921  \n",
       "Fayetteville, North Carolina                    5711     28303  \n",
       "Raleigh, North Carolina                        15349     87460  \n",
       "Louisville, Kentucky                            1621      6656  \n",
       "Plano, Texas                                   25743     34291  "
      ]
     },
     "execution_count": 8,
     "metadata": {},
     "output_type": "execute_result"
    }
   ],
   "source": [
    "results_df = results_df.loc[:, results_df.columns.notnull()]\n",
    "results_df"
   ]
  },
  {
   "cell_type": "code",
   "execution_count": 9,
   "metadata": {},
   "outputs": [],
   "source": [
    "results_df.rename_axis('regions', inplace=True)\n",
    "results_df.to_csv('h1_stop.csv')"
   ]
  },
  {
   "cell_type": "code",
   "execution_count": 10,
   "metadata": {},
   "outputs": [
    {
     "name": "stdout",
     "output_type": "stream",
     "text": [
      "Chi-square statistic: 409219.36407983885\n",
      "P-value: 0.0\n",
      "There is evidence of racial disparity in police stops.\n"
     ]
    },
    {
     "data": {
      "application/vnd.plotly.v1+json": {
       "config": {
        "plotlyServerURL": "https://plot.ly"
       },
       "data": [
        {
         "alignmentgroup": "True",
         "hovertemplate": "variable=black<br>regions=%{x}<br>value=%{y}<extra></extra>",
         "legendgroup": "black",
         "marker": {
          "color": "#636efa",
          "pattern": {
           "shape": ""
          }
         },
         "name": "black",
         "offsetgroup": "black",
         "orientation": "v",
         "showlegend": true,
         "textposition": "auto",
         "type": "bar",
         "x": [
          "Greensboro, North Carolina",
          "Hartford, Connecticut",
          "Little rock, Arkansas",
          "Bakersfield, California",
          "Fayetteville, North Carolina",
          "Raleigh, North Carolina",
          "Louisville, Kentucky",
          "Plano, Texas"
         ],
         "xaxis": "x",
         "y": [
          299893,
          7104,
          7044,
          19534,
          274013,
          383628,
          45947,
          35078
         ],
         "yaxis": "y"
        },
        {
         "alignmentgroup": "True",
         "hovertemplate": "variable=white<br>regions=%{x}<br>value=%{y}<extra></extra>",
         "legendgroup": "white",
         "marker": {
          "color": "#EF553B",
          "pattern": {
           "shape": ""
          }
         },
         "name": "white",
         "offsetgroup": "white",
         "orientation": "v",
         "showlegend": true,
         "textposition": "auto",
         "type": "bar",
         "x": [
          "Greensboro, North Carolina",
          "Hartford, Connecticut",
          "Little rock, Arkansas",
          "Bakersfield, California",
          "Fayetteville, North Carolina",
          "Raleigh, North Carolina",
          "Louisville, Kentucky",
          "Plano, Texas"
         ],
         "xaxis": "x",
         "y": [
          253574,
          6057,
          6028,
          97505,
          170523,
          361319,
          91470,
          150321
         ],
         "yaxis": "y"
        },
        {
         "alignmentgroup": "True",
         "hovertemplate": "variable=other<br>regions=%{x}<br>value=%{y}<extra></extra>",
         "legendgroup": "other",
         "marker": {
          "color": "#00cc96",
          "pattern": {
           "shape": ""
          }
         },
         "name": "other",
         "offsetgroup": "other",
         "orientation": "v",
         "showlegend": true,
         "textposition": "auto",
         "type": "bar",
         "x": [
          "Greensboro, North Carolina",
          "Hartford, Connecticut",
          "Little rock, Arkansas",
          "Bakersfield, California",
          "Fayetteville, North Carolina",
          "Raleigh, North Carolina",
          "Louisville, Kentucky",
          "Plano, Texas"
         ],
         "xaxis": "x",
         "y": [
          2344,
          29,
          9,
          291,
          5000,
          555,
          781,
          2964
         ],
         "yaxis": "y"
        },
        {
         "alignmentgroup": "True",
         "hovertemplate": "variable=unknown<br>regions=%{x}<br>value=%{y}<extra></extra>",
         "legendgroup": "unknown",
         "marker": {
          "color": "#ab63fa",
          "pattern": {
           "shape": ""
          }
         },
         "name": "unknown",
         "offsetgroup": "unknown",
         "orientation": "v",
         "showlegend": true,
         "textposition": "auto",
         "type": "bar",
         "x": [
          "Greensboro, North Carolina",
          "Hartford, Connecticut",
          "Little rock, Arkansas",
          "Bakersfield, California",
          "Fayetteville, North Carolina",
          "Raleigh, North Carolina",
          "Louisville, Kentucky",
          "Plano, Texas"
         ],
         "xaxis": "x",
         "y": [
          5886,
          0,
          376,
          10666,
          3448,
          8089,
          2,
          646
         ],
         "yaxis": "y"
        },
        {
         "alignmentgroup": "True",
         "hovertemplate": "variable=asian/pacific islander<br>regions=%{x}<br>value=%{y}<extra></extra>",
         "legendgroup": "asian/pacific islander",
         "marker": {
          "color": "#FFA15A",
          "pattern": {
           "shape": ""
          }
         },
         "name": "asian/pacific islander",
         "offsetgroup": "asian/pacific islander",
         "orientation": "v",
         "showlegend": true,
         "textposition": "auto",
         "type": "bar",
         "x": [
          "Greensboro, North Carolina",
          "Hartford, Connecticut",
          "Little rock, Arkansas",
          "Bakersfield, California",
          "Fayetteville, North Carolina",
          "Raleigh, North Carolina",
          "Louisville, Kentucky",
          "Plano, Texas"
         ],
         "xaxis": "x",
         "y": [
          10401,
          176,
          177,
          3931,
          5711,
          15349,
          1621,
          25743
         ],
         "yaxis": "y"
        },
        {
         "alignmentgroup": "True",
         "hovertemplate": "variable=hispanic<br>regions=%{x}<br>value=%{y}<extra></extra>",
         "legendgroup": "hispanic",
         "marker": {
          "color": "#19d3f3",
          "pattern": {
           "shape": ""
          }
         },
         "name": "hispanic",
         "offsetgroup": "hispanic",
         "orientation": "v",
         "showlegend": true,
         "textposition": "auto",
         "type": "bar",
         "x": [
          "Greensboro, North Carolina",
          "Hartford, Connecticut",
          "Little rock, Arkansas",
          "Bakersfield, California",
          "Fayetteville, North Carolina",
          "Raleigh, North Carolina",
          "Louisville, Kentucky",
          "Plano, Texas"
         ],
         "xaxis": "x",
         "y": [
          27929,
          5073,
          0,
          56921,
          28303,
          87460,
          6656,
          34291
         ],
         "yaxis": "y"
        }
       ],
       "layout": {
        "barmode": "group",
        "legend": {
         "title": {
          "text": "variable"
         },
         "tracegroupgap": 0
        },
        "template": {
         "data": {
          "bar": [
           {
            "error_x": {
             "color": "#2a3f5f"
            },
            "error_y": {
             "color": "#2a3f5f"
            },
            "marker": {
             "line": {
              "color": "#E5ECF6",
              "width": 0.5
             },
             "pattern": {
              "fillmode": "overlay",
              "size": 10,
              "solidity": 0.2
             }
            },
            "type": "bar"
           }
          ],
          "barpolar": [
           {
            "marker": {
             "line": {
              "color": "#E5ECF6",
              "width": 0.5
             },
             "pattern": {
              "fillmode": "overlay",
              "size": 10,
              "solidity": 0.2
             }
            },
            "type": "barpolar"
           }
          ],
          "carpet": [
           {
            "aaxis": {
             "endlinecolor": "#2a3f5f",
             "gridcolor": "white",
             "linecolor": "white",
             "minorgridcolor": "white",
             "startlinecolor": "#2a3f5f"
            },
            "baxis": {
             "endlinecolor": "#2a3f5f",
             "gridcolor": "white",
             "linecolor": "white",
             "minorgridcolor": "white",
             "startlinecolor": "#2a3f5f"
            },
            "type": "carpet"
           }
          ],
          "choropleth": [
           {
            "colorbar": {
             "outlinewidth": 0,
             "ticks": ""
            },
            "type": "choropleth"
           }
          ],
          "contour": [
           {
            "colorbar": {
             "outlinewidth": 0,
             "ticks": ""
            },
            "colorscale": [
             [
              0,
              "#0d0887"
             ],
             [
              0.1111111111111111,
              "#46039f"
             ],
             [
              0.2222222222222222,
              "#7201a8"
             ],
             [
              0.3333333333333333,
              "#9c179e"
             ],
             [
              0.4444444444444444,
              "#bd3786"
             ],
             [
              0.5555555555555556,
              "#d8576b"
             ],
             [
              0.6666666666666666,
              "#ed7953"
             ],
             [
              0.7777777777777778,
              "#fb9f3a"
             ],
             [
              0.8888888888888888,
              "#fdca26"
             ],
             [
              1,
              "#f0f921"
             ]
            ],
            "type": "contour"
           }
          ],
          "contourcarpet": [
           {
            "colorbar": {
             "outlinewidth": 0,
             "ticks": ""
            },
            "type": "contourcarpet"
           }
          ],
          "heatmap": [
           {
            "colorbar": {
             "outlinewidth": 0,
             "ticks": ""
            },
            "colorscale": [
             [
              0,
              "#0d0887"
             ],
             [
              0.1111111111111111,
              "#46039f"
             ],
             [
              0.2222222222222222,
              "#7201a8"
             ],
             [
              0.3333333333333333,
              "#9c179e"
             ],
             [
              0.4444444444444444,
              "#bd3786"
             ],
             [
              0.5555555555555556,
              "#d8576b"
             ],
             [
              0.6666666666666666,
              "#ed7953"
             ],
             [
              0.7777777777777778,
              "#fb9f3a"
             ],
             [
              0.8888888888888888,
              "#fdca26"
             ],
             [
              1,
              "#f0f921"
             ]
            ],
            "type": "heatmap"
           }
          ],
          "heatmapgl": [
           {
            "colorbar": {
             "outlinewidth": 0,
             "ticks": ""
            },
            "colorscale": [
             [
              0,
              "#0d0887"
             ],
             [
              0.1111111111111111,
              "#46039f"
             ],
             [
              0.2222222222222222,
              "#7201a8"
             ],
             [
              0.3333333333333333,
              "#9c179e"
             ],
             [
              0.4444444444444444,
              "#bd3786"
             ],
             [
              0.5555555555555556,
              "#d8576b"
             ],
             [
              0.6666666666666666,
              "#ed7953"
             ],
             [
              0.7777777777777778,
              "#fb9f3a"
             ],
             [
              0.8888888888888888,
              "#fdca26"
             ],
             [
              1,
              "#f0f921"
             ]
            ],
            "type": "heatmapgl"
           }
          ],
          "histogram": [
           {
            "marker": {
             "pattern": {
              "fillmode": "overlay",
              "size": 10,
              "solidity": 0.2
             }
            },
            "type": "histogram"
           }
          ],
          "histogram2d": [
           {
            "colorbar": {
             "outlinewidth": 0,
             "ticks": ""
            },
            "colorscale": [
             [
              0,
              "#0d0887"
             ],
             [
              0.1111111111111111,
              "#46039f"
             ],
             [
              0.2222222222222222,
              "#7201a8"
             ],
             [
              0.3333333333333333,
              "#9c179e"
             ],
             [
              0.4444444444444444,
              "#bd3786"
             ],
             [
              0.5555555555555556,
              "#d8576b"
             ],
             [
              0.6666666666666666,
              "#ed7953"
             ],
             [
              0.7777777777777778,
              "#fb9f3a"
             ],
             [
              0.8888888888888888,
              "#fdca26"
             ],
             [
              1,
              "#f0f921"
             ]
            ],
            "type": "histogram2d"
           }
          ],
          "histogram2dcontour": [
           {
            "colorbar": {
             "outlinewidth": 0,
             "ticks": ""
            },
            "colorscale": [
             [
              0,
              "#0d0887"
             ],
             [
              0.1111111111111111,
              "#46039f"
             ],
             [
              0.2222222222222222,
              "#7201a8"
             ],
             [
              0.3333333333333333,
              "#9c179e"
             ],
             [
              0.4444444444444444,
              "#bd3786"
             ],
             [
              0.5555555555555556,
              "#d8576b"
             ],
             [
              0.6666666666666666,
              "#ed7953"
             ],
             [
              0.7777777777777778,
              "#fb9f3a"
             ],
             [
              0.8888888888888888,
              "#fdca26"
             ],
             [
              1,
              "#f0f921"
             ]
            ],
            "type": "histogram2dcontour"
           }
          ],
          "mesh3d": [
           {
            "colorbar": {
             "outlinewidth": 0,
             "ticks": ""
            },
            "type": "mesh3d"
           }
          ],
          "parcoords": [
           {
            "line": {
             "colorbar": {
              "outlinewidth": 0,
              "ticks": ""
             }
            },
            "type": "parcoords"
           }
          ],
          "pie": [
           {
            "automargin": true,
            "type": "pie"
           }
          ],
          "scatter": [
           {
            "fillpattern": {
             "fillmode": "overlay",
             "size": 10,
             "solidity": 0.2
            },
            "type": "scatter"
           }
          ],
          "scatter3d": [
           {
            "line": {
             "colorbar": {
              "outlinewidth": 0,
              "ticks": ""
             }
            },
            "marker": {
             "colorbar": {
              "outlinewidth": 0,
              "ticks": ""
             }
            },
            "type": "scatter3d"
           }
          ],
          "scattercarpet": [
           {
            "marker": {
             "colorbar": {
              "outlinewidth": 0,
              "ticks": ""
             }
            },
            "type": "scattercarpet"
           }
          ],
          "scattergeo": [
           {
            "marker": {
             "colorbar": {
              "outlinewidth": 0,
              "ticks": ""
             }
            },
            "type": "scattergeo"
           }
          ],
          "scattergl": [
           {
            "marker": {
             "colorbar": {
              "outlinewidth": 0,
              "ticks": ""
             }
            },
            "type": "scattergl"
           }
          ],
          "scattermapbox": [
           {
            "marker": {
             "colorbar": {
              "outlinewidth": 0,
              "ticks": ""
             }
            },
            "type": "scattermapbox"
           }
          ],
          "scatterpolar": [
           {
            "marker": {
             "colorbar": {
              "outlinewidth": 0,
              "ticks": ""
             }
            },
            "type": "scatterpolar"
           }
          ],
          "scatterpolargl": [
           {
            "marker": {
             "colorbar": {
              "outlinewidth": 0,
              "ticks": ""
             }
            },
            "type": "scatterpolargl"
           }
          ],
          "scatterternary": [
           {
            "marker": {
             "colorbar": {
              "outlinewidth": 0,
              "ticks": ""
             }
            },
            "type": "scatterternary"
           }
          ],
          "surface": [
           {
            "colorbar": {
             "outlinewidth": 0,
             "ticks": ""
            },
            "colorscale": [
             [
              0,
              "#0d0887"
             ],
             [
              0.1111111111111111,
              "#46039f"
             ],
             [
              0.2222222222222222,
              "#7201a8"
             ],
             [
              0.3333333333333333,
              "#9c179e"
             ],
             [
              0.4444444444444444,
              "#bd3786"
             ],
             [
              0.5555555555555556,
              "#d8576b"
             ],
             [
              0.6666666666666666,
              "#ed7953"
             ],
             [
              0.7777777777777778,
              "#fb9f3a"
             ],
             [
              0.8888888888888888,
              "#fdca26"
             ],
             [
              1,
              "#f0f921"
             ]
            ],
            "type": "surface"
           }
          ],
          "table": [
           {
            "cells": {
             "fill": {
              "color": "#EBF0F8"
             },
             "line": {
              "color": "white"
             }
            },
            "header": {
             "fill": {
              "color": "#C8D4E3"
             },
             "line": {
              "color": "white"
             }
            },
            "type": "table"
           }
          ]
         },
         "layout": {
          "annotationdefaults": {
           "arrowcolor": "#2a3f5f",
           "arrowhead": 0,
           "arrowwidth": 1
          },
          "autotypenumbers": "strict",
          "coloraxis": {
           "colorbar": {
            "outlinewidth": 0,
            "ticks": ""
           }
          },
          "colorscale": {
           "diverging": [
            [
             0,
             "#8e0152"
            ],
            [
             0.1,
             "#c51b7d"
            ],
            [
             0.2,
             "#de77ae"
            ],
            [
             0.3,
             "#f1b6da"
            ],
            [
             0.4,
             "#fde0ef"
            ],
            [
             0.5,
             "#f7f7f7"
            ],
            [
             0.6,
             "#e6f5d0"
            ],
            [
             0.7,
             "#b8e186"
            ],
            [
             0.8,
             "#7fbc41"
            ],
            [
             0.9,
             "#4d9221"
            ],
            [
             1,
             "#276419"
            ]
           ],
           "sequential": [
            [
             0,
             "#0d0887"
            ],
            [
             0.1111111111111111,
             "#46039f"
            ],
            [
             0.2222222222222222,
             "#7201a8"
            ],
            [
             0.3333333333333333,
             "#9c179e"
            ],
            [
             0.4444444444444444,
             "#bd3786"
            ],
            [
             0.5555555555555556,
             "#d8576b"
            ],
            [
             0.6666666666666666,
             "#ed7953"
            ],
            [
             0.7777777777777778,
             "#fb9f3a"
            ],
            [
             0.8888888888888888,
             "#fdca26"
            ],
            [
             1,
             "#f0f921"
            ]
           ],
           "sequentialminus": [
            [
             0,
             "#0d0887"
            ],
            [
             0.1111111111111111,
             "#46039f"
            ],
            [
             0.2222222222222222,
             "#7201a8"
            ],
            [
             0.3333333333333333,
             "#9c179e"
            ],
            [
             0.4444444444444444,
             "#bd3786"
            ],
            [
             0.5555555555555556,
             "#d8576b"
            ],
            [
             0.6666666666666666,
             "#ed7953"
            ],
            [
             0.7777777777777778,
             "#fb9f3a"
            ],
            [
             0.8888888888888888,
             "#fdca26"
            ],
            [
             1,
             "#f0f921"
            ]
           ]
          },
          "colorway": [
           "#636efa",
           "#EF553B",
           "#00cc96",
           "#ab63fa",
           "#FFA15A",
           "#19d3f3",
           "#FF6692",
           "#B6E880",
           "#FF97FF",
           "#FECB52"
          ],
          "font": {
           "color": "#2a3f5f"
          },
          "geo": {
           "bgcolor": "white",
           "lakecolor": "white",
           "landcolor": "#E5ECF6",
           "showlakes": true,
           "showland": true,
           "subunitcolor": "white"
          },
          "hoverlabel": {
           "align": "left"
          },
          "hovermode": "closest",
          "mapbox": {
           "style": "light"
          },
          "paper_bgcolor": "white",
          "plot_bgcolor": "#E5ECF6",
          "polar": {
           "angularaxis": {
            "gridcolor": "white",
            "linecolor": "white",
            "ticks": ""
           },
           "bgcolor": "#E5ECF6",
           "radialaxis": {
            "gridcolor": "white",
            "linecolor": "white",
            "ticks": ""
           }
          },
          "scene": {
           "xaxis": {
            "backgroundcolor": "#E5ECF6",
            "gridcolor": "white",
            "gridwidth": 2,
            "linecolor": "white",
            "showbackground": true,
            "ticks": "",
            "zerolinecolor": "white"
           },
           "yaxis": {
            "backgroundcolor": "#E5ECF6",
            "gridcolor": "white",
            "gridwidth": 2,
            "linecolor": "white",
            "showbackground": true,
            "ticks": "",
            "zerolinecolor": "white"
           },
           "zaxis": {
            "backgroundcolor": "#E5ECF6",
            "gridcolor": "white",
            "gridwidth": 2,
            "linecolor": "white",
            "showbackground": true,
            "ticks": "",
            "zerolinecolor": "white"
           }
          },
          "shapedefaults": {
           "line": {
            "color": "#2a3f5f"
           }
          },
          "ternary": {
           "aaxis": {
            "gridcolor": "white",
            "linecolor": "white",
            "ticks": ""
           },
           "baxis": {
            "gridcolor": "white",
            "linecolor": "white",
            "ticks": ""
           },
           "bgcolor": "#E5ECF6",
           "caxis": {
            "gridcolor": "white",
            "linecolor": "white",
            "ticks": ""
           }
          },
          "title": {
           "x": 0.05
          },
          "xaxis": {
           "automargin": true,
           "gridcolor": "white",
           "linecolor": "white",
           "ticks": "",
           "title": {
            "standoff": 15
           },
           "zerolinecolor": "white",
           "zerolinewidth": 2
          },
          "yaxis": {
           "automargin": true,
           "gridcolor": "white",
           "linecolor": "white",
           "ticks": "",
           "title": {
            "standoff": 15
           },
           "zerolinecolor": "white",
           "zerolinewidth": 2
          }
         }
        },
        "title": {
         "text": "Police Stops by Race and Region"
        },
        "xaxis": {
         "anchor": "y",
         "domain": [
          0,
          1
         ],
         "title": {
          "text": "regions"
         }
        },
        "yaxis": {
         "anchor": "x",
         "domain": [
          0,
          1
         ],
         "title": {
          "text": "value"
         }
        }
       }
      }
     },
     "metadata": {},
     "output_type": "display_data"
    }
   ],
   "source": [
    "import pandas as pd\n",
    "import numpy as np\n",
    "from scipy.stats import chi2_contingency\n",
    "import plotly.express as px\n",
    "\n",
    "chi2_stat, p_val, _, _ = chi2_contingency(results_df)\n",
    "\n",
    "# Print test results\n",
    "print(\"Chi-square statistic:\", chi2_stat)\n",
    "print(\"P-value:\", p_val)\n",
    "\n",
    "# Determine if the result is statistically significant (e.g., using a significance level of 0.05)\n",
    "alpha = 0.05\n",
    "if p_val < alpha:\n",
    "    print(\"There is evidence of racial disparity in police stops.\")\n",
    "else:\n",
    "    print(\"There is no evidence of racial disparity in police stops.\")\n",
    "\n",
    "# Plot bar graphs using Plotly\n",
    "fig = px.bar(results_df, x=results_df.index, y=results_df.columns, barmode='group', title='Police Stops by Race and Region')\n",
    "fig.show()\n"
   ]
  }
 ],
 "metadata": {
  "kernelspec": {
   "display_name": "base",
   "language": "python",
   "name": "python3"
  },
  "language_info": {
   "codemirror_mode": {
    "name": "ipython",
    "version": 3
   },
   "file_extension": ".py",
   "mimetype": "text/x-python",
   "name": "python",
   "nbconvert_exporter": "python",
   "pygments_lexer": "ipython3",
   "version": "3.11.6"
  }
 },
 "nbformat": 4,
 "nbformat_minor": 2
}
