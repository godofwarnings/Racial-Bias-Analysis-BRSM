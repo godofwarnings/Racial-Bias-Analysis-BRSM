{
 "cells": [
  {
   "cell_type": "code",
   "execution_count": 1,
   "metadata": {},
   "outputs": [],
   "source": [
    "import numpy as np \n",
    "import pandas as pd\n",
    "import glob\n",
    "import os\n",
    "from tqdm import tqdm\n",
    "import regex as re"
   ]
  },
  {
   "cell_type": "code",
   "execution_count": 2,
   "metadata": {},
   "outputs": [],
   "source": [
    "def calculate_searches_by_gender(df):\n",
    "    searched_df = df[df['search_conducted'] == True]\n",
    "    searches_by_race = searched_df.groupby('subject_sex').size().reset_index(name='searches_count')\n",
    "    searches_by_race = searches_by_race.set_index('subject_sex')\n",
    "    return searches_by_race\n",
    "\n",
    "def calculate_arrest_count(df):\n",
    "    searched_df = df[df['arrest_made'] == True]\n",
    "    searches_by_race = searched_df.groupby('subject_sex').size().reset_index(name='arrests_count')\n",
    "    searches_by_race = searches_by_race.set_index('subject_sex')\n",
    "    return searches_by_race\n",
    "\n",
    "def calculate_citations(df):\n",
    "    searched_df = df[df['citation_issued'] == True]\n",
    "    searches_by_race = searched_df.groupby('subject_sex').size().reset_index(name='citations_count')\n",
    "    searches_by_race = searches_by_race.set_index('subject_sex')\n",
    "    return searches_by_race\n",
    "\n",
    "def calculate_warnings(df):\n",
    "    searched_df = df[df['warning_issued'] == True]\n",
    "    searches_by_race = searched_df.groupby('subject_sex').size().reset_index(name='warnings_count')\n",
    "    searches_by_race = searches_by_race.set_index('subject_sex')\n",
    "    return searches_by_race"
   ]
  },
  {
   "cell_type": "code",
   "execution_count": 3,
   "metadata": {},
   "outputs": [],
   "source": [
    "def calculate_stops_by_race(df):\n",
    "    stops_by_race = df.groupby('subject_sex').size().reset_index(name='stops_count')\n",
    "    stops_by_race = stops_by_race.set_index('subject_sex')\n",
    "    return stops_by_race"
   ]
  },
  {
   "cell_type": "code",
   "execution_count": 4,
   "metadata": {},
   "outputs": [],
   "source": [
    "def extract_filename(filenames):\n",
    "    \"\"\"\n",
    "    Extracts the filename without extension from a list of filenames with paths.\n",
    "    \n",
    "    Args:\n",
    "        filenames (list): A list of filenames with paths.\n",
    "        \n",
    "    Returns:\n",
    "        list: A list of filenames without extensions.\n",
    "    \"\"\"\n",
    "    filenames_without_ext = []\n",
    "    for filename in filenames:\n",
    "        path, filename_with_ext = os.path.split(filename)\n",
    "        filename, ext = os.path.splitext(filename_with_ext)\n",
    "        filenames_without_ext.append(filename)\n",
    "    \n",
    "    return filenames_without_ext"
   ]
  },
  {
   "cell_type": "code",
   "execution_count": 5,
   "metadata": {},
   "outputs": [],
   "source": [
    "def reformat_filename(filename):\n",
    "    # Extract state name until first underscore\n",
    "    state_match = re.match(r'^([^_]+)', filename)\n",
    "    state = state_match.group(1)\n",
    "    \n",
    "    # Extract city name until underscore followed by number\n",
    "    city_match = re.match(r'^[a-zA-Z]+_(.+?)_\\d{4}_\\d{2}_\\d{2}', filename)\n",
    "    city = city_match.group(1)\n",
    "    \n",
    "    # Dictionary mapping state abbreviations to full state names\n",
    "    state_names = {\n",
    "        \"al\": \"Alabama\", \"ak\": \"Alaska\", \"az\": \"Arizona\", \"ar\": \"Arkansas\",\n",
    "        \"ca\": \"California\", \"co\": \"Colorado\", \"ct\": \"Connecticut\", \"de\": \"Delaware\",\n",
    "        \"fl\": \"Florida\", \"ga\": \"Georgia\", \"hi\": \"Hawaii\", \"id\": \"Idaho\",\n",
    "        \"il\": \"Illinois\", \"in\": \"Indiana\", \"ia\": \"Iowa\", \"ks\": \"Kansas\",\n",
    "        \"ky\": \"Kentucky\", \"la\": \"Louisiana\", \"me\": \"Maine\", \"md\": \"Maryland\",\n",
    "        \"ma\": \"Massachusetts\", \"mi\": \"Michigan\", \"mn\": \"Minnesota\", \"ms\": \"Mississippi\",\n",
    "        \"mo\": \"Missouri\", \"mt\": \"Montana\", \"ne\": \"Nebraska\", \"nv\": \"Nevada\",\n",
    "        \"nh\": \"New Hampshire\", \"nj\": \"New Jersey\", \"nm\": \"New Mexico\", \"ny\": \"New York\",\n",
    "        \"nc\": \"North Carolina\", \"nd\": \"North Dakota\", \"oh\": \"Ohio\", \"ok\": \"Oklahoma\",\n",
    "        \"or\": \"Oregon\", \"pa\": \"Pennsylvania\", \"ri\": \"Rhode Island\", \"sc\": \"South Carolina\",\n",
    "        \"sd\": \"South Dakota\", \"tn\": \"Tennessee\", \"tx\": \"Texas\", \"ut\": \"Utah\",\n",
    "        \"vt\": \"Vermont\", \"va\": \"Virginia\", \"wa\": \"Washington\", \"wv\": \"West Virginia\",\n",
    "        \"wi\": \"Wisconsin\", \"wy\": \"Wyoming\"\n",
    "    }\n",
    "    \n",
    "    state_name = state_names.get(state.lower(), state)\n",
    "    city_name = city.replace(\"_\", \" \").capitalize()\n",
    "    \n",
    "    return f\"{city_name}, {state_name}\""
   ]
  },
  {
   "cell_type": "code",
   "execution_count": 6,
   "metadata": {},
   "outputs": [
    {
     "name": "stdout",
     "output_type": "stream",
     "text": [
      "['CT', 'RI', 'CA', 'AZ', 'WI', 'NC', 'LA', 'MT', 'MD', 'VT', 'TN', 'MA']\n"
     ]
    },
    {
     "name": "stderr",
     "output_type": "stream",
     "text": [
      "Processing csv:   0%|          | 0/12 [00:00<?, ?csv/s]"
     ]
    },
    {
     "name": "stdout",
     "output_type": "stream",
     "text": [
      "Loading ./Statewise/CT.csv\n"
     ]
    },
    {
     "name": "stderr",
     "output_type": "stream",
     "text": [
      "/tmp/ipykernel_526/1443258326.py:16: DtypeWarning: Columns (14,15,16,22) have mixed types. Specify dtype option on import or set low_memory=False.\n",
      "  df = pd.read_csv(filename, index_col=None, header=0)\n"
     ]
    },
    {
     "name": "stdout",
     "output_type": "stream",
     "text": [
      "Loaded ./Statewise/CT.csv\n"
     ]
    },
    {
     "name": "stderr",
     "output_type": "stream",
     "text": [
      "Processing csv:   8%|▊         | 1/12 [00:03<00:41,  3.75s/csv]"
     ]
    },
    {
     "name": "stdout",
     "output_type": "stream",
     "text": [
      "Loading ./Statewise/RI.csv\n"
     ]
    },
    {
     "name": "stderr",
     "output_type": "stream",
     "text": [
      "/tmp/ipykernel_526/1443258326.py:16: DtypeWarning: Columns (6,17,30) have mixed types. Specify dtype option on import or set low_memory=False.\n",
      "  df = pd.read_csv(filename, index_col=None, header=0)\n"
     ]
    },
    {
     "name": "stdout",
     "output_type": "stream",
     "text": [
      "Loaded ./Statewise/RI.csv\n"
     ]
    },
    {
     "name": "stderr",
     "output_type": "stream",
     "text": [
      "Processing csv:  17%|█▋        | 2/12 [00:05<00:24,  2.40s/csv]"
     ]
    },
    {
     "name": "stdout",
     "output_type": "stream",
     "text": [
      "Loading ./Statewise/CA.csv\n"
     ]
    },
    {
     "name": "stderr",
     "output_type": "stream",
     "text": [
      "/tmp/ipykernel_526/1443258326.py:16: DtypeWarning: Columns (6) have mixed types. Specify dtype option on import or set low_memory=False.\n",
      "  df = pd.read_csv(filename, index_col=None, header=0)\n"
     ]
    },
    {
     "name": "stdout",
     "output_type": "stream",
     "text": [
      "Loaded ./Statewise/CA.csv\n"
     ]
    },
    {
     "name": "stderr",
     "output_type": "stream",
     "text": [
      "Processing csv:  25%|██▌       | 3/12 [00:07<00:21,  2.36s/csv]"
     ]
    },
    {
     "name": "stdout",
     "output_type": "stream",
     "text": [
      "Loading ./Statewise/AZ.csv\n"
     ]
    },
    {
     "name": "stderr",
     "output_type": "stream",
     "text": [
      "/tmp/ipykernel_526/1443258326.py:16: DtypeWarning: Columns (9,10,11,12,18,19,21,27,28) have mixed types. Specify dtype option on import or set low_memory=False.\n",
      "  df = pd.read_csv(filename, index_col=None, header=0)\n"
     ]
    },
    {
     "name": "stdout",
     "output_type": "stream",
     "text": [
      "Loaded ./Statewise/AZ.csv\n"
     ]
    },
    {
     "name": "stderr",
     "output_type": "stream",
     "text": [
      "Processing csv:  33%|███▎      | 4/12 [00:18<00:46,  5.82s/csv]"
     ]
    },
    {
     "name": "stdout",
     "output_type": "stream",
     "text": [
      "Loading ./Statewise/WI.csv\n"
     ]
    },
    {
     "name": "stderr",
     "output_type": "stream",
     "text": [
      "/tmp/ipykernel_526/1443258326.py:16: DtypeWarning: Columns (13,14,15,30) have mixed types. Specify dtype option on import or set low_memory=False.\n",
      "  df = pd.read_csv(filename, index_col=None, header=0)\n"
     ]
    },
    {
     "name": "stdout",
     "output_type": "stream",
     "text": [
      "Loaded ./Statewise/WI.csv\n"
     ]
    },
    {
     "name": "stderr",
     "output_type": "stream",
     "text": [
      "Processing csv:  42%|████▏     | 5/12 [00:24<00:39,  5.70s/csv]"
     ]
    },
    {
     "name": "stdout",
     "output_type": "stream",
     "text": [
      "Loading ./Statewise/NC.csv\n"
     ]
    },
    {
     "name": "stderr",
     "output_type": "stream",
     "text": [
      "Processing csv:  50%|█████     | 6/12 [00:25<00:26,  4.38s/csv]"
     ]
    },
    {
     "name": "stdout",
     "output_type": "stream",
     "text": [
      "Loaded ./Statewise/NC.csv\n",
      "Loading ./Statewise/LA.csv\n"
     ]
    },
    {
     "name": "stderr",
     "output_type": "stream",
     "text": [
      "/tmp/ipykernel_526/1443258326.py:16: DtypeWarning: Columns (6) have mixed types. Specify dtype option on import or set low_memory=False.\n",
      "  df = pd.read_csv(filename, index_col=None, header=0)\n",
      "Processing csv:  58%|█████▊    | 7/12 [00:27<00:17,  3.51s/csv]"
     ]
    },
    {
     "name": "stdout",
     "output_type": "stream",
     "text": [
      "Loaded ./Statewise/LA.csv\n",
      "Loading ./Statewise/MT.csv\n"
     ]
    },
    {
     "name": "stderr",
     "output_type": "stream",
     "text": [
      "/tmp/ipykernel_526/1443258326.py:16: DtypeWarning: Columns (0,17) have mixed types. Specify dtype option on import or set low_memory=False.\n",
      "  df = pd.read_csv(filename, index_col=None, header=0)\n"
     ]
    },
    {
     "name": "stdout",
     "output_type": "stream",
     "text": [
      "Loaded ./Statewise/MT.csv\n"
     ]
    },
    {
     "name": "stderr",
     "output_type": "stream",
     "text": [
      "Processing csv:  67%|██████▋   | 8/12 [00:31<00:14,  3.55s/csv]"
     ]
    },
    {
     "name": "stdout",
     "output_type": "stream",
     "text": [
      "Loading ./Statewise/MD.csv\n"
     ]
    },
    {
     "name": "stderr",
     "output_type": "stream",
     "text": [
      "/tmp/ipykernel_526/1443258326.py:16: DtypeWarning: Columns (1,2,3,9,10,11,12,13,14,15,16,17,19,20,21,22,23,26,27) have mixed types. Specify dtype option on import or set low_memory=False.\n",
      "  df = pd.read_csv(filename, index_col=None, header=0)\n"
     ]
    },
    {
     "name": "stdout",
     "output_type": "stream",
     "text": [
      "Loaded ./Statewise/MD.csv\n"
     ]
    },
    {
     "name": "stderr",
     "output_type": "stream",
     "text": [
      "Processing csv:  75%|███████▌  | 9/12 [00:42<00:17,  5.80s/csv]"
     ]
    },
    {
     "name": "stdout",
     "output_type": "stream",
     "text": [
      "Loading ./Statewise/VT.csv\n"
     ]
    },
    {
     "name": "stderr",
     "output_type": "stream",
     "text": [
      "Processing csv:  83%|████████▎ | 10/12 [00:43<00:08,  4.39s/csv]"
     ]
    },
    {
     "name": "stdout",
     "output_type": "stream",
     "text": [
      "Loaded ./Statewise/VT.csv\n",
      "Loading ./Statewise/TN.csv\n"
     ]
    },
    {
     "name": "stderr",
     "output_type": "stream",
     "text": [
      "/tmp/ipykernel_526/1443258326.py:16: DtypeWarning: Columns (6,8,15,16,17,22,23,24,25,29,30,31,32,33,35,36,37,38,40,41) have mixed types. Specify dtype option on import or set low_memory=False.\n",
      "  df = pd.read_csv(filename, index_col=None, header=0)\n"
     ]
    },
    {
     "name": "stdout",
     "output_type": "stream",
     "text": [
      "Loaded ./Statewise/TN.csv\n"
     ]
    },
    {
     "name": "stderr",
     "output_type": "stream",
     "text": [
      "Processing csv:  92%|█████████▏| 11/12 [00:58<00:07,  7.71s/csv]"
     ]
    },
    {
     "name": "stdout",
     "output_type": "stream",
     "text": [
      "Loading ./Statewise/MA.csv\n"
     ]
    },
    {
     "name": "stderr",
     "output_type": "stream",
     "text": [
      "/tmp/ipykernel_526/1443258326.py:16: DtypeWarning: Columns (8,9,10) have mixed types. Specify dtype option on import or set low_memory=False.\n",
      "  df = pd.read_csv(filename, index_col=None, header=0)\n"
     ]
    },
    {
     "name": "stdout",
     "output_type": "stream",
     "text": [
      "Loaded ./Statewise/MA.csv\n"
     ]
    },
    {
     "name": "stderr",
     "output_type": "stream",
     "text": [
      "Processing csv: 100%|██████████| 12/12 [01:06<00:00,  5.52s/csv]\n"
     ]
    }
   ],
   "source": [
    "path = r'./Statewise/'\n",
    "all_files = glob.glob(path + \"/*.csv\")\n",
    "filenames = extract_filename(all_files)\n",
    "\n",
    "print(filenames)\n",
    "\n",
    "stops_by_race_list = []\n",
    "search_conducted_by_race_list = []\n",
    "arrests_made = []\n",
    "citation_issued = []\n",
    "warnings_issued = []\n",
    "all_races = set()\n",
    "\n",
    "for filename in tqdm(all_files, desc=\"Processing csv\", unit=\"csv\"):\n",
    "    print(f\"Loading {filename}\")\n",
    "    df = pd.read_csv(filename, index_col=None, header=0)\n",
    "    print(f\"Loaded {filename}\")\n",
    "    stops_by_race_list.append(calculate_stops_by_race(df))\n",
    "    all_races.update(df['subject_sex'].unique())\n",
    "    search_conducted_by_race_list.append(calculate_searches_by_gender(df))\n",
    "    arrests_made.append(calculate_arrest_count(df))\n",
    "    citation_issued.append(calculate_citations(df))\n",
    "    warnings_issued.append(calculate_warnings(df))"
   ]
  },
  {
   "cell_type": "code",
   "execution_count": 9,
   "metadata": {},
   "outputs": [],
   "source": [
    "all_races = set({'male', 'female'})"
   ]
  },
  {
   "cell_type": "code",
   "execution_count": 10,
   "metadata": {},
   "outputs": [
    {
     "name": "stdout",
     "output_type": "stream",
     "text": [
      "12\n",
      "12\n",
      "12\n",
      "12\n"
     ]
    }
   ],
   "source": [
    "print(len(filenames))\n",
    "print(len(arrests_made))\n",
    "print(len(citation_issued))\n",
    "print(len(warnings_issued))"
   ]
  },
  {
   "cell_type": "code",
   "execution_count": 11,
   "metadata": {},
   "outputs": [
    {
     "name": "stdout",
     "output_type": "stream",
     "text": [
      "             arrests_count\n",
      "subject_sex               \n",
      "female                5941\n",
      "male                 19089\n",
      "             arrests_count\n",
      "subject_sex               \n",
      "female                5941\n",
      "male                 19089\n",
      "             arrests_count\n",
      "subject_sex               \n",
      "female                3343\n",
      "male                 13260\n",
      "             arrests_count\n",
      "subject_sex               \n",
      "female                3343\n",
      "male                 13260\n",
      "             arrests_count\n",
      "subject_sex               \n",
      "female                2516\n",
      "male                  9409\n",
      "             arrests_count\n",
      "subject_sex               \n",
      "female                2516\n",
      "male                  9409\n",
      "             arrests_count\n",
      "subject_sex               \n",
      "female              158579\n",
      "male                345115\n",
      "             arrests_count\n",
      "subject_sex               \n",
      "female              158579\n",
      "male                345115\n",
      "             arrests_count\n",
      "subject_sex               \n",
      "female                4342\n",
      "male                 14596\n",
      "             arrests_count\n",
      "subject_sex               \n",
      "female                4342\n",
      "male                 14596\n",
      "             arrests_count\n",
      "subject_sex               \n",
      "female                2668\n",
      "male                 10729\n",
      "             arrests_count\n",
      "subject_sex               \n",
      "female                2668\n",
      "male                 10729\n",
      "             arrests_count\n",
      "subject_sex               \n",
      "female               23110\n",
      "male                 70519\n",
      "             arrests_count\n",
      "subject_sex               \n",
      "female               23110\n",
      "male                 70519\n",
      "             arrests_count\n",
      "subject_sex               \n",
      "female                5631\n",
      "male                 12571\n",
      "             arrests_count\n",
      "subject_sex               \n",
      "female                5631\n",
      "male                 12571\n",
      "             arrests_count\n",
      "subject_sex               \n",
      "female               13867\n",
      "male                 51773\n",
      "             arrests_count\n",
      "subject_sex               \n",
      "female               13867\n",
      "male                 51773\n",
      "             arrests_count\n",
      "subject_sex               \n",
      "female                 733\n",
      "male                  2596\n",
      "             arrests_count\n",
      "subject_sex               \n",
      "female                 733\n",
      "male                  2596\n",
      "             arrests_count\n",
      "subject_sex               \n",
      "female               13361\n",
      "male                 36666\n",
      "             arrests_count\n",
      "subject_sex               \n",
      "female               13361\n",
      "male                 36666\n",
      "             arrests_count\n",
      "subject_sex               \n",
      "female               16005\n",
      "male                 75920\n",
      "             arrests_count\n",
      "subject_sex               \n",
      "female               16005\n",
      "male                 75920\n"
     ]
    }
   ],
   "source": [
    "results_race = {race: [] for race in all_races}\n",
    "results_searches = {race: [] for race in all_races}\n",
    "arrest_searches = {race: [] for race in all_races}\n",
    "citations = {race: [] for race in all_races}\n",
    "warnings = {race: [] for race in all_races}\n",
    "\n",
    "for i in range(len(stops_by_race_list)):\n",
    "    for race in all_races:\n",
    "        if race in stops_by_race_list[i].index:\n",
    "            results_race[race].append(stops_by_race_list[i].loc[race, 'stops_count'])\n",
    "        else:\n",
    "            results_race[race].append(0)\n",
    "        \n",
    "        if race in search_conducted_by_race_list[i].index:\n",
    "            results_searches[race].append(search_conducted_by_race_list[i].loc[race, 'searches_count'])\n",
    "        else:\n",
    "            results_searches[race].append(0)\n",
    "            \n",
    "        if race in arrests_made[i].index:\n",
    "            print(arrests_made[i])\n",
    "            arrest_searches[race].append(arrests_made[i].loc[race, 'arrests_count'])\n",
    "        else:\n",
    "            arrest_searches[race].append(0)\n",
    "            \n",
    "        if race in citation_issued[i].index:\n",
    "            citations[race].append(citation_issued[i].loc[race, 'citations_count'])\n",
    "        else:\n",
    "            citations[race].append(0)\n",
    "            \n",
    "        if race in warnings_issued[i].index:\n",
    "            warnings[race].append(warnings_issued[i].loc[race, 'warnings_count'])\n",
    "        else:\n",
    "            warnings[race].append(0)\n",
    "\n",
    "\n",
    "\n",
    "results_df_race = pd.DataFrame(results_race)\n",
    "results_df_searches = pd.DataFrame(results_searches)\n",
    "results_df_arrests = pd.DataFrame(arrest_searches)\n",
    "results_df_citations = pd.DataFrame(citations)\n",
    "results_df_warnings = pd.DataFrame(warnings)\n",
    "\n",
    "results_df_race.index = [filename for filename in filenames]\n",
    "results_df_searches.index = [filename for filename in filenames]\n",
    "results_df_arrests.index = [filename for filename in filenames]\n",
    "results_df_citations.index = [filename for filename in filenames]\n",
    "results_df_warnings.index = [filename for filename in filenames]"
   ]
  },
  {
   "cell_type": "code",
   "execution_count": 12,
   "metadata": {},
   "outputs": [],
   "source": [
    "results_df_race = results_df_race.loc[:, results_df_race.columns.notnull()]\n",
    "results_df_searches = results_df_searches.loc[:, results_df_searches.columns.notnull()]\n",
    "results_df_arrests = results_df_arrests.loc[:, results_df_arrests.columns.notnull()]\n",
    "results_df_citations = results_df_citations.loc[:, results_df_citations.columns.notnull()]\n",
    "results_df_warnings = results_df_warnings.loc[:, results_df_warnings.columns.notnull()]"
   ]
  },
  {
   "cell_type": "code",
   "execution_count": 13,
   "metadata": {},
   "outputs": [],
   "source": [
    "results_df_race.rename_axis('regions', inplace=True)\n",
    "results_df_searches.rename_axis('regions', inplace=True)\n",
    "results_df_arrests.rename_axis('regions', inplace=True)\n",
    "results_df_citations.rename_axis('regions', inplace=True)\n",
    "results_df_warnings.rename_axis('regions', inplace=True)"
   ]
  },
  {
   "cell_type": "code",
   "execution_count": 110,
   "metadata": {},
   "outputs": [],
   "source": [
    "# export all to csv\n",
    "results_df_race.to_csv('results_race_h3.csv')\n",
    "results_df_searches.to_csv('results_searches_h3.csv')\n",
    "results_df_arrests.to_csv('results_arrests_h3.csv')\n",
    "results_df_citations.to_csv('results_citations_h3.csv')\n",
    "results_df_warnings.to_csv('results_warnings_h3.csv')"
   ]
  },
  {
   "cell_type": "code",
   "execution_count": 111,
   "metadata": {},
   "outputs": [
    {
     "data": {
      "text/html": [
       "<div>\n",
       "<style scoped>\n",
       "    .dataframe tbody tr th:only-of-type {\n",
       "        vertical-align: middle;\n",
       "    }\n",
       "\n",
       "    .dataframe tbody tr th {\n",
       "        vertical-align: top;\n",
       "    }\n",
       "\n",
       "    .dataframe thead th {\n",
       "        text-align: right;\n",
       "    }\n",
       "</style>\n",
       "<table border=\"1\" class=\"dataframe\">\n",
       "  <thead>\n",
       "    <tr style=\"text-align: right;\">\n",
       "      <th></th>\n",
       "      <th>other</th>\n",
       "      <th>black</th>\n",
       "      <th>white</th>\n",
       "      <th>asian/pacific islander</th>\n",
       "      <th>unknown</th>\n",
       "      <th>hispanic</th>\n",
       "    </tr>\n",
       "    <tr>\n",
       "      <th>regions</th>\n",
       "      <th></th>\n",
       "      <th></th>\n",
       "      <th></th>\n",
       "      <th></th>\n",
       "      <th></th>\n",
       "      <th></th>\n",
       "    </tr>\n",
       "  </thead>\n",
       "  <tbody>\n",
       "    <tr>\n",
       "      <th>CT</th>\n",
       "      <td>105</td>\n",
       "      <td>11807</td>\n",
       "      <td>23868</td>\n",
       "      <td>383</td>\n",
       "      <td>0</td>\n",
       "      <td>9833</td>\n",
       "    </tr>\n",
       "    <tr>\n",
       "      <th>RI</th>\n",
       "      <td>15</td>\n",
       "      <td>4310</td>\n",
       "      <td>9968</td>\n",
       "      <td>280</td>\n",
       "      <td>0</td>\n",
       "      <td>3189</td>\n",
       "    </tr>\n",
       "    <tr>\n",
       "      <th>CA</th>\n",
       "      <td>3746</td>\n",
       "      <td>23622</td>\n",
       "      <td>11707</td>\n",
       "      <td>2861</td>\n",
       "      <td>0</td>\n",
       "      <td>11445</td>\n",
       "    </tr>\n",
       "    <tr>\n",
       "      <th>AZ</th>\n",
       "      <td>17025</td>\n",
       "      <td>21402</td>\n",
       "      <td>85432</td>\n",
       "      <td>2311</td>\n",
       "      <td>1162</td>\n",
       "      <td>83475</td>\n",
       "    </tr>\n",
       "    <tr>\n",
       "      <th>WI</th>\n",
       "      <td>412</td>\n",
       "      <td>2720</td>\n",
       "      <td>9693</td>\n",
       "      <td>257</td>\n",
       "      <td>0</td>\n",
       "      <td>1080</td>\n",
       "    </tr>\n",
       "    <tr>\n",
       "      <th>NC</th>\n",
       "      <td>96</td>\n",
       "      <td>20654</td>\n",
       "      <td>8901</td>\n",
       "      <td>258</td>\n",
       "      <td>199</td>\n",
       "      <td>1828</td>\n",
       "    </tr>\n",
       "    <tr>\n",
       "      <th>LA</th>\n",
       "      <td>29</td>\n",
       "      <td>57940</td>\n",
       "      <td>15296</td>\n",
       "      <td>205</td>\n",
       "      <td>188</td>\n",
       "      <td>1668</td>\n",
       "    </tr>\n",
       "    <tr>\n",
       "      <th>MT</th>\n",
       "      <td>635</td>\n",
       "      <td>151</td>\n",
       "      <td>2554</td>\n",
       "      <td>52</td>\n",
       "      <td>3</td>\n",
       "      <td>226</td>\n",
       "    </tr>\n",
       "    <tr>\n",
       "      <th>MD</th>\n",
       "      <td>1498</td>\n",
       "      <td>44441</td>\n",
       "      <td>48900</td>\n",
       "      <td>1291</td>\n",
       "      <td>91</td>\n",
       "      <td>8704</td>\n",
       "    </tr>\n",
       "    <tr>\n",
       "      <th>VT</th>\n",
       "      <td>11</td>\n",
       "      <td>273</td>\n",
       "      <td>2741</td>\n",
       "      <td>27</td>\n",
       "      <td>1</td>\n",
       "      <td>99</td>\n",
       "    </tr>\n",
       "    <tr>\n",
       "      <th>TN</th>\n",
       "      <td>243</td>\n",
       "      <td>67985</td>\n",
       "      <td>47826</td>\n",
       "      <td>833</td>\n",
       "      <td>590</td>\n",
       "      <td>10165</td>\n",
       "    </tr>\n",
       "    <tr>\n",
       "      <th>MA</th>\n",
       "      <td>288</td>\n",
       "      <td>8428</td>\n",
       "      <td>34435</td>\n",
       "      <td>1539</td>\n",
       "      <td>26</td>\n",
       "      <td>10944</td>\n",
       "    </tr>\n",
       "  </tbody>\n",
       "</table>\n",
       "</div>"
      ],
      "text/plain": [
       "         other  black  white  asian/pacific islander  unknown  hispanic\n",
       "regions                                                                \n",
       "CT         105  11807  23868                     383        0      9833\n",
       "RI          15   4310   9968                     280        0      3189\n",
       "CA        3746  23622  11707                    2861        0     11445\n",
       "AZ       17025  21402  85432                    2311     1162     83475\n",
       "WI         412   2720   9693                     257        0      1080\n",
       "NC          96  20654   8901                     258      199      1828\n",
       "LA          29  57940  15296                     205      188      1668\n",
       "MT         635    151   2554                      52        3       226\n",
       "MD        1498  44441  48900                    1291       91      8704\n",
       "VT          11    273   2741                      27        1        99\n",
       "TN         243  67985  47826                     833      590     10165\n",
       "MA         288   8428  34435                    1539       26     10944"
      ]
     },
     "execution_count": 111,
     "metadata": {},
     "output_type": "execute_result"
    }
   ],
   "source": [
    "results_df_searches"
   ]
  },
  {
   "cell_type": "code",
   "execution_count": 14,
   "metadata": {},
   "outputs": [],
   "source": [
    "results_df_searches = results_df_searches.copy()\n",
    "for col in results_df_race.columns[0:]:\n",
    "    results_df_searches[col] = results_df_searches[col] / results_df_race[col].replace(0, 1)  # Avoid division by zero\n",
    "\n",
    "results_df_arrests = results_df_arrests.copy()\n",
    "for col in results_df_race.columns[0:]:\n",
    "    results_df_arrests[col] = results_df_arrests[col] / results_df_race[col].replace(0, 1)  # Avoid division by zero\n",
    "    \n",
    "results_df_citations = results_df_citations.copy()\n",
    "for col in results_df_race.columns[0:]:\n",
    "    results_df_citations[col] = results_df_citations[col] / results_df_race[col].replace(0, 1)  # Avoid division by zero\n",
    "    \n",
    "results_df_warnings = results_df_warnings.copy()\n",
    "for col in results_df_race.columns[0:]:\n",
    "    results_df_warnings[col] = results_df_warnings[col] / results_df_race[col].replace(0, 1)  # Avoid division by zero"
   ]
  },
  {
   "cell_type": "code",
   "execution_count": 113,
   "metadata": {},
   "outputs": [],
   "source": [
    "df_new = results_df_searches.stack().reset_index()\n",
    "df_new.columns = ['index', 'Subject_Sex', 'Search_Rate']\n",
    "df_new = df_new[['Search_Rate', 'Subject_Sex']]\n",
    "df_new.rename_axis('regions', inplace=True)\n",
    "df_new.to_csv('sex_results_searches_h3_a.csv')\n",
    "\n",
    "df_new = results_df_warnings.stack().reset_index()\n",
    "df_new.columns = ['index', 'Subject_Sex', 'Warning_Rate']\n",
    "df_new = df_new[['Warning_Rate', 'Subject_Sex']]\n",
    "df_new.rename_axis('regions', inplace=True)\n",
    "df_new.to_csv('sex_results_warning_h3_a.csv')\n",
    "\n",
    "df_new = results_df_arrests.stack().reset_index()\n",
    "df_new.columns = ['index', 'Subject_Sex', 'Arrest_Rate']\n",
    "df_new = df_new[['Arrest_Rate', 'Subject_Sex']]\n",
    "df_new.rename_axis('regions', inplace=True)\n",
    "df_new.to_csv('sex_results_arrest_h3_a.csv')\n",
    "\n",
    "df_new = results_df_citations.stack().reset_index()\n",
    "df_new.columns = ['index', 'Subject_Sex', 'Citation_Rate']\n",
    "df_new = df_new[['Citation_Rate', 'Subject_Sex']]\n",
    "df_new.rename_axis('regions', inplace=True)\n",
    "df_new.to_csv('sex_results_citations_h3_a.csv')"
   ]
  }
 ],
 "metadata": {
  "kernelspec": {
   "display_name": "base",
   "language": "python",
   "name": "python3"
  },
  "language_info": {
   "codemirror_mode": {
    "name": "ipython",
    "version": 3
   },
   "file_extension": ".py",
   "mimetype": "text/x-python",
   "name": "python",
   "nbconvert_exporter": "python",
   "pygments_lexer": "ipython3",
   "version": "3.11.6"
  }
 },
 "nbformat": 4,
 "nbformat_minor": 2
}
